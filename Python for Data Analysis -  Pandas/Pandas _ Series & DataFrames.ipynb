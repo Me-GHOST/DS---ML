{
 "cells":[
  {
   "cell_type":"markdown",
   "source":[
    "# Pandas Series"
   ],
   "attachments":{
    
   },
   "metadata":{
    "datalore":{
     "sheet_delimiter":true
    }
   }
  },
  {
   "cell_type":"markdown",
   "source":[
    "# Pandas Series"
   ],
   "attachments":{
    
   },
   "metadata":{
    "datalore":{
     "type":"MD",
     "hide_input_from_viewers":false,
     "hide_output_from_viewers":false,
     "node_id":"H12VAewRtiP3XIcvtFKX8m"
    }
   }
  },
  {
   "cell_type":"code",
   "source":[
    "import numpy as np\n",
    "import pandas as pd"
   ],
   "execution_count":1,
   "outputs":[
    
   ],
   "metadata":{
    "datalore":{
     "type":"CODE",
     "hide_input_from_viewers":false,
     "hide_output_from_viewers":false,
     "node_id":"giMHwX4YXApu3v8c73YaFM"
    }
   }
  },
  {
   "cell_type":"code",
   "source":[
    "lebels = [\"a\", \"b\", \"c\"]\n",
    "my_list = [10,20,30]\n",
    "arr = np.array(my_list)\n",
    "d = {'a' : 10, 'b' : 20, 'c': 30}\n",
    "arr"
   ],
   "execution_count":2,
   "outputs":[
    {
     "data":{
      "text\/html":[
       
      ]
     },
     "metadata":{
      
     },
     "output_type":"display_data"
    }
   ],
   "metadata":{
    "datalore":{
     "type":"CODE",
     "hide_input_from_viewers":false,
     "hide_output_from_viewers":false,
     "node_id":"4c1LONapWHFvvIhYPL57O3"
    }
   }
  },
  {
   "cell_type":"code",
   "source":[
    "seires = pd.Series(data=my_list,index=lebels)\n",
    "seires"
   ],
   "execution_count":3,
   "outputs":[
    {
     "data":{
      "text\/html":[
       
      ]
     },
     "metadata":{
      
     },
     "output_type":"display_data"
    }
   ],
   "metadata":{
    "datalore":{
     "type":"CODE",
     "hide_input_from_viewers":false,
     "hide_output_from_viewers":false,
     "node_id":"Bmtq5s65hyDSlaXCj1GGKN"
    }
   }
  },
  {
   "cell_type":"code",
   "source":[
    "# Pandas Series works both with Python List and numpy arrays :)\n",
    "seires = pd.Series(arr,lebels)"
   ],
   "execution_count":4,
   "outputs":[
    
   ],
   "metadata":{
    "datalore":{
     "type":"CODE",
     "hide_input_from_viewers":false,
     "hide_output_from_viewers":false,
     "node_id":"ued4uhwx1aRmQ4UFjq6Pr0"
    }
   }
  },
  {
   "cell_type":"code",
   "source":[
    "# You even can use dictionary to create a Pandas Series\n",
    "pd.Series(d)"
   ],
   "execution_count":5,
   "outputs":[
    {
     "data":{
      "text\/html":[
       
      ]
     },
     "metadata":{
      
     },
     "output_type":"display_data"
    }
   ],
   "metadata":{
    "datalore":{
     "type":"CODE",
     "hide_input_from_viewers":false,
     "hide_output_from_viewers":false,
     "node_id":"BovslMBNVx0fDZHrCNPFLp"
    }
   }
  },
  {
   "cell_type":"code",
   "source":[
    "type(d)"
   ],
   "execution_count":6,
   "outputs":[
    {
     "data":{
      "text\/plain":[
       "dict"
      ]
     },
     "metadata":{
      
     },
     "output_type":"display_data"
    }
   ],
   "metadata":{
    "datalore":{
     "type":"CODE",
     "hide_input_from_viewers":false,
     "hide_output_from_viewers":false,
     "node_id":"Vmv0wZht5NeLrASbr72yCm"
    }
   }
  },
  {
   "cell_type":"code",
   "source":[
    "ser1 = pd.Series([1,2,3,4], ['USA', 'Germany', 'USSR', 'Japan'])\n",
    "ser1"
   ],
   "execution_count":7,
   "outputs":[
    {
     "data":{
      "text\/html":[
       
      ]
     },
     "metadata":{
      
     },
     "output_type":"display_data"
    }
   ],
   "metadata":{
    "datalore":{
     "type":"CODE",
     "hide_input_from_viewers":false,
     "hide_output_from_viewers":false,
     "node_id":"FGnMcH7uHwP9eAlg4QRZMv"
    }
   }
  },
  {
   "cell_type":"code",
   "source":[
    "ser2 = pd.Series([1,2,5,4], ['USA', 'Germany', 'Italy', 'Japan'])\n",
    "ser2"
   ],
   "execution_count":8,
   "outputs":[
    {
     "data":{
      "text\/html":[
       
      ]
     },
     "metadata":{
      
     },
     "output_type":"display_data"
    }
   ],
   "metadata":{
    "datalore":{
     "type":"CODE",
     "hide_input_from_viewers":false,
     "hide_output_from_viewers":false,
     "node_id":"4qlPXnL1LhCsQWVXhn0lsq"
    }
   }
  },
  {
   "cell_type":"code",
   "source":[
    "#same like python list, you can get a elemnet from a list by calling the index\n",
    "ser2['Italy']\n",
    "#here the index is a str value "
   ],
   "execution_count":9,
   "outputs":[
    {
     "data":{
      "text\/plain":[
       "5"
      ]
     },
     "metadata":{
      
     },
     "output_type":"display_data"
    }
   ],
   "metadata":{
    "datalore":{
     "type":"CODE",
     "hide_input_from_viewers":false,
     "hide_output_from_viewers":false,
     "node_id":"cIo2Lm4tEXwHhqXiQqF4bb"
    }
   }
  },
  {
   "cell_type":"code",
   "source":[
    "#You can addition 2 series, it will give the output of addition accoeding to the indices , if indices ain't same, it'll then return nan , nan = null\/None\n",
    "ser1 + ser2\n",
    "#performing any operation on any numpy or pandas based object , integer values convert to float to avoid loosing data, just like mentioned below"
   ],
   "execution_count":10,
   "outputs":[
    {
     "data":{
      "text\/html":[
       
      ]
     },
     "metadata":{
      
     },
     "output_type":"display_data"
    }
   ],
   "metadata":{
    "datalore":{
     "type":"CODE",
     "hide_input_from_viewers":false,
     "hide_output_from_viewers":false,
     "node_id":"TZEWRMft243CBtMhZjzsiu"
    }
   }
  },
  {
   "cell_type":"code",
   "source":[
    
   ],
   "execution_count":0,
   "outputs":[
    
   ],
   "metadata":{
    "datalore":{
     "type":"CODE",
     "hide_input_from_viewers":false,
     "hide_output_from_viewers":false,
     "node_id":"CaM7VYDGgmZdM2hdTkIx34"
    }
   }
  },
  {
   "cell_type":"markdown",
   "source":[
    "# DataFrames pt. 1"
   ],
   "attachments":{
    
   },
   "metadata":{
    "datalore":{
     "sheet_delimiter":true
    }
   }
  },
  {
   "cell_type":"markdown",
   "source":[
    "# Pandas - DataFrames Part 1 "
   ],
   "attachments":{
    
   },
   "metadata":{
    "datalore":{
     "type":"MD",
     "hide_input_from_viewers":false,
     "hide_output_from_viewers":false,
     "node_id":"qvy7u4xL5k9V4EyYr5YDMd"
    }
   }
  },
  {
   "cell_type":"code",
   "source":[
    "import numpy as np\n",
    "import pandas as pd"
   ],
   "execution_count":11,
   "outputs":[
    
   ],
   "metadata":{
    "datalore":{
     "type":"CODE",
     "hide_input_from_viewers":false,
     "hide_output_from_viewers":false,
     "node_id":"LMK30faZOJpeKywzWd3vQ2"
    }
   }
  },
  {
   "cell_type":"code",
   "source":[
    "from numpy.random import randn"
   ],
   "execution_count":12,
   "outputs":[
    
   ],
   "metadata":{
    "datalore":{
     "type":"CODE",
     "hide_input_from_viewers":false,
     "hide_output_from_viewers":false,
     "node_id":"MhjvvrlB7wFBbgasbR7k3J"
    }
   }
  },
  {
   "cell_type":"code",
   "source":[
    "np.random.seed(101)"
   ],
   "execution_count":13,
   "outputs":[
    
   ],
   "metadata":{
    "datalore":{
     "type":"CODE",
     "hide_input_from_viewers":false,
     "hide_output_from_viewers":false,
     "node_id":"4iWmdKOgsGyyaASZ8ry8h8"
    }
   }
  },
  {
   "cell_type":"code",
   "source":[
    "#creating a dataframe\n",
    "df = pd.DataFrame(randn(5,4),[\"A\", \"B\", \"C\", \"D\", \"E\"],[\"W\", \"X\", \"Y\", \"Z\"])\n",
    "df"
   ],
   "execution_count":14,
   "outputs":[
    {
     "data":{
      "text\/html":[
       "<div>\n",
       "<style scoped>\n",
       "    .dataframe tbody tr th:only-of-type {\n",
       "        vertical-align: middle;\n",
       "    }\n",
       "\n",
       "    .dataframe tbody tr th {\n",
       "        vertical-align: top;\n",
       "    }\n",
       "\n",
       "    .dataframe thead th {\n",
       "        text-align: right;\n",
       "    }\n",
       "<\/style>\n",
       "<table border=\"1\" class=\"dataframe\">\n",
       "  <thead>\n",
       "    <tr style=\"text-align: right;\">\n",
       "      <th><\/th>\n",
       "      <th>W<\/th>\n",
       "      <th>X<\/th>\n",
       "      <th>Y<\/th>\n",
       "      <th>Z<\/th>\n",
       "    <\/tr>\n",
       "  <\/thead>\n",
       "  <tbody>\n",
       "    <tr>\n",
       "      <th>A<\/th>\n",
       "      <td>2.706850<\/td>\n",
       "      <td>0.628133<\/td>\n",
       "      <td>0.907969<\/td>\n",
       "      <td>0.503826<\/td>\n",
       "    <\/tr>\n",
       "    <tr>\n",
       "      <th>B<\/th>\n",
       "      <td>0.651118<\/td>\n",
       "      <td>-0.319318<\/td>\n",
       "      <td>-0.848077<\/td>\n",
       "      <td>0.605965<\/td>\n",
       "    <\/tr>\n",
       "    <tr>\n",
       "      <th>C<\/th>\n",
       "      <td>-2.018168<\/td>\n",
       "      <td>0.740122<\/td>\n",
       "      <td>0.528813<\/td>\n",
       "      <td>-0.589001<\/td>\n",
       "    <\/tr>\n",
       "    <tr>\n",
       "      <th>D<\/th>\n",
       "      <td>0.188695<\/td>\n",
       "      <td>-0.758872<\/td>\n",
       "      <td>-0.933237<\/td>\n",
       "      <td>0.955057<\/td>\n",
       "    <\/tr>\n",
       "    <tr>\n",
       "      <th>E<\/th>\n",
       "      <td>0.190794<\/td>\n",
       "      <td>1.978757<\/td>\n",
       "      <td>2.605967<\/td>\n",
       "      <td>0.683509<\/td>\n",
       "    <\/tr>\n",
       "  <\/tbody>\n",
       "<\/table>\n",
       "<\/div>"
      ]
     },
     "metadata":{
      
     },
     "output_type":"display_data"
    }
   ],
   "metadata":{
    "datalore":{
     "type":"CODE",
     "hide_input_from_viewers":false,
     "hide_output_from_viewers":false,
     "node_id":"GNvjVrXUjPjrqmz13ukMN2"
    }
   }
  },
  {
   "cell_type":"code",
   "source":[
    "#every column on the dataframe I created above is a pandas-series afterall \n",
    "\n",
    "df['W']"
   ],
   "execution_count":15,
   "outputs":[
    {
     "data":{
      "text\/html":[
       
      ]
     },
     "metadata":{
      
     },
     "output_type":"display_data"
    }
   ],
   "metadata":{
    "datalore":{
     "type":"CODE",
     "hide_input_from_viewers":false,
     "hide_output_from_viewers":false,
     "node_id":"jsvdPV4n9SiCISd7z5AovB"
    }
   }
  },
  {
   "cell_type":"code",
   "source":[
    "type(df['W'])"
   ],
   "execution_count":16,
   "outputs":[
    {
     "data":{
      "text\/plain":[
       "pandas.core.series.Series"
      ]
     },
     "metadata":{
      
     },
     "output_type":"display_data"
    }
   ],
   "metadata":{
    "datalore":{
     "type":"CODE",
     "hide_input_from_viewers":false,
     "hide_output_from_viewers":false,
     "node_id":"PD6Ie3OZsoMl9WmJvbKrl0"
    }
   }
  },
  {
   "cell_type":"code",
   "source":[
    "type(df)"
   ],
   "execution_count":17,
   "outputs":[
    {
     "data":{
      "text\/plain":[
       "pandas.core.frame.DataFrame"
      ]
     },
     "metadata":{
      
     },
     "output_type":"display_data"
    }
   ],
   "metadata":{
    "datalore":{
     "type":"CODE",
     "hide_input_from_viewers":false,
     "hide_output_from_viewers":false,
     "node_id":"vmIHOlr0BOI1oJS2RiArYS"
    }
   }
  },
  {
   "cell_type":"code",
   "source":[
    "#You can create a new column just by mentioning it , eg. below\n",
    "df[\"New\"] = df[\"X\"] + df[\"Z\"]\n",
    "df"
   ],
   "execution_count":18,
   "outputs":[
    {
     "data":{
      "text\/html":[
       "<div>\n",
       "<style scoped>\n",
       "    .dataframe tbody tr th:only-of-type {\n",
       "        vertical-align: middle;\n",
       "    }\n",
       "\n",
       "    .dataframe tbody tr th {\n",
       "        vertical-align: top;\n",
       "    }\n",
       "\n",
       "    .dataframe thead th {\n",
       "        text-align: right;\n",
       "    }\n",
       "<\/style>\n",
       "<table border=\"1\" class=\"dataframe\">\n",
       "  <thead>\n",
       "    <tr style=\"text-align: right;\">\n",
       "      <th><\/th>\n",
       "      <th>W<\/th>\n",
       "      <th>X<\/th>\n",
       "      <th>Y<\/th>\n",
       "      <th>Z<\/th>\n",
       "      <th>New<\/th>\n",
       "    <\/tr>\n",
       "  <\/thead>\n",
       "  <tbody>\n",
       "    <tr>\n",
       "      <th>A<\/th>\n",
       "      <td>2.706850<\/td>\n",
       "      <td>0.628133<\/td>\n",
       "      <td>0.907969<\/td>\n",
       "      <td>0.503826<\/td>\n",
       "      <td>1.131958<\/td>\n",
       "    <\/tr>\n",
       "    <tr>\n",
       "      <th>B<\/th>\n",
       "      <td>0.651118<\/td>\n",
       "      <td>-0.319318<\/td>\n",
       "      <td>-0.848077<\/td>\n",
       "      <td>0.605965<\/td>\n",
       "      <td>0.286647<\/td>\n",
       "    <\/tr>\n",
       "    <tr>\n",
       "      <th>C<\/th>\n",
       "      <td>-2.018168<\/td>\n",
       "      <td>0.740122<\/td>\n",
       "      <td>0.528813<\/td>\n",
       "      <td>-0.589001<\/td>\n",
       "      <td>0.151122<\/td>\n",
       "    <\/tr>\n",
       "    <tr>\n",
       "      <th>D<\/th>\n",
       "      <td>0.188695<\/td>\n",
       "      <td>-0.758872<\/td>\n",
       "      <td>-0.933237<\/td>\n",
       "      <td>0.955057<\/td>\n",
       "      <td>0.196184<\/td>\n",
       "    <\/tr>\n",
       "    <tr>\n",
       "      <th>E<\/th>\n",
       "      <td>0.190794<\/td>\n",
       "      <td>1.978757<\/td>\n",
       "      <td>2.605967<\/td>\n",
       "      <td>0.683509<\/td>\n",
       "      <td>2.662266<\/td>\n",
       "    <\/tr>\n",
       "  <\/tbody>\n",
       "<\/table>\n",
       "<\/div>"
      ]
     },
     "metadata":{
      
     },
     "output_type":"display_data"
    }
   ],
   "metadata":{
    "datalore":{
     "type":"CODE",
     "hide_input_from_viewers":false,
     "hide_output_from_viewers":false,
     "node_id":"FU6d06ZXic8y9L812f04Jd"
    }
   }
  },
  {
   "cell_type":"code",
   "source":[
    "#to remove a column, the .drop method is being used, to be noted you've to select the axis for it, axis 0 is for rows and axis 1 is for columns\n",
    "\n",
    "df.drop(\"New\",axis=1)"
   ],
   "execution_count":19,
   "outputs":[
    {
     "data":{
      "text\/html":[
       "<div>\n",
       "<style scoped>\n",
       "    .dataframe tbody tr th:only-of-type {\n",
       "        vertical-align: middle;\n",
       "    }\n",
       "\n",
       "    .dataframe tbody tr th {\n",
       "        vertical-align: top;\n",
       "    }\n",
       "\n",
       "    .dataframe thead th {\n",
       "        text-align: right;\n",
       "    }\n",
       "<\/style>\n",
       "<table border=\"1\" class=\"dataframe\">\n",
       "  <thead>\n",
       "    <tr style=\"text-align: right;\">\n",
       "      <th><\/th>\n",
       "      <th>W<\/th>\n",
       "      <th>X<\/th>\n",
       "      <th>Y<\/th>\n",
       "      <th>Z<\/th>\n",
       "    <\/tr>\n",
       "  <\/thead>\n",
       "  <tbody>\n",
       "    <tr>\n",
       "      <th>A<\/th>\n",
       "      <td>2.706850<\/td>\n",
       "      <td>0.628133<\/td>\n",
       "      <td>0.907969<\/td>\n",
       "      <td>0.503826<\/td>\n",
       "    <\/tr>\n",
       "    <tr>\n",
       "      <th>B<\/th>\n",
       "      <td>0.651118<\/td>\n",
       "      <td>-0.319318<\/td>\n",
       "      <td>-0.848077<\/td>\n",
       "      <td>0.605965<\/td>\n",
       "    <\/tr>\n",
       "    <tr>\n",
       "      <th>C<\/th>\n",
       "      <td>-2.018168<\/td>\n",
       "      <td>0.740122<\/td>\n",
       "      <td>0.528813<\/td>\n",
       "      <td>-0.589001<\/td>\n",
       "    <\/tr>\n",
       "    <tr>\n",
       "      <th>D<\/th>\n",
       "      <td>0.188695<\/td>\n",
       "      <td>-0.758872<\/td>\n",
       "      <td>-0.933237<\/td>\n",
       "      <td>0.955057<\/td>\n",
       "    <\/tr>\n",
       "    <tr>\n",
       "      <th>E<\/th>\n",
       "      <td>0.190794<\/td>\n",
       "      <td>1.978757<\/td>\n",
       "      <td>2.605967<\/td>\n",
       "      <td>0.683509<\/td>\n",
       "    <\/tr>\n",
       "  <\/tbody>\n",
       "<\/table>\n",
       "<\/div>"
      ]
     },
     "metadata":{
      
     },
     "output_type":"display_data"
    }
   ],
   "metadata":{
    "datalore":{
     "type":"CODE",
     "hide_input_from_viewers":false,
     "hide_output_from_viewers":false,
     "node_id":"mFwjsPbMaINBNn8I82FOBc"
    }
   }
  },
  {
   "cell_type":"code",
   "source":[
    "#althouh , .drop function isn't in place , that means it will not change the source file \n",
    "df"
   ],
   "execution_count":20,
   "outputs":[
    {
     "data":{
      "text\/html":[
       "<div>\n",
       "<style scoped>\n",
       "    .dataframe tbody tr th:only-of-type {\n",
       "        vertical-align: middle;\n",
       "    }\n",
       "\n",
       "    .dataframe tbody tr th {\n",
       "        vertical-align: top;\n",
       "    }\n",
       "\n",
       "    .dataframe thead th {\n",
       "        text-align: right;\n",
       "    }\n",
       "<\/style>\n",
       "<table border=\"1\" class=\"dataframe\">\n",
       "  <thead>\n",
       "    <tr style=\"text-align: right;\">\n",
       "      <th><\/th>\n",
       "      <th>W<\/th>\n",
       "      <th>X<\/th>\n",
       "      <th>Y<\/th>\n",
       "      <th>Z<\/th>\n",
       "      <th>New<\/th>\n",
       "    <\/tr>\n",
       "  <\/thead>\n",
       "  <tbody>\n",
       "    <tr>\n",
       "      <th>A<\/th>\n",
       "      <td>2.706850<\/td>\n",
       "      <td>0.628133<\/td>\n",
       "      <td>0.907969<\/td>\n",
       "      <td>0.503826<\/td>\n",
       "      <td>1.131958<\/td>\n",
       "    <\/tr>\n",
       "    <tr>\n",
       "      <th>B<\/th>\n",
       "      <td>0.651118<\/td>\n",
       "      <td>-0.319318<\/td>\n",
       "      <td>-0.848077<\/td>\n",
       "      <td>0.605965<\/td>\n",
       "      <td>0.286647<\/td>\n",
       "    <\/tr>\n",
       "    <tr>\n",
       "      <th>C<\/th>\n",
       "      <td>-2.018168<\/td>\n",
       "      <td>0.740122<\/td>\n",
       "      <td>0.528813<\/td>\n",
       "      <td>-0.589001<\/td>\n",
       "      <td>0.151122<\/td>\n",
       "    <\/tr>\n",
       "    <tr>\n",
       "      <th>D<\/th>\n",
       "      <td>0.188695<\/td>\n",
       "      <td>-0.758872<\/td>\n",
       "      <td>-0.933237<\/td>\n",
       "      <td>0.955057<\/td>\n",
       "      <td>0.196184<\/td>\n",
       "    <\/tr>\n",
       "    <tr>\n",
       "      <th>E<\/th>\n",
       "      <td>0.190794<\/td>\n",
       "      <td>1.978757<\/td>\n",
       "      <td>2.605967<\/td>\n",
       "      <td>0.683509<\/td>\n",
       "      <td>2.662266<\/td>\n",
       "    <\/tr>\n",
       "  <\/tbody>\n",
       "<\/table>\n",
       "<\/div>"
      ]
     },
     "metadata":{
      
     },
     "output_type":"display_data"
    }
   ],
   "metadata":{
    "datalore":{
     "type":"CODE",
     "hide_input_from_viewers":false,
     "hide_output_from_viewers":false,
     "node_id":"U1oE2kaBYjm0Hwq3aMw8my"
    }
   }
  },
  {
   "cell_type":"code",
   "source":[
    "#to modify the source file, you've to set the implace = True\n",
    "df.drop(\"New\", axis= 1, inplace = True)\n",
    "df"
   ],
   "execution_count":21,
   "outputs":[
    {
     "data":{
      "text\/html":[
       "<div>\n",
       "<style scoped>\n",
       "    .dataframe tbody tr th:only-of-type {\n",
       "        vertical-align: middle;\n",
       "    }\n",
       "\n",
       "    .dataframe tbody tr th {\n",
       "        vertical-align: top;\n",
       "    }\n",
       "\n",
       "    .dataframe thead th {\n",
       "        text-align: right;\n",
       "    }\n",
       "<\/style>\n",
       "<table border=\"1\" class=\"dataframe\">\n",
       "  <thead>\n",
       "    <tr style=\"text-align: right;\">\n",
       "      <th><\/th>\n",
       "      <th>W<\/th>\n",
       "      <th>X<\/th>\n",
       "      <th>Y<\/th>\n",
       "      <th>Z<\/th>\n",
       "    <\/tr>\n",
       "  <\/thead>\n",
       "  <tbody>\n",
       "    <tr>\n",
       "      <th>A<\/th>\n",
       "      <td>2.706850<\/td>\n",
       "      <td>0.628133<\/td>\n",
       "      <td>0.907969<\/td>\n",
       "      <td>0.503826<\/td>\n",
       "    <\/tr>\n",
       "    <tr>\n",
       "      <th>B<\/th>\n",
       "      <td>0.651118<\/td>\n",
       "      <td>-0.319318<\/td>\n",
       "      <td>-0.848077<\/td>\n",
       "      <td>0.605965<\/td>\n",
       "    <\/tr>\n",
       "    <tr>\n",
       "      <th>C<\/th>\n",
       "      <td>-2.018168<\/td>\n",
       "      <td>0.740122<\/td>\n",
       "      <td>0.528813<\/td>\n",
       "      <td>-0.589001<\/td>\n",
       "    <\/tr>\n",
       "    <tr>\n",
       "      <th>D<\/th>\n",
       "      <td>0.188695<\/td>\n",
       "      <td>-0.758872<\/td>\n",
       "      <td>-0.933237<\/td>\n",
       "      <td>0.955057<\/td>\n",
       "    <\/tr>\n",
       "    <tr>\n",
       "      <th>E<\/th>\n",
       "      <td>0.190794<\/td>\n",
       "      <td>1.978757<\/td>\n",
       "      <td>2.605967<\/td>\n",
       "      <td>0.683509<\/td>\n",
       "    <\/tr>\n",
       "  <\/tbody>\n",
       "<\/table>\n",
       "<\/div>"
      ]
     },
     "metadata":{
      
     },
     "output_type":"display_data"
    }
   ],
   "metadata":{
    "datalore":{
     "type":"CODE",
     "hide_input_from_viewers":false,
     "hide_output_from_viewers":false,
     "node_id":"vjIQe4aGHFvEH609qDd6VI"
    }
   }
  },
  {
   "cell_type":"code",
   "source":[
    "#to grab a series from a dataframe by their rows \n",
    "df.loc['C']"
   ],
   "execution_count":22,
   "outputs":[
    {
     "data":{
      "text\/html":[
       
      ]
     },
     "metadata":{
      
     },
     "output_type":"display_data"
    }
   ],
   "metadata":{
    "datalore":{
     "type":"CODE",
     "hide_input_from_viewers":false,
     "hide_output_from_viewers":false,
     "node_id":"OuP5ehr9C7oNuyB3TM831I"
    }
   }
  },
  {
   "cell_type":"code",
   "source":[
    "#to grab a series from a dataframe by their rows by using number\n",
    "df.iloc[2]"
   ],
   "execution_count":23,
   "outputs":[
    {
     "data":{
      "text\/html":[
       
      ]
     },
     "metadata":{
      
     },
     "output_type":"display_data"
    }
   ],
   "metadata":{
    "datalore":{
     "type":"CODE",
     "hide_input_from_viewers":false,
     "hide_output_from_viewers":false,
     "node_id":"M57BrJzFvZDYS3RbuI7dy1"
    }
   }
  },
  {
   "cell_type":"code",
   "source":[
    "#to grab a perticular value ,mention both row and column\n",
    "df.loc[\"A\", \"Z\"]"
   ],
   "execution_count":24,
   "outputs":[
    {
     "data":{
      "text\/plain":[
       "0.5038257538223936"
      ]
     },
     "metadata":{
      
     },
     "output_type":"display_data"
    }
   ],
   "metadata":{
    "datalore":{
     "type":"CODE",
     "hide_input_from_viewers":false,
     "hide_output_from_viewers":false,
     "node_id":"de4ohw3j7Nk5s5aoQx1Tth"
    }
   }
  },
  {
   "cell_type":"code",
   "source":[
    "#to get a whole lot of rows and columns\n",
    "df.loc[[\"A\", \"C\"],[\"Y\", \"Z\"]]"
   ],
   "execution_count":25,
   "outputs":[
    {
     "data":{
      "text\/html":[
       "<div>\n",
       "<style scoped>\n",
       "    .dataframe tbody tr th:only-of-type {\n",
       "        vertical-align: middle;\n",
       "    }\n",
       "\n",
       "    .dataframe tbody tr th {\n",
       "        vertical-align: top;\n",
       "    }\n",
       "\n",
       "    .dataframe thead th {\n",
       "        text-align: right;\n",
       "    }\n",
       "<\/style>\n",
       "<table border=\"1\" class=\"dataframe\">\n",
       "  <thead>\n",
       "    <tr style=\"text-align: right;\">\n",
       "      <th><\/th>\n",
       "      <th>Y<\/th>\n",
       "      <th>Z<\/th>\n",
       "    <\/tr>\n",
       "  <\/thead>\n",
       "  <tbody>\n",
       "    <tr>\n",
       "      <th>A<\/th>\n",
       "      <td>0.907969<\/td>\n",
       "      <td>0.503826<\/td>\n",
       "    <\/tr>\n",
       "    <tr>\n",
       "      <th>C<\/th>\n",
       "      <td>0.528813<\/td>\n",
       "      <td>-0.589001<\/td>\n",
       "    <\/tr>\n",
       "  <\/tbody>\n",
       "<\/table>\n",
       "<\/div>"
      ]
     },
     "metadata":{
      
     },
     "output_type":"display_data"
    }
   ],
   "metadata":{
    "datalore":{
     "type":"CODE",
     "hide_input_from_viewers":false,
     "hide_output_from_viewers":false,
     "node_id":"J7LD8R701jMo3FiVpwQ1Jb"
    }
   }
  },
  {
   "cell_type":"code",
   "source":[
    
   ],
   "execution_count":0,
   "outputs":[
    
   ],
   "metadata":{
    "datalore":{
     "type":"CODE",
     "hide_input_from_viewers":false,
     "hide_output_from_viewers":false,
     "node_id":"bcS28bJqKNXKUcAadrhNDs"
    }
   }
  },
  {
   "cell_type":"markdown",
   "source":[
    "# DataFrames pt. 2"
   ],
   "attachments":{
    
   },
   "metadata":{
    "datalore":{
     "sheet_delimiter":true
    }
   }
  },
  {
   "cell_type":"markdown",
   "source":[
    "# Pandas - DataFrames Part 2 "
   ],
   "attachments":{
    
   },
   "metadata":{
    "datalore":{
     "type":"MD",
     "hide_input_from_viewers":false,
     "hide_output_from_viewers":false,
     "node_id":"aLP5wN1CNuF1gXaPoOudNB"
    }
   }
  },
  {
   "cell_type":"code",
   "source":[
    "import numpy as np\n",
    "import pandas as pd\n",
    "from numpy.random import randn"
   ],
   "execution_count":26,
   "outputs":[
    
   ],
   "metadata":{
    "datalore":{
     "type":"CODE",
     "hide_input_from_viewers":false,
     "hide_output_from_viewers":false,
     "node_id":"jgpgx02jfpt8u7h8YLmyGt"
    }
   }
  },
  {
   "cell_type":"code",
   "source":[
    "np.random.seed(101)"
   ],
   "execution_count":27,
   "outputs":[
    
   ],
   "metadata":{
    "datalore":{
     "type":"CODE",
     "hide_input_from_viewers":false,
     "hide_output_from_viewers":false,
     "node_id":"XPGCYs5bx9XkY1HCjClgZV"
    }
   }
  },
  {
   "cell_type":"code",
   "source":[
    "df = pd.DataFrame(randn(5,4),[\"A\", \"B\", \"C\", \"D\", \"E\"],[\"W\", \"X\", \"Y\", \"Z\"])\n",
    "df"
   ],
   "execution_count":28,
   "outputs":[
    {
     "data":{
      "text\/html":[
       "<div>\n",
       "<style scoped>\n",
       "    .dataframe tbody tr th:only-of-type {\n",
       "        vertical-align: middle;\n",
       "    }\n",
       "\n",
       "    .dataframe tbody tr th {\n",
       "        vertical-align: top;\n",
       "    }\n",
       "\n",
       "    .dataframe thead th {\n",
       "        text-align: right;\n",
       "    }\n",
       "<\/style>\n",
       "<table border=\"1\" class=\"dataframe\">\n",
       "  <thead>\n",
       "    <tr style=\"text-align: right;\">\n",
       "      <th><\/th>\n",
       "      <th>W<\/th>\n",
       "      <th>X<\/th>\n",
       "      <th>Y<\/th>\n",
       "      <th>Z<\/th>\n",
       "    <\/tr>\n",
       "  <\/thead>\n",
       "  <tbody>\n",
       "    <tr>\n",
       "      <th>A<\/th>\n",
       "      <td>2.706850<\/td>\n",
       "      <td>0.628133<\/td>\n",
       "      <td>0.907969<\/td>\n",
       "      <td>0.503826<\/td>\n",
       "    <\/tr>\n",
       "    <tr>\n",
       "      <th>B<\/th>\n",
       "      <td>0.651118<\/td>\n",
       "      <td>-0.319318<\/td>\n",
       "      <td>-0.848077<\/td>\n",
       "      <td>0.605965<\/td>\n",
       "    <\/tr>\n",
       "    <tr>\n",
       "      <th>C<\/th>\n",
       "      <td>-2.018168<\/td>\n",
       "      <td>0.740122<\/td>\n",
       "      <td>0.528813<\/td>\n",
       "      <td>-0.589001<\/td>\n",
       "    <\/tr>\n",
       "    <tr>\n",
       "      <th>D<\/th>\n",
       "      <td>0.188695<\/td>\n",
       "      <td>-0.758872<\/td>\n",
       "      <td>-0.933237<\/td>\n",
       "      <td>0.955057<\/td>\n",
       "    <\/tr>\n",
       "    <tr>\n",
       "      <th>E<\/th>\n",
       "      <td>0.190794<\/td>\n",
       "      <td>1.978757<\/td>\n",
       "      <td>2.605967<\/td>\n",
       "      <td>0.683509<\/td>\n",
       "    <\/tr>\n",
       "  <\/tbody>\n",
       "<\/table>\n",
       "<\/div>"
      ]
     },
     "metadata":{
      
     },
     "output_type":"display_data"
    }
   ],
   "metadata":{
    "datalore":{
     "type":"CODE",
     "hide_input_from_viewers":false,
     "hide_output_from_viewers":false,
     "node_id":"qGRCAOZzBJyBfpU7HsBSvk"
    }
   }
  },
  {
   "cell_type":"code",
   "source":[
    "# boolean condition\n",
    "df > 0"
   ],
   "execution_count":29,
   "outputs":[
    {
     "data":{
      "text\/html":[
       "<div>\n",
       "<style scoped>\n",
       "    .dataframe tbody tr th:only-of-type {\n",
       "        vertical-align: middle;\n",
       "    }\n",
       "\n",
       "    .dataframe tbody tr th {\n",
       "        vertical-align: top;\n",
       "    }\n",
       "\n",
       "    .dataframe thead th {\n",
       "        text-align: right;\n",
       "    }\n",
       "<\/style>\n",
       "<table border=\"1\" class=\"dataframe\">\n",
       "  <thead>\n",
       "    <tr style=\"text-align: right;\">\n",
       "      <th><\/th>\n",
       "      <th>W<\/th>\n",
       "      <th>X<\/th>\n",
       "      <th>Y<\/th>\n",
       "      <th>Z<\/th>\n",
       "    <\/tr>\n",
       "  <\/thead>\n",
       "  <tbody>\n",
       "    <tr>\n",
       "      <th>A<\/th>\n",
       "      <td>True<\/td>\n",
       "      <td>True<\/td>\n",
       "      <td>True<\/td>\n",
       "      <td>True<\/td>\n",
       "    <\/tr>\n",
       "    <tr>\n",
       "      <th>B<\/th>\n",
       "      <td>True<\/td>\n",
       "      <td>False<\/td>\n",
       "      <td>False<\/td>\n",
       "      <td>True<\/td>\n",
       "    <\/tr>\n",
       "    <tr>\n",
       "      <th>C<\/th>\n",
       "      <td>False<\/td>\n",
       "      <td>True<\/td>\n",
       "      <td>True<\/td>\n",
       "      <td>False<\/td>\n",
       "    <\/tr>\n",
       "    <tr>\n",
       "      <th>D<\/th>\n",
       "      <td>True<\/td>\n",
       "      <td>False<\/td>\n",
       "      <td>False<\/td>\n",
       "      <td>True<\/td>\n",
       "    <\/tr>\n",
       "    <tr>\n",
       "      <th>E<\/th>\n",
       "      <td>True<\/td>\n",
       "      <td>True<\/td>\n",
       "      <td>True<\/td>\n",
       "      <td>True<\/td>\n",
       "    <\/tr>\n",
       "  <\/tbody>\n",
       "<\/table>\n",
       "<\/div>"
      ]
     },
     "metadata":{
      
     },
     "output_type":"display_data"
    }
   ],
   "metadata":{
    "datalore":{
     "type":"CODE",
     "hide_input_from_viewers":false,
     "hide_output_from_viewers":false,
     "node_id":"aK5QhwOoR2HH7qCMiD7Pn8"
    }
   }
  },
  {
   "cell_type":"code",
   "source":[
    "# same as numpy comparing with the original dataframe by creating a new modified dataframe and comparing it to the new one\n",
    "booldf = df > 0\n",
    "booldf"
   ],
   "execution_count":30,
   "outputs":[
    {
     "data":{
      "text\/html":[
       "<div>\n",
       "<style scoped>\n",
       "    .dataframe tbody tr th:only-of-type {\n",
       "        vertical-align: middle;\n",
       "    }\n",
       "\n",
       "    .dataframe tbody tr th {\n",
       "        vertical-align: top;\n",
       "    }\n",
       "\n",
       "    .dataframe thead th {\n",
       "        text-align: right;\n",
       "    }\n",
       "<\/style>\n",
       "<table border=\"1\" class=\"dataframe\">\n",
       "  <thead>\n",
       "    <tr style=\"text-align: right;\">\n",
       "      <th><\/th>\n",
       "      <th>W<\/th>\n",
       "      <th>X<\/th>\n",
       "      <th>Y<\/th>\n",
       "      <th>Z<\/th>\n",
       "    <\/tr>\n",
       "  <\/thead>\n",
       "  <tbody>\n",
       "    <tr>\n",
       "      <th>A<\/th>\n",
       "      <td>True<\/td>\n",
       "      <td>True<\/td>\n",
       "      <td>True<\/td>\n",
       "      <td>True<\/td>\n",
       "    <\/tr>\n",
       "    <tr>\n",
       "      <th>B<\/th>\n",
       "      <td>True<\/td>\n",
       "      <td>False<\/td>\n",
       "      <td>False<\/td>\n",
       "      <td>True<\/td>\n",
       "    <\/tr>\n",
       "    <tr>\n",
       "      <th>C<\/th>\n",
       "      <td>False<\/td>\n",
       "      <td>True<\/td>\n",
       "      <td>True<\/td>\n",
       "      <td>False<\/td>\n",
       "    <\/tr>\n",
       "    <tr>\n",
       "      <th>D<\/th>\n",
       "      <td>True<\/td>\n",
       "      <td>False<\/td>\n",
       "      <td>False<\/td>\n",
       "      <td>True<\/td>\n",
       "    <\/tr>\n",
       "    <tr>\n",
       "      <th>E<\/th>\n",
       "      <td>True<\/td>\n",
       "      <td>True<\/td>\n",
       "      <td>True<\/td>\n",
       "      <td>True<\/td>\n",
       "    <\/tr>\n",
       "  <\/tbody>\n",
       "<\/table>\n",
       "<\/div>"
      ]
     },
     "metadata":{
      
     },
     "output_type":"display_data"
    }
   ],
   "metadata":{
    "datalore":{
     "type":"CODE",
     "hide_input_from_viewers":false,
     "hide_output_from_viewers":false,
     "node_id":"LzHxZqSJGxoy9TnVWRuHE7"
    }
   }
  },
  {
   "cell_type":"code",
   "source":[
    "# comparing with the source\n",
    "df[booldf]"
   ],
   "execution_count":31,
   "outputs":[
    {
     "data":{
      "text\/html":[
       "<div>\n",
       "<style scoped>\n",
       "    .dataframe tbody tr th:only-of-type {\n",
       "        vertical-align: middle;\n",
       "    }\n",
       "\n",
       "    .dataframe tbody tr th {\n",
       "        vertical-align: top;\n",
       "    }\n",
       "\n",
       "    .dataframe thead th {\n",
       "        text-align: right;\n",
       "    }\n",
       "<\/style>\n",
       "<table border=\"1\" class=\"dataframe\">\n",
       "  <thead>\n",
       "    <tr style=\"text-align: right;\">\n",
       "      <th><\/th>\n",
       "      <th>W<\/th>\n",
       "      <th>X<\/th>\n",
       "      <th>Y<\/th>\n",
       "      <th>Z<\/th>\n",
       "    <\/tr>\n",
       "  <\/thead>\n",
       "  <tbody>\n",
       "    <tr>\n",
       "      <th>A<\/th>\n",
       "      <td>2.706850<\/td>\n",
       "      <td>0.628133<\/td>\n",
       "      <td>0.907969<\/td>\n",
       "      <td>0.503826<\/td>\n",
       "    <\/tr>\n",
       "    <tr>\n",
       "      <th>B<\/th>\n",
       "      <td>0.651118<\/td>\n",
       "      <td>NaN<\/td>\n",
       "      <td>NaN<\/td>\n",
       "      <td>0.605965<\/td>\n",
       "    <\/tr>\n",
       "    <tr>\n",
       "      <th>C<\/th>\n",
       "      <td>NaN<\/td>\n",
       "      <td>0.740122<\/td>\n",
       "      <td>0.528813<\/td>\n",
       "      <td>NaN<\/td>\n",
       "    <\/tr>\n",
       "    <tr>\n",
       "      <th>D<\/th>\n",
       "      <td>0.188695<\/td>\n",
       "      <td>NaN<\/td>\n",
       "      <td>NaN<\/td>\n",
       "      <td>0.955057<\/td>\n",
       "    <\/tr>\n",
       "    <tr>\n",
       "      <th>E<\/th>\n",
       "      <td>0.190794<\/td>\n",
       "      <td>1.978757<\/td>\n",
       "      <td>2.605967<\/td>\n",
       "      <td>0.683509<\/td>\n",
       "    <\/tr>\n",
       "  <\/tbody>\n",
       "<\/table>\n",
       "<\/div>"
      ]
     },
     "metadata":{
      
     },
     "output_type":"display_data"
    }
   ],
   "metadata":{
    "datalore":{
     "type":"CODE",
     "hide_input_from_viewers":false,
     "hide_output_from_viewers":false,
     "node_id":"YnzvX3TRNkz5gwXxyNLv8N"
    }
   }
  },
  {
   "cell_type":"code",
   "source":[
    "# doing it on a column series\n",
    "df['W'] > 0"
   ],
   "execution_count":32,
   "outputs":[
    {
     "data":{
      "text\/html":[
       
      ]
     },
     "metadata":{
      
     },
     "output_type":"display_data"
    }
   ],
   "metadata":{
    "datalore":{
     "type":"CODE",
     "hide_input_from_viewers":false,
     "hide_output_from_viewers":false,
     "node_id":"WAbMQ7KEUopzFq0ghe9MyX"
    }
   }
  },
  {
   "cell_type":"code",
   "source":[
    "# getting a row when the condition meeets without 'nan'\n",
    "df[df['W'] > 0]\n",
    "# here on 'W' column, everthing > 0 returned (wihtout the 'nan') along with whole dataframe"
   ],
   "execution_count":33,
   "outputs":[
    {
     "data":{
      "text\/html":[
       "<div>\n",
       "<style scoped>\n",
       "    .dataframe tbody tr th:only-of-type {\n",
       "        vertical-align: middle;\n",
       "    }\n",
       "\n",
       "    .dataframe tbody tr th {\n",
       "        vertical-align: top;\n",
       "    }\n",
       "\n",
       "    .dataframe thead th {\n",
       "        text-align: right;\n",
       "    }\n",
       "<\/style>\n",
       "<table border=\"1\" class=\"dataframe\">\n",
       "  <thead>\n",
       "    <tr style=\"text-align: right;\">\n",
       "      <th><\/th>\n",
       "      <th>W<\/th>\n",
       "      <th>X<\/th>\n",
       "      <th>Y<\/th>\n",
       "      <th>Z<\/th>\n",
       "    <\/tr>\n",
       "  <\/thead>\n",
       "  <tbody>\n",
       "    <tr>\n",
       "      <th>A<\/th>\n",
       "      <td>2.706850<\/td>\n",
       "      <td>0.628133<\/td>\n",
       "      <td>0.907969<\/td>\n",
       "      <td>0.503826<\/td>\n",
       "    <\/tr>\n",
       "    <tr>\n",
       "      <th>B<\/th>\n",
       "      <td>0.651118<\/td>\n",
       "      <td>-0.319318<\/td>\n",
       "      <td>-0.848077<\/td>\n",
       "      <td>0.605965<\/td>\n",
       "    <\/tr>\n",
       "    <tr>\n",
       "      <th>D<\/th>\n",
       "      <td>0.188695<\/td>\n",
       "      <td>-0.758872<\/td>\n",
       "      <td>-0.933237<\/td>\n",
       "      <td>0.955057<\/td>\n",
       "    <\/tr>\n",
       "    <tr>\n",
       "      <th>E<\/th>\n",
       "      <td>0.190794<\/td>\n",
       "      <td>1.978757<\/td>\n",
       "      <td>2.605967<\/td>\n",
       "      <td>0.683509<\/td>\n",
       "    <\/tr>\n",
       "  <\/tbody>\n",
       "<\/table>\n",
       "<\/div>"
      ]
     },
     "metadata":{
      
     },
     "output_type":"display_data"
    }
   ],
   "metadata":{
    "datalore":{
     "type":"CODE",
     "hide_input_from_viewers":false,
     "hide_output_from_viewers":false,
     "node_id":"QuSYX6jnJAqDHPjG4Ousib"
    }
   }
  },
  {
   "cell_type":"code",
   "source":[
    "df"
   ],
   "execution_count":34,
   "outputs":[
    {
     "data":{
      "text\/html":[
       "<div>\n",
       "<style scoped>\n",
       "    .dataframe tbody tr th:only-of-type {\n",
       "        vertical-align: middle;\n",
       "    }\n",
       "\n",
       "    .dataframe tbody tr th {\n",
       "        vertical-align: top;\n",
       "    }\n",
       "\n",
       "    .dataframe thead th {\n",
       "        text-align: right;\n",
       "    }\n",
       "<\/style>\n",
       "<table border=\"1\" class=\"dataframe\">\n",
       "  <thead>\n",
       "    <tr style=\"text-align: right;\">\n",
       "      <th><\/th>\n",
       "      <th>W<\/th>\n",
       "      <th>X<\/th>\n",
       "      <th>Y<\/th>\n",
       "      <th>Z<\/th>\n",
       "    <\/tr>\n",
       "  <\/thead>\n",
       "  <tbody>\n",
       "    <tr>\n",
       "      <th>A<\/th>\n",
       "      <td>2.706850<\/td>\n",
       "      <td>0.628133<\/td>\n",
       "      <td>0.907969<\/td>\n",
       "      <td>0.503826<\/td>\n",
       "    <\/tr>\n",
       "    <tr>\n",
       "      <th>B<\/th>\n",
       "      <td>0.651118<\/td>\n",
       "      <td>-0.319318<\/td>\n",
       "      <td>-0.848077<\/td>\n",
       "      <td>0.605965<\/td>\n",
       "    <\/tr>\n",
       "    <tr>\n",
       "      <th>C<\/th>\n",
       "      <td>-2.018168<\/td>\n",
       "      <td>0.740122<\/td>\n",
       "      <td>0.528813<\/td>\n",
       "      <td>-0.589001<\/td>\n",
       "    <\/tr>\n",
       "    <tr>\n",
       "      <th>D<\/th>\n",
       "      <td>0.188695<\/td>\n",
       "      <td>-0.758872<\/td>\n",
       "      <td>-0.933237<\/td>\n",
       "      <td>0.955057<\/td>\n",
       "    <\/tr>\n",
       "    <tr>\n",
       "      <th>E<\/th>\n",
       "      <td>0.190794<\/td>\n",
       "      <td>1.978757<\/td>\n",
       "      <td>2.605967<\/td>\n",
       "      <td>0.683509<\/td>\n",
       "    <\/tr>\n",
       "  <\/tbody>\n",
       "<\/table>\n",
       "<\/div>"
      ]
     },
     "metadata":{
      
     },
     "output_type":"display_data"
    }
   ],
   "metadata":{
    "datalore":{
     "type":"CODE",
     "hide_input_from_viewers":false,
     "hide_output_from_viewers":false,
     "node_id":"buCh04tbs3TEyZU3ctNOsc"
    }
   }
  },
  {
   "cell_type":"code",
   "source":[
    "# another example \n",
    "# here we're going for value < 0\n",
    "df[df['Z'] < 0]\n",
    "# see how only 1 row returned , because there are only one row on 'Z' column where value is < 0"
   ],
   "execution_count":35,
   "outputs":[
    {
     "data":{
      "text\/html":[
       "<div>\n",
       "<style scoped>\n",
       "    .dataframe tbody tr th:only-of-type {\n",
       "        vertical-align: middle;\n",
       "    }\n",
       "\n",
       "    .dataframe tbody tr th {\n",
       "        vertical-align: top;\n",
       "    }\n",
       "\n",
       "    .dataframe thead th {\n",
       "        text-align: right;\n",
       "    }\n",
       "<\/style>\n",
       "<table border=\"1\" class=\"dataframe\">\n",
       "  <thead>\n",
       "    <tr style=\"text-align: right;\">\n",
       "      <th><\/th>\n",
       "      <th>W<\/th>\n",
       "      <th>X<\/th>\n",
       "      <th>Y<\/th>\n",
       "      <th>Z<\/th>\n",
       "    <\/tr>\n",
       "  <\/thead>\n",
       "  <tbody>\n",
       "    <tr>\n",
       "      <th>C<\/th>\n",
       "      <td>-2.018168<\/td>\n",
       "      <td>0.740122<\/td>\n",
       "      <td>0.528813<\/td>\n",
       "      <td>-0.589001<\/td>\n",
       "    <\/tr>\n",
       "  <\/tbody>\n",
       "<\/table>\n",
       "<\/div>"
      ]
     },
     "metadata":{
      
     },
     "output_type":"display_data"
    }
   ],
   "metadata":{
    "datalore":{
     "type":"CODE",
     "hide_input_from_viewers":false,
     "hide_output_from_viewers":false,
     "node_id":"QwTHXr8Vc99mXyTWPs131T"
    }
   }
  },
  {
   "cell_type":"code",
   "source":[
    "# if you want to get a different row \n",
    "df[df['W'] > 0]['X']\n",
    "# here we're grabbing row 'X' when every value in row 'W' is > 0 "
   ],
   "execution_count":36,
   "outputs":[
    {
     "data":{
      "text\/html":[
       
      ]
     },
     "metadata":{
      
     },
     "output_type":"display_data"
    }
   ],
   "metadata":{
    "datalore":{
     "type":"CODE",
     "hide_input_from_viewers":false,
     "hide_output_from_viewers":false,
     "node_id":"xAVXFXeWSNv9JYL33IDDok"
    }
   }
  },
  {
   "cell_type":"code",
   "source":[
    "# another example to get multiple different rows \n",
    "df[df['W'] > 0][['X', 'Z']]"
   ],
   "execution_count":37,
   "outputs":[
    {
     "data":{
      "text\/html":[
       "<div>\n",
       "<style scoped>\n",
       "    .dataframe tbody tr th:only-of-type {\n",
       "        vertical-align: middle;\n",
       "    }\n",
       "\n",
       "    .dataframe tbody tr th {\n",
       "        vertical-align: top;\n",
       "    }\n",
       "\n",
       "    .dataframe thead th {\n",
       "        text-align: right;\n",
       "    }\n",
       "<\/style>\n",
       "<table border=\"1\" class=\"dataframe\">\n",
       "  <thead>\n",
       "    <tr style=\"text-align: right;\">\n",
       "      <th><\/th>\n",
       "      <th>X<\/th>\n",
       "      <th>Z<\/th>\n",
       "    <\/tr>\n",
       "  <\/thead>\n",
       "  <tbody>\n",
       "    <tr>\n",
       "      <th>A<\/th>\n",
       "      <td>0.628133<\/td>\n",
       "      <td>0.503826<\/td>\n",
       "    <\/tr>\n",
       "    <tr>\n",
       "      <th>B<\/th>\n",
       "      <td>-0.319318<\/td>\n",
       "      <td>0.605965<\/td>\n",
       "    <\/tr>\n",
       "    <tr>\n",
       "      <th>D<\/th>\n",
       "      <td>-0.758872<\/td>\n",
       "      <td>0.955057<\/td>\n",
       "    <\/tr>\n",
       "    <tr>\n",
       "      <th>E<\/th>\n",
       "      <td>1.978757<\/td>\n",
       "      <td>0.683509<\/td>\n",
       "    <\/tr>\n",
       "  <\/tbody>\n",
       "<\/table>\n",
       "<\/div>"
      ]
     },
     "metadata":{
      
     },
     "output_type":"display_data"
    }
   ],
   "metadata":{
    "datalore":{
     "type":"CODE",
     "hide_input_from_viewers":false,
     "hide_output_from_viewers":false,
     "node_id":"iIxv2HW9nLnp0K6uOq2D6O"
    }
   }
  },
  {
   "cell_type":"code",
   "source":[
    "#instead of doing it all in one line mentioned in the above cell,we can do it step by step to eliminate complexity \n",
    "boolser = df['W'] > 0\n",
    "result = df[boolser]\n",
    "mycols = ['X', 'Y']\n",
    "result[mycols]\n",
    "# this is ok for beginner but doing it all in 1 line is more convinient and a good practice"
   ],
   "execution_count":38,
   "outputs":[
    {
     "data":{
      "text\/html":[
       "<div>\n",
       "<style scoped>\n",
       "    .dataframe tbody tr th:only-of-type {\n",
       "        vertical-align: middle;\n",
       "    }\n",
       "\n",
       "    .dataframe tbody tr th {\n",
       "        vertical-align: top;\n",
       "    }\n",
       "\n",
       "    .dataframe thead th {\n",
       "        text-align: right;\n",
       "    }\n",
       "<\/style>\n",
       "<table border=\"1\" class=\"dataframe\">\n",
       "  <thead>\n",
       "    <tr style=\"text-align: right;\">\n",
       "      <th><\/th>\n",
       "      <th>X<\/th>\n",
       "      <th>Y<\/th>\n",
       "    <\/tr>\n",
       "  <\/thead>\n",
       "  <tbody>\n",
       "    <tr>\n",
       "      <th>A<\/th>\n",
       "      <td>0.628133<\/td>\n",
       "      <td>0.907969<\/td>\n",
       "    <\/tr>\n",
       "    <tr>\n",
       "      <th>B<\/th>\n",
       "      <td>-0.319318<\/td>\n",
       "      <td>-0.848077<\/td>\n",
       "    <\/tr>\n",
       "    <tr>\n",
       "      <th>D<\/th>\n",
       "      <td>-0.758872<\/td>\n",
       "      <td>-0.933237<\/td>\n",
       "    <\/tr>\n",
       "    <tr>\n",
       "      <th>E<\/th>\n",
       "      <td>1.978757<\/td>\n",
       "      <td>2.605967<\/td>\n",
       "    <\/tr>\n",
       "  <\/tbody>\n",
       "<\/table>\n",
       "<\/div>"
      ]
     },
     "metadata":{
      
     },
     "output_type":"display_data"
    }
   ],
   "metadata":{
    "datalore":{
     "type":"CODE",
     "hide_input_from_viewers":false,
     "hide_output_from_viewers":false,
     "node_id":"X5wJzU166dWP0hi73c9YrF"
    }
   }
  },
  {
   "cell_type":"code",
   "source":[
    "df"
   ],
   "execution_count":39,
   "outputs":[
    {
     "data":{
      "text\/html":[
       "<div>\n",
       "<style scoped>\n",
       "    .dataframe tbody tr th:only-of-type {\n",
       "        vertical-align: middle;\n",
       "    }\n",
       "\n",
       "    .dataframe tbody tr th {\n",
       "        vertical-align: top;\n",
       "    }\n",
       "\n",
       "    .dataframe thead th {\n",
       "        text-align: right;\n",
       "    }\n",
       "<\/style>\n",
       "<table border=\"1\" class=\"dataframe\">\n",
       "  <thead>\n",
       "    <tr style=\"text-align: right;\">\n",
       "      <th><\/th>\n",
       "      <th>W<\/th>\n",
       "      <th>X<\/th>\n",
       "      <th>Y<\/th>\n",
       "      <th>Z<\/th>\n",
       "    <\/tr>\n",
       "  <\/thead>\n",
       "  <tbody>\n",
       "    <tr>\n",
       "      <th>A<\/th>\n",
       "      <td>2.706850<\/td>\n",
       "      <td>0.628133<\/td>\n",
       "      <td>0.907969<\/td>\n",
       "      <td>0.503826<\/td>\n",
       "    <\/tr>\n",
       "    <tr>\n",
       "      <th>B<\/th>\n",
       "      <td>0.651118<\/td>\n",
       "      <td>-0.319318<\/td>\n",
       "      <td>-0.848077<\/td>\n",
       "      <td>0.605965<\/td>\n",
       "    <\/tr>\n",
       "    <tr>\n",
       "      <th>C<\/th>\n",
       "      <td>-2.018168<\/td>\n",
       "      <td>0.740122<\/td>\n",
       "      <td>0.528813<\/td>\n",
       "      <td>-0.589001<\/td>\n",
       "    <\/tr>\n",
       "    <tr>\n",
       "      <th>D<\/th>\n",
       "      <td>0.188695<\/td>\n",
       "      <td>-0.758872<\/td>\n",
       "      <td>-0.933237<\/td>\n",
       "      <td>0.955057<\/td>\n",
       "    <\/tr>\n",
       "    <tr>\n",
       "      <th>E<\/th>\n",
       "      <td>0.190794<\/td>\n",
       "      <td>1.978757<\/td>\n",
       "      <td>2.605967<\/td>\n",
       "      <td>0.683509<\/td>\n",
       "    <\/tr>\n",
       "  <\/tbody>\n",
       "<\/table>\n",
       "<\/div>"
      ]
     },
     "metadata":{
      
     },
     "output_type":"display_data"
    }
   ],
   "metadata":{
    "datalore":{
     "type":"CODE",
     "hide_input_from_viewers":false,
     "hide_output_from_viewers":false,
     "node_id":"5XsIAzuxbpNzeT4fsiZliG"
    }
   }
  },
  {
   "cell_type":"code",
   "source":[
    "\"\"\"here we're passing 2 conditions , look how we're using '&' instead of 'and',\n",
    "because when we're passsing two series of boolean , the 'and' operator gets confused,\n",
    "that's why we're using '&' instead of regualr python 'and' \"\"\"\n",
    "\n",
    "df[(df['W'] < 1) & (df['Y'] > 1)]"
   ],
   "execution_count":40,
   "outputs":[
    {
     "data":{
      "text\/html":[
       "<div>\n",
       "<style scoped>\n",
       "    .dataframe tbody tr th:only-of-type {\n",
       "        vertical-align: middle;\n",
       "    }\n",
       "\n",
       "    .dataframe tbody tr th {\n",
       "        vertical-align: top;\n",
       "    }\n",
       "\n",
       "    .dataframe thead th {\n",
       "        text-align: right;\n",
       "    }\n",
       "<\/style>\n",
       "<table border=\"1\" class=\"dataframe\">\n",
       "  <thead>\n",
       "    <tr style=\"text-align: right;\">\n",
       "      <th><\/th>\n",
       "      <th>W<\/th>\n",
       "      <th>X<\/th>\n",
       "      <th>Y<\/th>\n",
       "      <th>Z<\/th>\n",
       "    <\/tr>\n",
       "  <\/thead>\n",
       "  <tbody>\n",
       "    <tr>\n",
       "      <th>E<\/th>\n",
       "      <td>0.190794<\/td>\n",
       "      <td>1.978757<\/td>\n",
       "      <td>2.605967<\/td>\n",
       "      <td>0.683509<\/td>\n",
       "    <\/tr>\n",
       "  <\/tbody>\n",
       "<\/table>\n",
       "<\/div>"
      ]
     },
     "metadata":{
      
     },
     "output_type":"display_data"
    }
   ],
   "metadata":{
    "datalore":{
     "type":"CODE",
     "hide_input_from_viewers":false,
     "hide_output_from_viewers":false,
     "node_id":"wg12WrV1QmATN2tnECE0D6"
    }
   }
  },
  {
   "cell_type":"code",
   "source":[
    "# if you want to go for 'or' instead of 'and,\/'&' , in pandas it's '|' called pipe operator\n",
    "\n",
    "df[(df['W'] > 3) | (df['Y'] > 1)]"
   ],
   "execution_count":41,
   "outputs":[
    {
     "data":{
      "text\/html":[
       "<div>\n",
       "<style scoped>\n",
       "    .dataframe tbody tr th:only-of-type {\n",
       "        vertical-align: middle;\n",
       "    }\n",
       "\n",
       "    .dataframe tbody tr th {\n",
       "        vertical-align: top;\n",
       "    }\n",
       "\n",
       "    .dataframe thead th {\n",
       "        text-align: right;\n",
       "    }\n",
       "<\/style>\n",
       "<table border=\"1\" class=\"dataframe\">\n",
       "  <thead>\n",
       "    <tr style=\"text-align: right;\">\n",
       "      <th><\/th>\n",
       "      <th>W<\/th>\n",
       "      <th>X<\/th>\n",
       "      <th>Y<\/th>\n",
       "      <th>Z<\/th>\n",
       "    <\/tr>\n",
       "  <\/thead>\n",
       "  <tbody>\n",
       "    <tr>\n",
       "      <th>E<\/th>\n",
       "      <td>0.190794<\/td>\n",
       "      <td>1.978757<\/td>\n",
       "      <td>2.605967<\/td>\n",
       "      <td>0.683509<\/td>\n",
       "    <\/tr>\n",
       "  <\/tbody>\n",
       "<\/table>\n",
       "<\/div>"
      ]
     },
     "metadata":{
      
     },
     "output_type":"display_data"
    }
   ],
   "metadata":{
    "datalore":{
     "type":"CODE",
     "hide_input_from_viewers":false,
     "hide_output_from_viewers":false,
     "node_id":"X2cyKtv9xTjszzgh9n1eH1"
    }
   }
  },
  {
   "cell_type":"markdown",
   "source":[
    "# To reset index in a dataframe \n",
    "### One thing to remember, just like many other dataframe operations reset_index() isn't inplace,\n",
    "### if you do it inplace,the old index will become a column."
   ],
   "attachments":{
    
   },
   "metadata":{
    "datalore":{
     "type":"MD",
     "hide_input_from_viewers":false,
     "hide_output_from_viewers":false,
     "node_id":"KTB50vOZtzadq6rYTWEPEJ"
    }
   }
  },
  {
   "cell_type":"code",
   "source":[
    "\n",
    "df.reset_index()\n",
    "# To do it inplace (don't do it here otherwise it's going to change the source dataframe)\n",
    "\n",
    "# df.reset_index(inplace= True) "
   ],
   "execution_count":42,
   "outputs":[
    {
     "data":{
      "text\/html":[
       "<div>\n",
       "<style scoped>\n",
       "    .dataframe tbody tr th:only-of-type {\n",
       "        vertical-align: middle;\n",
       "    }\n",
       "\n",
       "    .dataframe tbody tr th {\n",
       "        vertical-align: top;\n",
       "    }\n",
       "\n",
       "    .dataframe thead th {\n",
       "        text-align: right;\n",
       "    }\n",
       "<\/style>\n",
       "<table border=\"1\" class=\"dataframe\">\n",
       "  <thead>\n",
       "    <tr style=\"text-align: right;\">\n",
       "      <th><\/th>\n",
       "      <th>index<\/th>\n",
       "      <th>W<\/th>\n",
       "      <th>X<\/th>\n",
       "      <th>Y<\/th>\n",
       "      <th>Z<\/th>\n",
       "    <\/tr>\n",
       "  <\/thead>\n",
       "  <tbody>\n",
       "    <tr>\n",
       "      <th>0<\/th>\n",
       "      <td>A<\/td>\n",
       "      <td>2.706850<\/td>\n",
       "      <td>0.628133<\/td>\n",
       "      <td>0.907969<\/td>\n",
       "      <td>0.503826<\/td>\n",
       "    <\/tr>\n",
       "    <tr>\n",
       "      <th>1<\/th>\n",
       "      <td>B<\/td>\n",
       "      <td>0.651118<\/td>\n",
       "      <td>-0.319318<\/td>\n",
       "      <td>-0.848077<\/td>\n",
       "      <td>0.605965<\/td>\n",
       "    <\/tr>\n",
       "    <tr>\n",
       "      <th>2<\/th>\n",
       "      <td>C<\/td>\n",
       "      <td>-2.018168<\/td>\n",
       "      <td>0.740122<\/td>\n",
       "      <td>0.528813<\/td>\n",
       "      <td>-0.589001<\/td>\n",
       "    <\/tr>\n",
       "    <tr>\n",
       "      <th>3<\/th>\n",
       "      <td>D<\/td>\n",
       "      <td>0.188695<\/td>\n",
       "      <td>-0.758872<\/td>\n",
       "      <td>-0.933237<\/td>\n",
       "      <td>0.955057<\/td>\n",
       "    <\/tr>\n",
       "    <tr>\n",
       "      <th>4<\/th>\n",
       "      <td>E<\/td>\n",
       "      <td>0.190794<\/td>\n",
       "      <td>1.978757<\/td>\n",
       "      <td>2.605967<\/td>\n",
       "      <td>0.683509<\/td>\n",
       "    <\/tr>\n",
       "  <\/tbody>\n",
       "<\/table>\n",
       "<\/div>"
      ]
     },
     "metadata":{
      
     },
     "output_type":"display_data"
    }
   ],
   "metadata":{
    "datalore":{
     "type":"CODE",
     "hide_input_from_viewers":false,
     "hide_output_from_viewers":false,
     "node_id":"cpSyb4i6tr6qXONbxHnFDJ"
    }
   }
  },
  {
   "cell_type":"code",
   "source":[
    "# let's add a new column to it\n",
    "strg = \"WB BR MH DL OD\"\n",
    "\n",
    "# remember , you can split convert a string into a list just by adding spaces between values,\n",
    "#just like we did in the last line, now make a list out of it\n",
    "\n",
    "newclm = strg.split()\n",
    "newclm"
   ],
   "execution_count":43,
   "outputs":[
    {
     "data":{
      "text\/plain":[
       "['WB', 'BR', 'MH', 'DL', 'OD']"
      ]
     },
     "metadata":{
      
     },
     "output_type":"display_data"
    }
   ],
   "metadata":{
    "datalore":{
     "type":"CODE",
     "hide_input_from_viewers":false,
     "hide_output_from_viewers":false,
     "node_id":"hmntivxBQ2yPK7dDi65sNW"
    }
   }
  },
  {
   "cell_type":"code",
   "source":[
    "# now make it a column of source dataframe \n",
    "\n",
    "df[\"States\"] = newclm\n",
    "\n",
    "#remeber it's a inplace operation\n",
    "df"
   ],
   "execution_count":44,
   "outputs":[
    {
     "data":{
      "text\/html":[
       "<div>\n",
       "<style scoped>\n",
       "    .dataframe tbody tr th:only-of-type {\n",
       "        vertical-align: middle;\n",
       "    }\n",
       "\n",
       "    .dataframe tbody tr th {\n",
       "        vertical-align: top;\n",
       "    }\n",
       "\n",
       "    .dataframe thead th {\n",
       "        text-align: right;\n",
       "    }\n",
       "<\/style>\n",
       "<table border=\"1\" class=\"dataframe\">\n",
       "  <thead>\n",
       "    <tr style=\"text-align: right;\">\n",
       "      <th><\/th>\n",
       "      <th>W<\/th>\n",
       "      <th>X<\/th>\n",
       "      <th>Y<\/th>\n",
       "      <th>Z<\/th>\n",
       "      <th>States<\/th>\n",
       "    <\/tr>\n",
       "  <\/thead>\n",
       "  <tbody>\n",
       "    <tr>\n",
       "      <th>A<\/th>\n",
       "      <td>2.706850<\/td>\n",
       "      <td>0.628133<\/td>\n",
       "      <td>0.907969<\/td>\n",
       "      <td>0.503826<\/td>\n",
       "      <td>WB<\/td>\n",
       "    <\/tr>\n",
       "    <tr>\n",
       "      <th>B<\/th>\n",
       "      <td>0.651118<\/td>\n",
       "      <td>-0.319318<\/td>\n",
       "      <td>-0.848077<\/td>\n",
       "      <td>0.605965<\/td>\n",
       "      <td>BR<\/td>\n",
       "    <\/tr>\n",
       "    <tr>\n",
       "      <th>C<\/th>\n",
       "      <td>-2.018168<\/td>\n",
       "      <td>0.740122<\/td>\n",
       "      <td>0.528813<\/td>\n",
       "      <td>-0.589001<\/td>\n",
       "      <td>MH<\/td>\n",
       "    <\/tr>\n",
       "    <tr>\n",
       "      <th>D<\/th>\n",
       "      <td>0.188695<\/td>\n",
       "      <td>-0.758872<\/td>\n",
       "      <td>-0.933237<\/td>\n",
       "      <td>0.955057<\/td>\n",
       "      <td>DL<\/td>\n",
       "    <\/tr>\n",
       "    <tr>\n",
       "      <th>E<\/th>\n",
       "      <td>0.190794<\/td>\n",
       "      <td>1.978757<\/td>\n",
       "      <td>2.605967<\/td>\n",
       "      <td>0.683509<\/td>\n",
       "      <td>OD<\/td>\n",
       "    <\/tr>\n",
       "  <\/tbody>\n",
       "<\/table>\n",
       "<\/div>"
      ]
     },
     "metadata":{
      
     },
     "output_type":"display_data"
    }
   ],
   "metadata":{
    "datalore":{
     "type":"CODE",
     "hide_input_from_viewers":false,
     "hide_output_from_viewers":false,
     "node_id":"1ydlC20H4wQaepdJJ76VL2"
    }
   }
  },
  {
   "cell_type":"code",
   "source":[
    "# let's make this column the index of the dataframe, *it's not inplace*\n",
    "# it'll overwrite the old index\n",
    "\n",
    "df.set_index(\"States\")"
   ],
   "execution_count":45,
   "outputs":[
    {
     "data":{
      "text\/html":[
       "<div>\n",
       "<style scoped>\n",
       "    .dataframe tbody tr th:only-of-type {\n",
       "        vertical-align: middle;\n",
       "    }\n",
       "\n",
       "    .dataframe tbody tr th {\n",
       "        vertical-align: top;\n",
       "    }\n",
       "\n",
       "    .dataframe thead th {\n",
       "        text-align: right;\n",
       "    }\n",
       "<\/style>\n",
       "<table border=\"1\" class=\"dataframe\">\n",
       "  <thead>\n",
       "    <tr style=\"text-align: right;\">\n",
       "      <th><\/th>\n",
       "      <th>W<\/th>\n",
       "      <th>X<\/th>\n",
       "      <th>Y<\/th>\n",
       "      <th>Z<\/th>\n",
       "    <\/tr>\n",
       "    <tr>\n",
       "      <th>States<\/th>\n",
       "      <th><\/th>\n",
       "      <th><\/th>\n",
       "      <th><\/th>\n",
       "      <th><\/th>\n",
       "    <\/tr>\n",
       "  <\/thead>\n",
       "  <tbody>\n",
       "    <tr>\n",
       "      <th>WB<\/th>\n",
       "      <td>2.706850<\/td>\n",
       "      <td>0.628133<\/td>\n",
       "      <td>0.907969<\/td>\n",
       "      <td>0.503826<\/td>\n",
       "    <\/tr>\n",
       "    <tr>\n",
       "      <th>BR<\/th>\n",
       "      <td>0.651118<\/td>\n",
       "      <td>-0.319318<\/td>\n",
       "      <td>-0.848077<\/td>\n",
       "      <td>0.605965<\/td>\n",
       "    <\/tr>\n",
       "    <tr>\n",
       "      <th>MH<\/th>\n",
       "      <td>-2.018168<\/td>\n",
       "      <td>0.740122<\/td>\n",
       "      <td>0.528813<\/td>\n",
       "      <td>-0.589001<\/td>\n",
       "    <\/tr>\n",
       "    <tr>\n",
       "      <th>DL<\/th>\n",
       "      <td>0.188695<\/td>\n",
       "      <td>-0.758872<\/td>\n",
       "      <td>-0.933237<\/td>\n",
       "      <td>0.955057<\/td>\n",
       "    <\/tr>\n",
       "    <tr>\n",
       "      <th>OD<\/th>\n",
       "      <td>0.190794<\/td>\n",
       "      <td>1.978757<\/td>\n",
       "      <td>2.605967<\/td>\n",
       "      <td>0.683509<\/td>\n",
       "    <\/tr>\n",
       "  <\/tbody>\n",
       "<\/table>\n",
       "<\/div>"
      ]
     },
     "metadata":{
      
     },
     "output_type":"display_data"
    }
   ],
   "metadata":{
    "datalore":{
     "type":"CODE",
     "hide_input_from_viewers":false,
     "hide_output_from_viewers":false,
     "node_id":"4R9jHZWHYcpU4MHUAqYIaw"
    }
   }
  },
  {
   "cell_type":"code",
   "source":[
    
   ],
   "execution_count":0,
   "outputs":[
    
   ],
   "metadata":{
    "datalore":{
     "type":"CODE",
     "hide_input_from_viewers":false,
     "hide_output_from_viewers":false,
     "node_id":"LDLz2sQbkiAbvHy2mNssEy"
    }
   }
  },
  {
   "cell_type":"markdown",
   "source":[
    "# DataFrames pt.  3"
   ],
   "attachments":{
    
   },
   "metadata":{
    "datalore":{
     "sheet_delimiter":true
    }
   }
  },
  {
   "cell_type":"markdown",
   "source":[
    "# Pandas - DataFrames Part 3"
   ],
   "attachments":{
    
   },
   "metadata":{
    "datalore":{
     "type":"MD",
     "hide_input_from_viewers":false,
     "hide_output_from_viewers":false,
     "node_id":"HdXEE5nz8h3FuToDj4MZdD"
    }
   }
  },
  {
   "cell_type":"code",
   "source":[
    "import numpy as np\n",
    "import pandas as pd"
   ],
   "execution_count":1,
   "outputs":[
    
   ],
   "metadata":{
    "datalore":{
     "type":"CODE",
     "hide_input_from_viewers":false,
     "hide_output_from_viewers":false,
     "node_id":"CR0nH5q3qkYXIE1nlbCV9D"
    }
   }
  },
  {
   "cell_type":"code",
   "source":[
    "# Index Levels\n",
    "outside = ['G1','G1','G1','G2','G2','G2']\n",
    "inside = [1,2,3,1,2,3]\n",
    "hier_index = list(zip(outside,inside))\n",
    "hier_index = pd.MultiIndex.from_tuples(hier_index)"
   ],
   "execution_count":2,
   "outputs":[
    
   ],
   "metadata":{
    "datalore":{
     "type":"CODE",
     "hide_input_from_viewers":false,
     "hide_output_from_viewers":false,
     "node_id":"rMgbO6bXhUyrfJXHZKsSnO"
    }
   }
  },
  {
   "cell_type":"code",
   "source":[
    "# a list of tuple pairs\n",
    "list(zip(outside,inside))"
   ],
   "execution_count":3,
   "outputs":[
    {
     "data":{
      "text\/plain":[
       "[('G1', 1), ('G1', 2), ('G1', 3), ('G2', 1), ('G2', 2), ('G2', 3)]"
      ]
     },
     "metadata":{
      
     },
     "output_type":"display_data"
    }
   ],
   "metadata":{
    "datalore":{
     "type":"CODE",
     "hide_input_from_viewers":false,
     "hide_output_from_viewers":false,
     "node_id":"7oRmG7WNTpcahTkxjZr8aX"
    }
   }
  },
  {
   "cell_type":"code",
   "source":[
    "pd.MultiIndex.from_tuples(hier_index)"
   ],
   "execution_count":4,
   "outputs":[
    {
     "data":{
      "text\/plain":[
       "MultiIndex([('G1', 1),\n",
       "            ('G1', 2),\n",
       "            ('G1', 3),\n",
       "            ('G2', 1),\n",
       "            ('G2', 2),\n",
       "            ('G2', 3)],\n",
       "           )"
      ]
     },
     "metadata":{
      
     },
     "output_type":"display_data"
    }
   ],
   "metadata":{
    "datalore":{
     "type":"CODE",
     "hide_input_from_viewers":false,
     "hide_output_from_viewers":false,
     "node_id":"CKMD50rK21yIWgk37ZpQRb"
    }
   }
  },
  {
   "cell_type":"code",
   "source":[
    "# now let's make a multi index DataFrame with 6 rows and 2 columns, index taken from upper cell 'hier_index'\n",
    "\n",
    "df = pd.DataFrame(np.random.randn(6,2),index=hier_index,columns=['A','B'])\n",
    "df\n",
    "# see how 'G1' and 'G2' are the main indecies, on the sub\/inside level there are '1, 2, 3' indicies "
   ],
   "execution_count":5,
   "outputs":[
    {
     "data":{
      "text\/html":[
       "<div>\n",
       "<style scoped>\n",
       "    .dataframe tbody tr th:only-of-type {\n",
       "        vertical-align: middle;\n",
       "    }\n",
       "\n",
       "    .dataframe tbody tr th {\n",
       "        vertical-align: top;\n",
       "    }\n",
       "\n",
       "    .dataframe thead th {\n",
       "        text-align: right;\n",
       "    }\n",
       "<\/style>\n",
       "<table border=\"1\" class=\"dataframe\">\n",
       "  <thead>\n",
       "    <tr style=\"text-align: right;\">\n",
       "      <th><\/th>\n",
       "      <th><\/th>\n",
       "      <th>A<\/th>\n",
       "      <th>B<\/th>\n",
       "    <\/tr>\n",
       "  <\/thead>\n",
       "  <tbody>\n",
       "    <tr>\n",
       "      <th rowspan=\"3\" valign=\"top\">G1<\/th>\n",
       "      <th>1<\/th>\n",
       "      <td>1.705238<\/td>\n",
       "      <td>2.690003<\/td>\n",
       "    <\/tr>\n",
       "    <tr>\n",
       "      <th>2<\/th>\n",
       "      <td>0.252180<\/td>\n",
       "      <td>-1.125684<\/td>\n",
       "    <\/tr>\n",
       "    <tr>\n",
       "      <th>3<\/th>\n",
       "      <td>-0.135920<\/td>\n",
       "      <td>-0.227675<\/td>\n",
       "    <\/tr>\n",
       "    <tr>\n",
       "      <th rowspan=\"3\" valign=\"top\">G2<\/th>\n",
       "      <th>1<\/th>\n",
       "      <td>1.922901<\/td>\n",
       "      <td>-0.400242<\/td>\n",
       "    <\/tr>\n",
       "    <tr>\n",
       "      <th>2<\/th>\n",
       "      <td>-2.000759<\/td>\n",
       "      <td>-0.366695<\/td>\n",
       "    <\/tr>\n",
       "    <tr>\n",
       "      <th>3<\/th>\n",
       "      <td>0.215030<\/td>\n",
       "      <td>-0.592143<\/td>\n",
       "    <\/tr>\n",
       "  <\/tbody>\n",
       "<\/table>\n",
       "<\/div>"
      ]
     },
     "metadata":{
      
     },
     "output_type":"display_data"
    }
   ],
   "metadata":{
    "datalore":{
     "type":"CODE",
     "hide_input_from_viewers":false,
     "hide_output_from_viewers":false,
     "node_id":"dDuHs9sL8G7AOwXxWSlfpX"
    }
   }
  },
  {
   "cell_type":"code",
   "source":[
    "# let's see how we can call data from a multi level index\n",
    "df.loc[\"G1\"]"
   ],
   "execution_count":7,
   "outputs":[
    {
     "data":{
      "text\/html":[
       "<div>\n",
       "<style scoped>\n",
       "    .dataframe tbody tr th:only-of-type {\n",
       "        vertical-align: middle;\n",
       "    }\n",
       "\n",
       "    .dataframe tbody tr th {\n",
       "        vertical-align: top;\n",
       "    }\n",
       "\n",
       "    .dataframe thead th {\n",
       "        text-align: right;\n",
       "    }\n",
       "<\/style>\n",
       "<table border=\"1\" class=\"dataframe\">\n",
       "  <thead>\n",
       "    <tr style=\"text-align: right;\">\n",
       "      <th><\/th>\n",
       "      <th>A<\/th>\n",
       "      <th>B<\/th>\n",
       "    <\/tr>\n",
       "  <\/thead>\n",
       "  <tbody>\n",
       "    <tr>\n",
       "      <th>1<\/th>\n",
       "      <td>1.705238<\/td>\n",
       "      <td>2.690003<\/td>\n",
       "    <\/tr>\n",
       "    <tr>\n",
       "      <th>2<\/th>\n",
       "      <td>0.252180<\/td>\n",
       "      <td>-1.125684<\/td>\n",
       "    <\/tr>\n",
       "    <tr>\n",
       "      <th>3<\/th>\n",
       "      <td>-0.135920<\/td>\n",
       "      <td>-0.227675<\/td>\n",
       "    <\/tr>\n",
       "  <\/tbody>\n",
       "<\/table>\n",
       "<\/div>"
      ]
     },
     "metadata":{
      
     },
     "output_type":"display_data"
    }
   ],
   "metadata":{
    "datalore":{
     "type":"CODE",
     "hide_input_from_viewers":false,
     "hide_output_from_viewers":false,
     "node_id":"kUjHSviGpkS6fU0PO81XTZ"
    }
   }
  },
  {
   "cell_type":"code",
   "source":[
    "# to call a inner level index\n",
    "df.loc[\"G2\"].loc[2]"
   ],
   "execution_count":8,
   "outputs":[
    {
     "data":{
      "text\/html":[
       
      ]
     },
     "metadata":{
      
     },
     "output_type":"display_data"
    }
   ],
   "metadata":{
    "datalore":{
     "type":"CODE",
     "hide_input_from_viewers":false,
     "hide_output_from_viewers":false,
     "node_id":"NhDctTVxmYv8lmKfhuzRAs"
    }
   }
  },
  {
   "cell_type":"code",
   "source":[
    "# as we can see, our dataframe doesn't have any index name \n",
    "df.index.names"
   ],
   "execution_count":9,
   "outputs":[
    {
     "data":{
      "text\/plain":[
       "FrozenList([None, None])"
      ]
     },
     "metadata":{
      
     },
     "output_type":"display_data"
    }
   ],
   "metadata":{
    "datalore":{
     "type":"CODE",
     "hide_input_from_viewers":false,
     "hide_output_from_viewers":false,
     "node_id":"U6UgFdtjcdVIk5V6iBNTtk"
    }
   }
  },
  {
   "cell_type":"code",
   "source":[
    "# let's give the indices names \n",
    "df.index.names = ['Groups', 'Num']\n",
    "df"
   ],
   "execution_count":10,
   "outputs":[
    {
     "data":{
      "text\/html":[
       "<div>\n",
       "<style scoped>\n",
       "    .dataframe tbody tr th:only-of-type {\n",
       "        vertical-align: middle;\n",
       "    }\n",
       "\n",
       "    .dataframe tbody tr th {\n",
       "        vertical-align: top;\n",
       "    }\n",
       "\n",
       "    .dataframe thead th {\n",
       "        text-align: right;\n",
       "    }\n",
       "<\/style>\n",
       "<table border=\"1\" class=\"dataframe\">\n",
       "  <thead>\n",
       "    <tr style=\"text-align: right;\">\n",
       "      <th><\/th>\n",
       "      <th><\/th>\n",
       "      <th>A<\/th>\n",
       "      <th>B<\/th>\n",
       "    <\/tr>\n",
       "    <tr>\n",
       "      <th>Groups<\/th>\n",
       "      <th>Num<\/th>\n",
       "      <th><\/th>\n",
       "      <th><\/th>\n",
       "    <\/tr>\n",
       "  <\/thead>\n",
       "  <tbody>\n",
       "    <tr>\n",
       "      <th rowspan=\"3\" valign=\"top\">G1<\/th>\n",
       "      <th>1<\/th>\n",
       "      <td>1.705238<\/td>\n",
       "      <td>2.690003<\/td>\n",
       "    <\/tr>\n",
       "    <tr>\n",
       "      <th>2<\/th>\n",
       "      <td>0.252180<\/td>\n",
       "      <td>-1.125684<\/td>\n",
       "    <\/tr>\n",
       "    <tr>\n",
       "      <th>3<\/th>\n",
       "      <td>-0.135920<\/td>\n",
       "      <td>-0.227675<\/td>\n",
       "    <\/tr>\n",
       "    <tr>\n",
       "      <th rowspan=\"3\" valign=\"top\">G2<\/th>\n",
       "      <th>1<\/th>\n",
       "      <td>1.922901<\/td>\n",
       "      <td>-0.400242<\/td>\n",
       "    <\/tr>\n",
       "    <tr>\n",
       "      <th>2<\/th>\n",
       "      <td>-2.000759<\/td>\n",
       "      <td>-0.366695<\/td>\n",
       "    <\/tr>\n",
       "    <tr>\n",
       "      <th>3<\/th>\n",
       "      <td>0.215030<\/td>\n",
       "      <td>-0.592143<\/td>\n",
       "    <\/tr>\n",
       "  <\/tbody>\n",
       "<\/table>\n",
       "<\/div>"
      ]
     },
     "metadata":{
      
     },
     "output_type":"display_data"
    }
   ],
   "metadata":{
    "datalore":{
     "type":"CODE",
     "hide_input_from_viewers":false,
     "hide_output_from_viewers":false,
     "node_id":"mOLsFXdygDhD8rCf0Ap91V"
    }
   }
  },
  {
   "cell_type":"code",
   "source":[
    "# now let's call a specific data from the dataframe\n",
    "df.loc['G2'].loc[3]['B']"
   ],
   "execution_count":11,
   "outputs":[
    {
     "data":{
      "text\/plain":[
       "-0.5921430014108348"
      ]
     },
     "metadata":{
      
     },
     "output_type":"display_data"
    }
   ],
   "metadata":{
    "datalore":{
     "type":"CODE",
     "hide_input_from_viewers":false,
     "hide_output_from_viewers":false,
     "node_id":"ZK3xCfSQD5N3XBhNt2HeFb"
    }
   }
  },
  {
   "cell_type":"code",
   "source":[
    "# now if I want to grab value form sub index 1 from both the main index 'G1' and 'G2', using '.loc' is bit trickier , \n",
    "# so we're going to use '.xs' the cross-section\n",
    "# suppose we're getting the data from, sub index 2 from both the main index 'G1' and 'G2'\n",
    "\n",
    "df.xs(2,level='Num')"
   ],
   "execution_count":12,
   "outputs":[
    {
     "data":{
      "text\/html":[
       "<div>\n",
       "<style scoped>\n",
       "    .dataframe tbody tr th:only-of-type {\n",
       "        vertical-align: middle;\n",
       "    }\n",
       "\n",
       "    .dataframe tbody tr th {\n",
       "        vertical-align: top;\n",
       "    }\n",
       "\n",
       "    .dataframe thead th {\n",
       "        text-align: right;\n",
       "    }\n",
       "<\/style>\n",
       "<table border=\"1\" class=\"dataframe\">\n",
       "  <thead>\n",
       "    <tr style=\"text-align: right;\">\n",
       "      <th><\/th>\n",
       "      <th>A<\/th>\n",
       "      <th>B<\/th>\n",
       "    <\/tr>\n",
       "    <tr>\n",
       "      <th>Groups<\/th>\n",
       "      <th><\/th>\n",
       "      <th><\/th>\n",
       "    <\/tr>\n",
       "  <\/thead>\n",
       "  <tbody>\n",
       "    <tr>\n",
       "      <th>G1<\/th>\n",
       "      <td>0.252180<\/td>\n",
       "      <td>-1.125684<\/td>\n",
       "    <\/tr>\n",
       "    <tr>\n",
       "      <th>G2<\/th>\n",
       "      <td>-2.000759<\/td>\n",
       "      <td>-0.366695<\/td>\n",
       "    <\/tr>\n",
       "  <\/tbody>\n",
       "<\/table>\n",
       "<\/div>"
      ]
     },
     "metadata":{
      
     },
     "output_type":"display_data"
    }
   ],
   "metadata":{
    "datalore":{
     "type":"CODE",
     "hide_input_from_viewers":false,
     "hide_output_from_viewers":false,
     "node_id":"Xs05f4eMJ6nqe2WixTpvFY"
    }
   }
  },
  {
   "cell_type":"markdown",
   "source":[
    "  ##          End of the DataFrame Tutorial"
   ],
   "attachments":{
    
   },
   "metadata":{
    "datalore":{
     "type":"MD",
     "hide_input_from_viewers":false,
     "hide_output_from_viewers":false,
     "node_id":"Ngi9Jym3C1euUK5Ac13tok"
    }
   }
  }
 ],
 "metadata":{
  "datalore":{
   "version":1,
   "computation_mode":"JUPYTER",
   "package_manager":"pip",
   "base_environment":"default",
   "packages":[
    
   ]
  }
 },
 "nbformat":4,
 "nbformat_minor":4
}