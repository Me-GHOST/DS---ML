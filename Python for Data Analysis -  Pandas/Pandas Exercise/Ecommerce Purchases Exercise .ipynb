{
 "cells":[
  {
   "cell_type":"markdown",
   "source":[
    "\n",
    "# Ecommerce Purchases Exercise\n",
    "\n",
    "In this Exercise you will be given some Fake Data about some purchases done through Amazon! Just go ahead and follow the directions and try your best to answer the questions and complete the tasks. Feel free to reference the solutions. Most of the tasks can be solved in different ways. For the most part, the questions get progressively harder.\n",
    "\n",
    "Please excuse anything that doesn't make \"Real-World\" sense in the dataframe, all the data is fake and made-up.\n",
    "\n",
    "Also note that all of these questions can be answered with one line of code.\n",
    "____\n",
    "**Import pandas and read in the Ecommerce Purchases csv file and set it to a DataFrame called ecom.**"
   ],
   "attachments":{
    
   },
   "metadata":{
    "datalore":{
     "type":"MD",
     "hide_input_from_viewers":false,
     "hide_output_from_viewers":false,
     "node_id":"xzVWEpJxFSj5oBEFNWfOBK"
    }
   }
  },
  {
   "cell_type":"code",
   "source":[
    "import pandas as pd"
   ],
   "execution_count":1,
   "outputs":[
    
   ],
   "metadata":{
    "datalore":{
     "type":"CODE",
     "hide_input_from_viewers":false,
     "hide_output_from_viewers":false,
     "node_id":"vM4pPmVmI50GcDTW4oGByu"
    }
   }
  },
  {
   "cell_type":"code",
   "source":[
    "ecom = pd.read_csv('Ecommerce Purchases.csv')"
   ],
   "execution_count":13,
   "outputs":[
    
   ],
   "metadata":{
    "datalore":{
     "type":"CODE",
     "hide_input_from_viewers":false,
     "hide_output_from_viewers":false,
     "node_id":"6lAwHWt6DFa7cXrsgHLU49"
    }
   }
  },
  {
   "cell_type":"markdown",
   "source":[
    "**Check the head of the DataFrame.**"
   ],
   "attachments":{
    
   },
   "metadata":{
    "datalore":{
     "type":"MD",
     "hide_input_from_viewers":false,
     "hide_output_from_viewers":false,
     "node_id":"iDmIxoRK2wzXdO6MnRFnyB"
    }
   }
  },
  {
   "cell_type":"code",
   "source":[
    "ecom.head(50)"
   ],
   "execution_count":64,
   "outputs":[
    {
     "data":{
      "text\/html":[
       "<div>\n",
       "<style scoped>\n",
       "    .dataframe tbody tr th:only-of-type {\n",
       "        vertical-align: middle;\n",
       "    }\n",
       "\n",
       "    .dataframe tbody tr th {\n",
       "        vertical-align: top;\n",
       "    }\n",
       "\n",
       "    .dataframe thead th {\n",
       "        text-align: right;\n",
       "    }\n",
       "<\/style>\n",
       "<table border=\"1\" class=\"dataframe\">\n",
       "  <thead>\n",
       "    <tr style=\"text-align: right;\">\n",
       "      <th><\/th>\n",
       "      <th>Address<\/th>\n",
       "      <th>Lot<\/th>\n",
       "      <th>AM or PM<\/th>\n",
       "      <th>Browser Info<\/th>\n",
       "      <th>Company<\/th>\n",
       "      <th>Credit Card<\/th>\n",
       "      <th>CC Exp Date<\/th>\n",
       "      <th>CC Security Code<\/th>\n",
       "      <th>CC Provider<\/th>\n",
       "      <th>Email<\/th>\n",
       "      <th>Job<\/th>\n",
       "      <th>IP Address<\/th>\n",
       "      <th>Language<\/th>\n",
       "      <th>Purchase Price<\/th>\n",
       "    <\/tr>\n",
       "  <\/thead>\n",
       "  <tbody>\n",
       "    <tr>\n",
       "      <th>0<\/th>\n",
       "      <td>16629 Pace Camp Apt. 448\\nAlexisborough, NE 77...<\/td>\n",
       "      <td>46 in<\/td>\n",
       "      <td>PM<\/td>\n",
       "      <td>Opera\/9.56.(X11; Linux x86_64; sl-SI) Presto\/2...<\/td>\n",
       "      <td>Martinez-Herman<\/td>\n",
       "      <td>6011929061123406<\/td>\n",
       "      <td>02\/20<\/td>\n",
       "      <td>900<\/td>\n",
       "      <td>JCB 16 digit<\/td>\n",
       "      <td>pdunlap@yahoo.com<\/td>\n",
       "      <td>Scientist, product\/process development<\/td>\n",
       "      <td>149.146.147.205<\/td>\n",
       "      <td>el<\/td>\n",
       "      <td>98.14<\/td>\n",
       "    <\/tr>\n",
       "    <tr>\n",
       "      <th>1<\/th>\n",
       "      <td>9374 Jasmine Spurs Suite 508\\nSouth John, TN 8...<\/td>\n",
       "      <td>28 rn<\/td>\n",
       "      <td>PM<\/td>\n",
       "      <td>Opera\/8.93.(Windows 98; Win 9x 4.90; en-US) Pr...<\/td>\n",
       "      <td>Fletcher, Richards and Whitaker<\/td>\n",
       "      <td>3337758169645356<\/td>\n",
       "      <td>11\/18<\/td>\n",
       "      <td>561<\/td>\n",
       "      <td>Mastercard<\/td>\n",
       "      <td>anthony41@reed.com<\/td>\n",
       "      <td>Drilling engineer<\/td>\n",
       "      <td>15.160.41.51<\/td>\n",
       "      <td>fr<\/td>\n",
       "      <td>70.73<\/td>\n",
       "    <\/tr>\n",
       "    <tr>\n",
       "      <th>2<\/th>\n",
       "      <td>Unit 0065 Box 5052\\nDPO AP 27450<\/td>\n",
       "      <td>94 vE<\/td>\n",
       "      <td>PM<\/td>\n",
       "      <td>Mozilla\/5.0 (compatible; MSIE 9.0; Windows NT ...<\/td>\n",
       "      <td>Simpson, Williams and Pham<\/td>\n",
       "      <td>675957666125<\/td>\n",
       "      <td>08\/19<\/td>\n",
       "      <td>699<\/td>\n",
       "      <td>JCB 16 digit<\/td>\n",
       "      <td>amymiller@morales-harrison.com<\/td>\n",
       "      <td>Customer service manager<\/td>\n",
       "      <td>132.207.160.22<\/td>\n",
       "      <td>de<\/td>\n",
       "      <td>0.95<\/td>\n",
       "    <\/tr>\n",
       "    <tr>\n",
       "      <th>3<\/th>\n",
       "      <td>7780 Julia Fords\\nNew Stacy, WA 45798<\/td>\n",
       "      <td>36 vm<\/td>\n",
       "      <td>PM<\/td>\n",
       "      <td>Mozilla\/5.0 (Macintosh; Intel Mac OS X 10_8_0 ...<\/td>\n",
       "      <td>Williams, Marshall and Buchanan<\/td>\n",
       "      <td>6011578504430710<\/td>\n",
       "      <td>02\/24<\/td>\n",
       "      <td>384<\/td>\n",
       "      <td>Discover<\/td>\n",
       "      <td>brent16@olson-robinson.info<\/td>\n",
       "      <td>Drilling engineer<\/td>\n",
       "      <td>30.250.74.19<\/td>\n",
       "      <td>es<\/td>\n",
       "      <td>78.04<\/td>\n",
       "    <\/tr>\n",
       "    <tr>\n",
       "      <th>4<\/th>\n",
       "      <td>23012 Munoz Drive Suite 337\\nNew Cynthia, TX 5...<\/td>\n",
       "      <td>20 IE<\/td>\n",
       "      <td>AM<\/td>\n",
       "      <td>Opera\/9.58.(X11; Linux x86_64; it-IT) Presto\/2...<\/td>\n",
       "      <td>Brown, Watson and Andrews<\/td>\n",
       "      <td>6011456623207998<\/td>\n",
       "      <td>10\/25<\/td>\n",
       "      <td>678<\/td>\n",
       "      <td>Diners Club \/ Carte Blanche<\/td>\n",
       "      <td>christopherwright@gmail.com<\/td>\n",
       "      <td>Fine artist<\/td>\n",
       "      <td>24.140.33.94<\/td>\n",
       "      <td>es<\/td>\n",
       "      <td>77.82<\/td>\n",
       "    <\/tr>\n",
       "    <tr>\n",
       "      <th>5<\/th>\n",
       "      <td>7502 Powell Mission Apt. 768\\nTravisland, VA 3...<\/td>\n",
       "      <td>21 XT<\/td>\n",
       "      <td>PM<\/td>\n",
       "      <td>Mozilla\/5.0 (Macintosh; U; PPC Mac OS X 10_8_5...<\/td>\n",
       "      <td>Silva-Anderson<\/td>\n",
       "      <td>30246185196287<\/td>\n",
       "      <td>07\/25<\/td>\n",
       "      <td>7169<\/td>\n",
       "      <td>Discover<\/td>\n",
       "      <td>ynguyen@gmail.com<\/td>\n",
       "      <td>Fish farm manager<\/td>\n",
       "      <td>55.96.152.147<\/td>\n",
       "      <td>ru<\/td>\n",
       "      <td>25.15<\/td>\n",
       "    <\/tr>\n",
       "    <tr>\n",
       "      <th>6<\/th>\n",
       "      <td>93971 Conway Causeway\\nAndersonburgh, AZ 75107<\/td>\n",
       "      <td>96 Xt<\/td>\n",
       "      <td>AM<\/td>\n",
       "      <td>Mozilla\/5.0 (compatible; MSIE 7.0; Windows NT ...<\/td>\n",
       "      <td>Gibson and Sons<\/td>\n",
       "      <td>6011398782655569<\/td>\n",
       "      <td>07\/24<\/td>\n",
       "      <td>714<\/td>\n",
       "      <td>VISA 16 digit<\/td>\n",
       "      <td>olivia04@yahoo.com<\/td>\n",
       "      <td>Dancer<\/td>\n",
       "      <td>127.252.144.18<\/td>\n",
       "      <td>de<\/td>\n",
       "      <td>88.56<\/td>\n",
       "    <\/tr>\n",
       "    <tr>\n",
       "      <th>7<\/th>\n",
       "      <td>260 Rachel Plains Suite 366\\nCastroberg, WV 24...<\/td>\n",
       "      <td>96 pG<\/td>\n",
       "      <td>PM<\/td>\n",
       "      <td>Mozilla\/5.0 (X11; Linux i686) AppleWebKit\/5350...<\/td>\n",
       "      <td>Marshall-Collins<\/td>\n",
       "      <td>561252141909<\/td>\n",
       "      <td>06\/25<\/td>\n",
       "      <td>256<\/td>\n",
       "      <td>VISA 13 digit<\/td>\n",
       "      <td>phillip48@parks.info<\/td>\n",
       "      <td>Event organiser<\/td>\n",
       "      <td>224.247.97.150<\/td>\n",
       "      <td>pt<\/td>\n",
       "      <td>44.25<\/td>\n",
       "    <\/tr>\n",
       "    <tr>\n",
       "      <th>8<\/th>\n",
       "      <td>2129 Dylan Burg\\nNew Michelle, ME 28650<\/td>\n",
       "      <td>45 JN<\/td>\n",
       "      <td>PM<\/td>\n",
       "      <td>Mozilla\/5.0 (Macintosh; U; Intel Mac OS X 10_7...<\/td>\n",
       "      <td>Galloway and Sons<\/td>\n",
       "      <td>180041795790001<\/td>\n",
       "      <td>04\/24<\/td>\n",
       "      <td>899<\/td>\n",
       "      <td>JCB 16 digit<\/td>\n",
       "      <td>kdavis@rasmussen.com<\/td>\n",
       "      <td>Financial manager<\/td>\n",
       "      <td>146.234.201.229<\/td>\n",
       "      <td>ru<\/td>\n",
       "      <td>59.54<\/td>\n",
       "    <\/tr>\n",
       "    <tr>\n",
       "      <th>9<\/th>\n",
       "      <td>3795 Dawson Extensions\\nLake Tinafort, ID 88739<\/td>\n",
       "      <td>15 Ug<\/td>\n",
       "      <td>AM<\/td>\n",
       "      <td>Mozilla\/5.0 (X11; Linux i686; rv:1.9.7.20) Gec...<\/td>\n",
       "      <td>Rivera, Buchanan and Ramirez<\/td>\n",
       "      <td>4396283918371<\/td>\n",
       "      <td>01\/17<\/td>\n",
       "      <td>931<\/td>\n",
       "      <td>American Express<\/td>\n",
       "      <td>qcoleman@hunt-huerta.com<\/td>\n",
       "      <td>Forensic scientist<\/td>\n",
       "      <td>236.198.199.8<\/td>\n",
       "      <td>zh<\/td>\n",
       "      <td>95.63<\/td>\n",
       "    <\/tr>\n",
       "    <tr>\n",
       "      <th>10<\/th>\n",
       "      <td>650 Elizabeth Park\\nLake Maria, LA 13526-2530<\/td>\n",
       "      <td>65 Yn<\/td>\n",
       "      <td>PM<\/td>\n",
       "      <td>Mozilla\/5.0 (iPod; U; CPU iPhone OS 4_1 like M...<\/td>\n",
       "      <td>Strickland, Michael and Gonzales<\/td>\n",
       "      <td>180036417827355<\/td>\n",
       "      <td>02\/17<\/td>\n",
       "      <td>754<\/td>\n",
       "      <td>Voyager<\/td>\n",
       "      <td>ustewart@hotmail.com<\/td>\n",
       "      <td>Development worker, community<\/td>\n",
       "      <td>26.59.93.1<\/td>\n",
       "      <td>el<\/td>\n",
       "      <td>96.89<\/td>\n",
       "    <\/tr>\n",
       "    <tr>\n",
       "      <th>11<\/th>\n",
       "      <td>349 Laurie Parks\\nThomasview, ID 08970<\/td>\n",
       "      <td>30 kK<\/td>\n",
       "      <td>PM<\/td>\n",
       "      <td>Mozilla\/5.0 (X11; Linux i686; rv:1.9.6.20) Gec...<\/td>\n",
       "      <td>Kim-Oliver<\/td>\n",
       "      <td>869975209012056<\/td>\n",
       "      <td>06\/26<\/td>\n",
       "      <td>9717<\/td>\n",
       "      <td>JCB 15 digit<\/td>\n",
       "      <td>johnnymiller@coleman.com<\/td>\n",
       "      <td>Diagnostic radiographer<\/td>\n",
       "      <td>128.222.40.234<\/td>\n",
       "      <td>en<\/td>\n",
       "      <td>19.26<\/td>\n",
       "    <\/tr>\n",
       "    <tr>\n",
       "      <th>12<\/th>\n",
       "      <td>733 Heather Rest Apt. 670\\nBoltonport, UT 78662<\/td>\n",
       "      <td>69 DO<\/td>\n",
       "      <td>AM<\/td>\n",
       "      <td>Mozilla\/5.0 (Macintosh; Intel Mac OS X 10_5_3 ...<\/td>\n",
       "      <td>Moore-Martin<\/td>\n",
       "      <td>5115990487067905<\/td>\n",
       "      <td>05\/26<\/td>\n",
       "      <td>119<\/td>\n",
       "      <td>VISA 16 digit<\/td>\n",
       "      <td>tholt@hotmail.com<\/td>\n",
       "      <td>Surveyor, quantity<\/td>\n",
       "      <td>236.71.234.240<\/td>\n",
       "      <td>en<\/td>\n",
       "      <td>39.65<\/td>\n",
       "    <\/tr>\n",
       "    <tr>\n",
       "      <th>13<\/th>\n",
       "      <td>118 Melton Via Suite 681\\nAlexanderbury, FL 32104<\/td>\n",
       "      <td>36 bu<\/td>\n",
       "      <td>PM<\/td>\n",
       "      <td>Mozilla\/5.0 (Macintosh; U; Intel Mac OS X 10_8...<\/td>\n",
       "      <td>Keller PLC<\/td>\n",
       "      <td>4603635169938574<\/td>\n",
       "      <td>01\/25<\/td>\n",
       "      <td>557<\/td>\n",
       "      <td>VISA 16 digit<\/td>\n",
       "      <td>caitlin57@yahoo.com<\/td>\n",
       "      <td>Accountant, chartered public finance<\/td>\n",
       "      <td>84.212.92.11<\/td>\n",
       "      <td>it<\/td>\n",
       "      <td>8.93<\/td>\n",
       "    <\/tr>\n",
       "    <tr>\n",
       "      <th>14<\/th>\n",
       "      <td>8774 Jason Keys Suite 427\\nEast Scottborough, ...<\/td>\n",
       "      <td>70 zH<\/td>\n",
       "      <td>AM<\/td>\n",
       "      <td>Mozilla\/5.0 (Windows 98; it-IT; rv:1.9.2.20) G...<\/td>\n",
       "      <td>Leach, Howe and Ferguson<\/td>\n",
       "      <td>869967499275071<\/td>\n",
       "      <td>09\/22<\/td>\n",
       "      <td>427<\/td>\n",
       "      <td>VISA 16 digit<\/td>\n",
       "      <td>aburns@yahoo.com<\/td>\n",
       "      <td>Acupuncturist<\/td>\n",
       "      <td>50.25.148.1<\/td>\n",
       "      <td>de<\/td>\n",
       "      <td>24.18<\/td>\n",
       "    <\/tr>\n",
       "    <tr>\n",
       "      <th>15<\/th>\n",
       "      <td>31730 Chelsea Crest\\nBlakemouth, CT 90395-0620<\/td>\n",
       "      <td>41 Cj<\/td>\n",
       "      <td>PM<\/td>\n",
       "      <td>Opera\/8.95.(Windows NT 5.0; en-US) Presto\/2.9....<\/td>\n",
       "      <td>Garcia-Steele<\/td>\n",
       "      <td>180069437020404<\/td>\n",
       "      <td>04\/25<\/td>\n",
       "      <td>404<\/td>\n",
       "      <td>Diners Club \/ Carte Blanche<\/td>\n",
       "      <td>amanda39@yahoo.com<\/td>\n",
       "      <td>Retail manager<\/td>\n",
       "      <td>53.176.235.33<\/td>\n",
       "      <td>el<\/td>\n",
       "      <td>71.78<\/td>\n",
       "    <\/tr>\n",
       "    <tr>\n",
       "      <th>16<\/th>\n",
       "      <td>5283 Thomas Trafficway Suite 343\\nEast Brittne...<\/td>\n",
       "      <td>31 ho<\/td>\n",
       "      <td>AM<\/td>\n",
       "      <td>Opera\/9.73.(Windows NT 6.2; sl-SI) Presto\/2.9....<\/td>\n",
       "      <td>Stanton, Villanueva and Swanson<\/td>\n",
       "      <td>676121145525<\/td>\n",
       "      <td>06\/22<\/td>\n",
       "      <td>285<\/td>\n",
       "      <td>Diners Club \/ Carte Blanche<\/td>\n",
       "      <td>griffincatherine@wilson.com<\/td>\n",
       "      <td>Therapist, art<\/td>\n",
       "      <td>8.145.170.52<\/td>\n",
       "      <td>de<\/td>\n",
       "      <td>84.44<\/td>\n",
       "    <\/tr>\n",
       "    <tr>\n",
       "      <th>17<\/th>\n",
       "      <td>950 Jacqueline Village Apt. 592\\nPort Kimberly...<\/td>\n",
       "      <td>23 Rh<\/td>\n",
       "      <td>PM<\/td>\n",
       "      <td>Mozilla\/5.0 (compatible; MSIE 9.0; Windows NT ...<\/td>\n",
       "      <td>Fernandez, Melton and Gilbert<\/td>\n",
       "      <td>3337515540944084<\/td>\n",
       "      <td>01\/26<\/td>\n",
       "      <td>771<\/td>\n",
       "      <td>American Express<\/td>\n",
       "      <td>stacymitchell@hall.com<\/td>\n",
       "      <td>Designer, jewellery<\/td>\n",
       "      <td>223.25.125.61<\/td>\n",
       "      <td>el<\/td>\n",
       "      <td>58.68<\/td>\n",
       "    <\/tr>\n",
       "    <tr>\n",
       "      <th>18<\/th>\n",
       "      <td>461 Christopher Square\\nWest Michaelchester, C...<\/td>\n",
       "      <td>17 SB<\/td>\n",
       "      <td>PM<\/td>\n",
       "      <td>Mozilla\/5.0 (X11; Linux i686; rv:1.9.6.20) Gec...<\/td>\n",
       "      <td>Beard, Abbott and Pena<\/td>\n",
       "      <td>6011350184276270<\/td>\n",
       "      <td>12\/22<\/td>\n",
       "      <td>767<\/td>\n",
       "      <td>Mastercard<\/td>\n",
       "      <td>hannah63@yahoo.com<\/td>\n",
       "      <td>Photographer<\/td>\n",
       "      <td>73.250.176.201<\/td>\n",
       "      <td>el<\/td>\n",
       "      <td>70.15<\/td>\n",
       "    <\/tr>\n",
       "    <tr>\n",
       "      <th>19<\/th>\n",
       "      <td>125 Hall Summit\\nBoothton, IL 41721<\/td>\n",
       "      <td>99 CU<\/td>\n",
       "      <td>PM<\/td>\n",
       "      <td>Mozilla\/5.0 (compatible; MSIE 7.0; Windows NT ...<\/td>\n",
       "      <td>Turner-Mckinney<\/td>\n",
       "      <td>676343504830<\/td>\n",
       "      <td>02\/20<\/td>\n",
       "      <td>440<\/td>\n",
       "      <td>VISA 16 digit<\/td>\n",
       "      <td>ruiznicole@gmail.com<\/td>\n",
       "      <td>Designer, interior\/spatial<\/td>\n",
       "      <td>25.105.209.214<\/td>\n",
       "      <td>fr<\/td>\n",
       "      <td>58.39<\/td>\n",
       "    <\/tr>\n",
       "    <tr>\n",
       "      <th>20<\/th>\n",
       "      <td>7383 George Village\\nLake Jamesview, CO 79828<\/td>\n",
       "      <td>23 dk<\/td>\n",
       "      <td>PM<\/td>\n",
       "      <td>Mozilla\/5.0 (Windows; U; Windows NT 4.0) Apple...<\/td>\n",
       "      <td>Santana, Montes and Pierce<\/td>\n",
       "      <td>6011833038852776<\/td>\n",
       "      <td>03\/22<\/td>\n",
       "      <td>740<\/td>\n",
       "      <td>Maestro<\/td>\n",
       "      <td>zstephenson@smith.info<\/td>\n",
       "      <td>Public relations officer<\/td>\n",
       "      <td>250.71.54.180<\/td>\n",
       "      <td>de<\/td>\n",
       "      <td>30.33<\/td>\n",
       "    <\/tr>\n",
       "    <tr>\n",
       "      <th>21<\/th>\n",
       "      <td>282 Miller Valleys Suite 404\\nWilkinsonbury, M...<\/td>\n",
       "      <td>24 RZ<\/td>\n",
       "      <td>AM<\/td>\n",
       "      <td>Mozilla\/5.0 (compatible; MSIE 6.0; Windows NT ...<\/td>\n",
       "      <td>Guzman-Reese<\/td>\n",
       "      <td>5491255326230898<\/td>\n",
       "      <td>03\/25<\/td>\n",
       "      <td>506<\/td>\n",
       "      <td>JCB 16 digit<\/td>\n",
       "      <td>rsmith@hotmail.com<\/td>\n",
       "      <td>Presenter, broadcasting<\/td>\n",
       "      <td>125.58.66.253<\/td>\n",
       "      <td>it<\/td>\n",
       "      <td>90.93<\/td>\n",
       "    <\/tr>\n",
       "    <tr>\n",
       "      <th>22<\/th>\n",
       "      <td>625 Laura Summit Suite 112\\nShortmouth, AK 97156<\/td>\n",
       "      <td>45 oa<\/td>\n",
       "      <td>PM<\/td>\n",
       "      <td>Mozilla\/5.0 (Windows 95) AppleWebKit\/5342 (KHT...<\/td>\n",
       "      <td>Burnett Ltd<\/td>\n",
       "      <td>3158663456056588<\/td>\n",
       "      <td>07\/22<\/td>\n",
       "      <td>508<\/td>\n",
       "      <td>Discover<\/td>\n",
       "      <td>chambersmichael@gmail.com<\/td>\n",
       "      <td>Retail manager<\/td>\n",
       "      <td>65.106.61.141<\/td>\n",
       "      <td>en<\/td>\n",
       "      <td>33.62<\/td>\n",
       "    <\/tr>\n",
       "    <tr>\n",
       "      <th>23<\/th>\n",
       "      <td>25292 Shepherd Trail Apt. 798\\nRussellmouth, S...<\/td>\n",
       "      <td>31 pS<\/td>\n",
       "      <td>PM<\/td>\n",
       "      <td>Mozilla\/5.0 (compatible; MSIE 5.0; Windows 98;...<\/td>\n",
       "      <td>Cruz Inc<\/td>\n",
       "      <td>502010078983<\/td>\n",
       "      <td>02\/23<\/td>\n",
       "      <td>60<\/td>\n",
       "      <td>VISA 13 digit<\/td>\n",
       "      <td>ltaylor@gardner-meadows.com<\/td>\n",
       "      <td>Field seismologist<\/td>\n",
       "      <td>25.193.145.116<\/td>\n",
       "      <td>ru<\/td>\n",
       "      <td>97.97<\/td>\n",
       "    <\/tr>\n",
       "    <tr>\n",
       "      <th>24<\/th>\n",
       "      <td>Unit 3046 Box 3197\\nDPO AE 61496-4172<\/td>\n",
       "      <td>62 Ac<\/td>\n",
       "      <td>AM<\/td>\n",
       "      <td>Mozilla\/5.0 (compatible; MSIE 6.0; Windows CE;...<\/td>\n",
       "      <td>Morris PLC<\/td>\n",
       "      <td>4749728852401144<\/td>\n",
       "      <td>07\/18<\/td>\n",
       "      <td>11<\/td>\n",
       "      <td>JCB 15 digit<\/td>\n",
       "      <td>james07@yahoo.com<\/td>\n",
       "      <td>Musician<\/td>\n",
       "      <td>21.113.231.220<\/td>\n",
       "      <td>es<\/td>\n",
       "      <td>85.31<\/td>\n",
       "    <\/tr>\n",
       "    <tr>\n",
       "      <th>25<\/th>\n",
       "      <td>80797 Ryan Trail Apt. 752\\nAaronhaven, MI 0622...<\/td>\n",
       "      <td>66 SO<\/td>\n",
       "      <td>PM<\/td>\n",
       "      <td>Mozilla\/5.0 (Macintosh; U; PPC Mac OS X 10_7_1...<\/td>\n",
       "      <td>Saunders-Mendez<\/td>\n",
       "      <td>869938033091779<\/td>\n",
       "      <td>05\/19<\/td>\n",
       "      <td>901<\/td>\n",
       "      <td>Voyager<\/td>\n",
       "      <td>madison41@mooney.com<\/td>\n",
       "      <td>Training and development officer<\/td>\n",
       "      <td>67.26.186.226<\/td>\n",
       "      <td>de<\/td>\n",
       "      <td>6.25<\/td>\n",
       "    <\/tr>\n",
       "    <tr>\n",
       "      <th>26<\/th>\n",
       "      <td>5334 Sheppard Fort\\nNorth Kirsten, ND 71170<\/td>\n",
       "      <td>40 ND<\/td>\n",
       "      <td>AM<\/td>\n",
       "      <td>Mozilla\/5.0 (Macintosh; Intel Mac OS X 10_6_3)...<\/td>\n",
       "      <td>Stephens, Johnson and Combs<\/td>\n",
       "      <td>60488441233<\/td>\n",
       "      <td>03\/19<\/td>\n",
       "      <td>70<\/td>\n",
       "      <td>VISA 13 digit<\/td>\n",
       "      <td>mlogan@gmail.com<\/td>\n",
       "      <td>Barrister's clerk<\/td>\n",
       "      <td>61.197.134.185<\/td>\n",
       "      <td>en<\/td>\n",
       "      <td>17.75<\/td>\n",
       "    <\/tr>\n",
       "    <tr>\n",
       "      <th>27<\/th>\n",
       "      <td>5015 Smith Harbors\\nSouth Ashley, OK 81283<\/td>\n",
       "      <td>34 JQ<\/td>\n",
       "      <td>PM<\/td>\n",
       "      <td>Opera\/9.75.(Windows NT 6.0; en-US) Presto\/2.9....<\/td>\n",
       "      <td>Levine, Shaw and Jenkins<\/td>\n",
       "      <td>869948145612941<\/td>\n",
       "      <td>12\/16<\/td>\n",
       "      <td>310<\/td>\n",
       "      <td>Diners Club \/ Carte Blanche<\/td>\n",
       "      <td>michael35@hotmail.com<\/td>\n",
       "      <td>Careers adviser<\/td>\n",
       "      <td>177.220.131.93<\/td>\n",
       "      <td>es<\/td>\n",
       "      <td>39.40<\/td>\n",
       "    <\/tr>\n",
       "    <tr>\n",
       "      <th>28<\/th>\n",
       "      <td>50533 Cooper Cliffs\\nNorth Jonathanberg, MD 20482<\/td>\n",
       "      <td>17 kP<\/td>\n",
       "      <td>PM<\/td>\n",
       "      <td>Mozilla\/5.0 (Windows; U; Windows NT 6.1) Apple...<\/td>\n",
       "      <td>Reed Inc<\/td>\n",
       "      <td>180026477662982<\/td>\n",
       "      <td>11\/24<\/td>\n",
       "      <td>16<\/td>\n",
       "      <td>JCB 15 digit<\/td>\n",
       "      <td>khandeborah@yahoo.com<\/td>\n",
       "      <td>Scientist, research (life sciences)<\/td>\n",
       "      <td>142.131.235.225<\/td>\n",
       "      <td>es<\/td>\n",
       "      <td>70.75<\/td>\n",
       "    <\/tr>\n",
       "    <tr>\n",
       "      <th>29<\/th>\n",
       "      <td>30755 Joshua Plaza Apt. 567\\nWest Susanton, FM...<\/td>\n",
       "      <td>93 OP<\/td>\n",
       "      <td>PM<\/td>\n",
       "      <td>Mozilla\/5.0 (Macintosh; U; PPC Mac OS X 10_6_7...<\/td>\n",
       "      <td>Goodwin Ltd<\/td>\n",
       "      <td>4170734785397597<\/td>\n",
       "      <td>07\/22<\/td>\n",
       "      <td>319<\/td>\n",
       "      <td>Maestro<\/td>\n",
       "      <td>stonekaren@yahoo.com<\/td>\n",
       "      <td>Recycling officer<\/td>\n",
       "      <td>218.189.145.248<\/td>\n",
       "      <td>it<\/td>\n",
       "      <td>82.16<\/td>\n",
       "    <\/tr>\n",
       "    <tr>\n",
       "      <th>30<\/th>\n",
       "      <td>849 Tony Unions Apt. 654\\nSnowchester, SD 66068<\/td>\n",
       "      <td>76 zr<\/td>\n",
       "      <td>PM<\/td>\n",
       "      <td>Mozilla\/5.0 (Windows NT 6.2) AppleWebKit\/5341 ...<\/td>\n",
       "      <td>Mills-Stewart<\/td>\n",
       "      <td>4262383666841320<\/td>\n",
       "      <td>04\/17<\/td>\n",
       "      <td>412<\/td>\n",
       "      <td>Diners Club \/ Carte Blanche<\/td>\n",
       "      <td>laurahess@hotmail.com<\/td>\n",
       "      <td>Fisheries officer<\/td>\n",
       "      <td>215.63.180.154<\/td>\n",
       "      <td>ru<\/td>\n",
       "      <td>8.43<\/td>\n",
       "    <\/tr>\n",
       "    <tr>\n",
       "      <th>31<\/th>\n",
       "      <td>USNS Alvarado\\nFPO AA 27052-1231<\/td>\n",
       "      <td>26 Lh<\/td>\n",
       "      <td>PM<\/td>\n",
       "      <td>Opera\/8.84.(X11; Linux i686; sl-SI) Presto\/2.9...<\/td>\n",
       "      <td>Nicholson Group<\/td>\n",
       "      <td>4614997834548<\/td>\n",
       "      <td>03\/22<\/td>\n",
       "      <td>909<\/td>\n",
       "      <td>Mastercard<\/td>\n",
       "      <td>ashley12@hotmail.com<\/td>\n",
       "      <td>Sales executive<\/td>\n",
       "      <td>94.176.142.201<\/td>\n",
       "      <td>en<\/td>\n",
       "      <td>94.14<\/td>\n",
       "    <\/tr>\n",
       "    <tr>\n",
       "      <th>32<\/th>\n",
       "      <td>Unit 3628 Box 6778\\nDPO AE 72362<\/td>\n",
       "      <td>39 Qm<\/td>\n",
       "      <td>PM<\/td>\n",
       "      <td>Mozilla\/5.0 (Windows 98; Win 9x 4.90) AppleWeb...<\/td>\n",
       "      <td>Martinez-Wilson<\/td>\n",
       "      <td>4942281854569455<\/td>\n",
       "      <td>01\/20<\/td>\n",
       "      <td>8360<\/td>\n",
       "      <td>JCB 16 digit<\/td>\n",
       "      <td>shane21@atkinson.com<\/td>\n",
       "      <td>Civil Service fast streamer<\/td>\n",
       "      <td>196.37.134.217<\/td>\n",
       "      <td>pt<\/td>\n",
       "      <td>56.63<\/td>\n",
       "    <\/tr>\n",
       "    <tr>\n",
       "      <th>33<\/th>\n",
       "      <td>209 Nguyen Haven\\nLouischester, VT 52868-6766<\/td>\n",
       "      <td>70 Wd<\/td>\n",
       "      <td>PM<\/td>\n",
       "      <td>Mozilla\/5.0 (compatible; MSIE 9.0; Windows NT ...<\/td>\n",
       "      <td>Miles Inc<\/td>\n",
       "      <td>4981497027087090<\/td>\n",
       "      <td>05\/25<\/td>\n",
       "      <td>867<\/td>\n",
       "      <td>VISA 16 digit<\/td>\n",
       "      <td>salazarpatricia@yahoo.com<\/td>\n",
       "      <td>Theatre stage manager<\/td>\n",
       "      <td>187.206.154.93<\/td>\n",
       "      <td>ru<\/td>\n",
       "      <td>19.63<\/td>\n",
       "    <\/tr>\n",
       "    <tr>\n",
       "      <th>34<\/th>\n",
       "      <td>112 Moreno Harbors Apt. 594\\nNew Yvonnefurt, M...<\/td>\n",
       "      <td>14 qe<\/td>\n",
       "      <td>PM<\/td>\n",
       "      <td>Mozilla\/5.0 (Windows NT 6.1) AppleWebKit\/5310 ...<\/td>\n",
       "      <td>Morgan, Dunlap and Lopez<\/td>\n",
       "      <td>4488424222907706<\/td>\n",
       "      <td>01\/21<\/td>\n",
       "      <td>311<\/td>\n",
       "      <td>JCB 15 digit<\/td>\n",
       "      <td>mdavis@carey-davis.com<\/td>\n",
       "      <td>Therapist, music<\/td>\n",
       "      <td>46.198.92.108<\/td>\n",
       "      <td>pt<\/td>\n",
       "      <td>89.60<\/td>\n",
       "    <\/tr>\n",
       "    <tr>\n",
       "      <th>35<\/th>\n",
       "      <td>93392 Webb Gardens Apt. 220\\nLaurabury, AR 999...<\/td>\n",
       "      <td>37 om<\/td>\n",
       "      <td>AM<\/td>\n",
       "      <td>Mozilla\/5.0 (Macintosh; U; Intel Mac OS X 10_7...<\/td>\n",
       "      <td>Mora Ltd<\/td>\n",
       "      <td>6011049630969815<\/td>\n",
       "      <td>09\/16<\/td>\n",
       "      <td>367<\/td>\n",
       "      <td>Mastercard<\/td>\n",
       "      <td>hgonzalez@mcdowell.com<\/td>\n",
       "      <td>Lecturer, further education<\/td>\n",
       "      <td>216.23.95.40<\/td>\n",
       "      <td>zh<\/td>\n",
       "      <td>97.46<\/td>\n",
       "    <\/tr>\n",
       "    <tr>\n",
       "      <th>36<\/th>\n",
       "      <td>9374 Skinner Common Apt. 254\\nChristopherfort,...<\/td>\n",
       "      <td>80 Fq<\/td>\n",
       "      <td>PM<\/td>\n",
       "      <td>Mozilla\/5.0 (compatible; MSIE 9.0; Windows NT ...<\/td>\n",
       "      <td>Hanna-Grant<\/td>\n",
       "      <td>180042289507877<\/td>\n",
       "      <td>09\/20<\/td>\n",
       "      <td>912<\/td>\n",
       "      <td>VISA 16 digit<\/td>\n",
       "      <td>saundersernest@walsh.com<\/td>\n",
       "      <td>Animal technologist<\/td>\n",
       "      <td>85.134.58.250<\/td>\n",
       "      <td>zh<\/td>\n",
       "      <td>9.77<\/td>\n",
       "    <\/tr>\n",
       "    <tr>\n",
       "      <th>37<\/th>\n",
       "      <td>86777 Mary Crescent\\nCarloshaven, KY 48326<\/td>\n",
       "      <td>10 LL<\/td>\n",
       "      <td>AM<\/td>\n",
       "      <td>Mozilla\/5.0 (compatible; MSIE 9.0; Windows 98;...<\/td>\n",
       "      <td>Lawson, Rodriguez and Ramirez<\/td>\n",
       "      <td>180062205588942<\/td>\n",
       "      <td>06\/18<\/td>\n",
       "      <td>902<\/td>\n",
       "      <td>American Express<\/td>\n",
       "      <td>marc20@frederick.info<\/td>\n",
       "      <td>Psychologist, occupational<\/td>\n",
       "      <td>17.202.105.185<\/td>\n",
       "      <td>es<\/td>\n",
       "      <td>80.42<\/td>\n",
       "    <\/tr>\n",
       "    <tr>\n",
       "      <th>38<\/th>\n",
       "      <td>9671 Riley Drives Apt. 746\\nPort Davidtown, TN...<\/td>\n",
       "      <td>15 vj<\/td>\n",
       "      <td>AM<\/td>\n",
       "      <td>Mozilla\/5.0 (X11; Linux i686; rv:1.9.6.20) Gec...<\/td>\n",
       "      <td>Bryant, Hubbard and Gonzales<\/td>\n",
       "      <td>210094965373094<\/td>\n",
       "      <td>12\/20<\/td>\n",
       "      <td>248<\/td>\n",
       "      <td>Voyager<\/td>\n",
       "      <td>djennings@boyd-english.org<\/td>\n",
       "      <td>Music therapist<\/td>\n",
       "      <td>143.138.65.219<\/td>\n",
       "      <td>en<\/td>\n",
       "      <td>30.07<\/td>\n",
       "    <\/tr>\n",
       "    <tr>\n",
       "      <th>39<\/th>\n",
       "      <td>9526 Diane Parks Apt. 854\\nBerrybury, WV 99985...<\/td>\n",
       "      <td>31 MN<\/td>\n",
       "      <td>AM<\/td>\n",
       "      <td>Opera\/8.23.(X11; Linux x86_64; sl-SI) Presto\/2...<\/td>\n",
       "      <td>Sweeney, Miller and Castaneda<\/td>\n",
       "      <td>30508996615114<\/td>\n",
       "      <td>02\/19<\/td>\n",
       "      <td>369<\/td>\n",
       "      <td>JCB 16 digit<\/td>\n",
       "      <td>stephanie90@wells-carlson.info<\/td>\n",
       "      <td>Minerals surveyor<\/td>\n",
       "      <td>47.93.149.75<\/td>\n",
       "      <td>el<\/td>\n",
       "      <td>13.89<\/td>\n",
       "    <\/tr>\n",
       "    <tr>\n",
       "      <th>40<\/th>\n",
       "      <td>821 Adams Courts Apt. 568\\nNorth Nicole, MS 03...<\/td>\n",
       "      <td>35 gn<\/td>\n",
       "      <td>AM<\/td>\n",
       "      <td>Mozilla\/5.0 (Windows; U; Windows 95) AppleWebK...<\/td>\n",
       "      <td>Weiss Group<\/td>\n",
       "      <td>348836222401711<\/td>\n",
       "      <td>05\/26<\/td>\n",
       "      <td>667<\/td>\n",
       "      <td>Voyager<\/td>\n",
       "      <td>hernandezevelyn@dickerson.com<\/td>\n",
       "      <td>Tourist information centre manager<\/td>\n",
       "      <td>102.225.220.122<\/td>\n",
       "      <td>pt<\/td>\n",
       "      <td>87.68<\/td>\n",
       "    <\/tr>\n",
       "    <tr>\n",
       "      <th>41<\/th>\n",
       "      <td>779 Sydney Keys Apt. 119\\nAnthonyside, NH 2179...<\/td>\n",
       "      <td>21 lh<\/td>\n",
       "      <td>PM<\/td>\n",
       "      <td>Mozilla\/5.0 (Windows; U; Windows 98) AppleWebK...<\/td>\n",
       "      <td>Scott-Fuller<\/td>\n",
       "      <td>4547562019036152<\/td>\n",
       "      <td>08\/20<\/td>\n",
       "      <td>716<\/td>\n",
       "      <td>Mastercard<\/td>\n",
       "      <td>kimberlygaines@yahoo.com<\/td>\n",
       "      <td>Tax inspector<\/td>\n",
       "      <td>246.108.171.137<\/td>\n",
       "      <td>ru<\/td>\n",
       "      <td>23.06<\/td>\n",
       "    <\/tr>\n",
       "    <tr>\n",
       "      <th>42<\/th>\n",
       "      <td>605 Dillon Parks Apt. 900\\nSarafort, WV 87894<\/td>\n",
       "      <td>40 cz<\/td>\n",
       "      <td>AM<\/td>\n",
       "      <td>Mozilla\/5.0 (X11; Linux x86_64; rv:1.9.6.20) G...<\/td>\n",
       "      <td>Atkinson, Conway and Young<\/td>\n",
       "      <td>3096412225633417<\/td>\n",
       "      <td>12\/20<\/td>\n",
       "      <td>454<\/td>\n",
       "      <td>Discover<\/td>\n",
       "      <td>cwalsh@gmail.com<\/td>\n",
       "      <td>Buyer, industrial<\/td>\n",
       "      <td>50.235.90.141<\/td>\n",
       "      <td>de<\/td>\n",
       "      <td>51.21<\/td>\n",
       "    <\/tr>\n",
       "    <tr>\n",
       "      <th>43<\/th>\n",
       "      <td>92982 Christopher Harbor\\nLake Brianahaven, NJ...<\/td>\n",
       "      <td>60 Uq<\/td>\n",
       "      <td>PM<\/td>\n",
       "      <td>Mozilla\/5.0 (X11; Linux x86_64) AppleWebKit\/53...<\/td>\n",
       "      <td>Matthews-Meyer<\/td>\n",
       "      <td>6011488855778396<\/td>\n",
       "      <td>04\/23<\/td>\n",
       "      <td>543<\/td>\n",
       "      <td>Discover<\/td>\n",
       "      <td>phillipallison@martinez-thomas.com<\/td>\n",
       "      <td>Purchasing manager<\/td>\n",
       "      <td>242.88.41.9<\/td>\n",
       "      <td>el<\/td>\n",
       "      <td>51.79<\/td>\n",
       "    <\/tr>\n",
       "    <tr>\n",
       "      <th>44<\/th>\n",
       "      <td>907 Torres Spur Suite 083\\nJuliefurt, NJ 99332<\/td>\n",
       "      <td>81 Ym<\/td>\n",
       "      <td>PM<\/td>\n",
       "      <td>Mozilla\/5.0 (compatible; MSIE 6.0; Windows NT ...<\/td>\n",
       "      <td>Esparza Ltd<\/td>\n",
       "      <td>30003479457184<\/td>\n",
       "      <td>08\/24<\/td>\n",
       "      <td>719<\/td>\n",
       "      <td>JCB 16 digit<\/td>\n",
       "      <td>aprilorr@yahoo.com<\/td>\n",
       "      <td>Heritage manager<\/td>\n",
       "      <td>95.100.249.114<\/td>\n",
       "      <td>en<\/td>\n",
       "      <td>8.58<\/td>\n",
       "    <\/tr>\n",
       "    <tr>\n",
       "      <th>45<\/th>\n",
       "      <td>096 Edwards Valleys Suite 917\\nPerkinsberg, LA...<\/td>\n",
       "      <td>07 Cd<\/td>\n",
       "      <td>PM<\/td>\n",
       "      <td>Mozilla\/5.0 (Windows NT 6.2) AppleWebKit\/5312 ...<\/td>\n",
       "      <td>Jackson-Allen<\/td>\n",
       "      <td>869978354045368<\/td>\n",
       "      <td>03\/26<\/td>\n",
       "      <td>406<\/td>\n",
       "      <td>American Express<\/td>\n",
       "      <td>gregorygarner@chambers.com<\/td>\n",
       "      <td>Games developer<\/td>\n",
       "      <td>222.242.66.78<\/td>\n",
       "      <td>es<\/td>\n",
       "      <td>18.69<\/td>\n",
       "    <\/tr>\n",
       "    <tr>\n",
       "      <th>46<\/th>\n",
       "      <td>1663 Michael Course\\nPort Susan, MA 25996<\/td>\n",
       "      <td>23 Xz<\/td>\n",
       "      <td>AM<\/td>\n",
       "      <td>Mozilla\/5.0 (compatible; MSIE 5.0; Windows NT ...<\/td>\n",
       "      <td>Brown-Brown<\/td>\n",
       "      <td>30124451554465<\/td>\n",
       "      <td>08\/20<\/td>\n",
       "      <td>545<\/td>\n",
       "      <td>JCB 16 digit<\/td>\n",
       "      <td>wmckenzie@gmail.com<\/td>\n",
       "      <td>Careers adviser<\/td>\n",
       "      <td>38.56.10.36<\/td>\n",
       "      <td>pt<\/td>\n",
       "      <td>53.99<\/td>\n",
       "    <\/tr>\n",
       "    <tr>\n",
       "      <th>47<\/th>\n",
       "      <td>261 Walton Road Suite 704\\nMaldonadoshire, MD ...<\/td>\n",
       "      <td>55 DV<\/td>\n",
       "      <td>PM<\/td>\n",
       "      <td>Mozilla\/5.0 (X11; Linux i686) AppleWebKit\/5330...<\/td>\n",
       "      <td>Sanchez PLC<\/td>\n",
       "      <td>4237333090755<\/td>\n",
       "      <td>09\/20<\/td>\n",
       "      <td>446<\/td>\n",
       "      <td>Maestro<\/td>\n",
       "      <td>zrocha@glenn.org<\/td>\n",
       "      <td>Facilities manager<\/td>\n",
       "      <td>84.195.175.153<\/td>\n",
       "      <td>it<\/td>\n",
       "      <td>97.01<\/td>\n",
       "    <\/tr>\n",
       "    <tr>\n",
       "      <th>48<\/th>\n",
       "      <td>87363 Smith Unions Apt. 127\\nLake Sarahfort, M...<\/td>\n",
       "      <td>59 Vv<\/td>\n",
       "      <td>PM<\/td>\n",
       "      <td>Mozilla\/5.0 (Macintosh; U; PPC Mac OS X 10_7_8...<\/td>\n",
       "      <td>Diaz-Farrell<\/td>\n",
       "      <td>210095502370279<\/td>\n",
       "      <td>05\/24<\/td>\n",
       "      <td>253<\/td>\n",
       "      <td>JCB 16 digit<\/td>\n",
       "      <td>pruittjohn@allen.com<\/td>\n",
       "      <td>Chemist, analytical<\/td>\n",
       "      <td>13.159.43.73<\/td>\n",
       "      <td>ru<\/td>\n",
       "      <td>58.66<\/td>\n",
       "    <\/tr>\n",
       "    <tr>\n",
       "      <th>49<\/th>\n",
       "      <td>822 Cook Street Suite 531\\nFranklinside, WI 50138<\/td>\n",
       "      <td>37 XR<\/td>\n",
       "      <td>PM<\/td>\n",
       "      <td>Opera\/8.11.(X11; Linux x86_64; it-IT) Presto\/2...<\/td>\n",
       "      <td>Ingram, Sullivan and Contreras<\/td>\n",
       "      <td>5374455122083499<\/td>\n",
       "      <td>05\/25<\/td>\n",
       "      <td>657<\/td>\n",
       "      <td>VISA 13 digit<\/td>\n",
       "      <td>schmidtjacob@gmail.com<\/td>\n",
       "      <td>Horticulturist, amenity<\/td>\n",
       "      <td>84.240.35.144<\/td>\n",
       "      <td>es<\/td>\n",
       "      <td>86.38<\/td>\n",
       "    <\/tr>\n",
       "  <\/tbody>\n",
       "<\/table>\n",
       "<\/div>"
      ]
     },
     "metadata":{
      
     },
     "output_type":"display_data"
    }
   ],
   "metadata":{
    "datalore":{
     "type":"CODE",
     "hide_input_from_viewers":false,
     "hide_output_from_viewers":false,
     "node_id":"WTQxad5YCdU5hNKoBx4W3i"
    }
   }
  },
  {
   "cell_type":"markdown",
   "source":[
    "**How many rows and columns are there?**"
   ],
   "attachments":{
    
   },
   "metadata":{
    "datalore":{
     "type":"MD",
     "hide_input_from_viewers":false,
     "hide_output_from_viewers":false,
     "node_id":"DWfnhhSCyYcabekCoPGTUh"
    }
   }
  },
  {
   "cell_type":"code",
   "source":[
    "ecom.info()"
   ],
   "execution_count":6,
   "outputs":[
    {
     "name":"stdout",
     "text":[
      "<class 'pandas.core.frame.DataFrame'>\n",
      "RangeIndex: 10000 entries, 0 to 9999\n",
      "Data columns (total 14 columns):\n",
      " #   Column            Non-Null Count  Dtype  \n",
      "---  ------            --------------  -----  \n",
      " 0   Address           10000 non-null  object \n",
      " 1   Lot               10000 non-null  object \n",
      " 2   AM or PM          10000 non-null  object \n",
      " 3   Browser Info      10000 non-null  object \n",
      " 4   Company           10000 non-null  object \n",
      " 5   Credit Card       10000 non-null  int64  \n",
      " 6   CC Exp Date       10000 non-null  object \n",
      " 7   CC Security Code  10000 non-null  int64  \n",
      " 8   CC Provider       10000 non-null  object \n",
      " 9   Email             10000 non-null  object \n",
      " 10  Job               10000 non-null  object \n",
      " 11  IP Address        10000 non-null  object \n",
      " 12  Language          10000 non-null  object \n",
      " 13  Purchase Price    10000 non-null  float64\n",
      "dtypes: float64(1), int64(2), object(11)\n",
      "memory usage: 1.1+ MB\n"
     ],
     "output_type":"stream"
    }
   ],
   "metadata":{
    "datalore":{
     "type":"CODE",
     "hide_input_from_viewers":false,
     "hide_output_from_viewers":false,
     "node_id":"oiBaS6URFqCHUkWaEFmreF"
    }
   }
  },
  {
   "cell_type":"markdown",
   "source":[
    "**What is the average Purchase Price?**"
   ],
   "attachments":{
    
   },
   "metadata":{
    "datalore":{
     "type":"MD",
     "hide_input_from_viewers":false,
     "hide_output_from_viewers":false,
     "node_id":"4GLomhagQ7Fgb6PxTPmqGd"
    }
   }
  },
  {
   "cell_type":"code",
   "source":[
    "ecom['Purchase Price'].mean()"
   ],
   "execution_count":7,
   "outputs":[
    {
     "data":{
      "text\/plain":[
       "50.347302"
      ]
     },
     "metadata":{
      
     },
     "output_type":"display_data"
    }
   ],
   "metadata":{
    "datalore":{
     "type":"CODE",
     "hide_input_from_viewers":false,
     "hide_output_from_viewers":false,
     "node_id":"XYj6G4UQ9QYgmH1NvjihCi"
    }
   }
  },
  {
   "cell_type":"markdown",
   "source":[
    "**What were the highest and lowest purchase prices?**"
   ],
   "attachments":{
    
   },
   "metadata":{
    "datalore":{
     "type":"MD",
     "hide_input_from_viewers":false,
     "hide_output_from_viewers":false,
     "node_id":"K4we6ozWD7etS8wGsvZaEW"
    }
   }
  },
  {
   "cell_type":"code",
   "source":[
    "ecom['Purchase Price'].max()"
   ],
   "execution_count":8,
   "outputs":[
    {
     "data":{
      "text\/plain":[
       "99.99"
      ]
     },
     "metadata":{
      
     },
     "output_type":"display_data"
    }
   ],
   "metadata":{
    "datalore":{
     "type":"CODE",
     "hide_input_from_viewers":false,
     "hide_output_from_viewers":false,
     "node_id":"VCy9hgLN5hlLLpCsIrdsyn"
    }
   }
  },
  {
   "cell_type":"code",
   "source":[
    "ecom['Purchase Price'].min()"
   ],
   "execution_count":9,
   "outputs":[
    {
     "data":{
      "text\/plain":[
       "0.0"
      ]
     },
     "metadata":{
      
     },
     "output_type":"display_data"
    }
   ],
   "metadata":{
    "datalore":{
     "type":"CODE",
     "hide_input_from_viewers":false,
     "hide_output_from_viewers":false,
     "node_id":"buwlFUvNZ1EgCdS4Y46QNQ"
    }
   }
  },
  {
   "cell_type":"markdown",
   "source":[
    "**How many people have English 'en' as their Language of choice on the website?**"
   ],
   "attachments":{
    
   },
   "metadata":{
    "datalore":{
     "type":"MD",
     "hide_input_from_viewers":false,
     "hide_output_from_viewers":false,
     "node_id":"qZSn8jRmMp5bQqr7QeizRs"
    }
   }
  },
  {
   "cell_type":"code",
   "source":[
    "ecom[ecom['Language'] == 'en']['Language'].count()"
   ],
   "execution_count":12,
   "outputs":[
    {
     "data":{
      "text\/plain":[
       "1098"
      ]
     },
     "metadata":{
      
     },
     "output_type":"display_data"
    }
   ],
   "metadata":{
    "datalore":{
     "type":"CODE",
     "hide_input_from_viewers":false,
     "hide_output_from_viewers":false,
     "node_id":"krKv3KHWXU7KcR0R5dhwez"
    }
   }
  },
  {
   "cell_type":"markdown",
   "source":[
    "**How many people have the job title of \"Lawyer\" ?**"
   ],
   "attachments":{
    
   },
   "metadata":{
    "datalore":{
     "type":"MD",
     "hide_input_from_viewers":false,
     "hide_output_from_viewers":false,
     "node_id":"7UBsIwYD7BJVj7aqLUOPpn"
    }
   }
  },
  {
   "cell_type":"code",
   "source":[
    "ecom[ecom['Job'] == 'Lawyer']['Job'].count()"
   ],
   "execution_count":19,
   "outputs":[
    {
     "data":{
      "text\/plain":[
       "30"
      ]
     },
     "metadata":{
      
     },
     "output_type":"display_data"
    }
   ],
   "metadata":{
    "datalore":{
     "type":"CODE",
     "hide_input_from_viewers":false,
     "hide_output_from_viewers":false,
     "node_id":"dLzJecuBozdUVihL8VKtw1"
    }
   }
  },
  {
   "cell_type":"markdown",
   "source":[
    "**How many people made the purchase during the AM and how many people made the purchase during PM ?**\n",
    "\n",
    "**(Hint: Check out [value_counts()](http:\/\/pandas.pydata.org\/pandas-docs\/stable\/generated\/pandas.Series.value_counts.html) )**"
   ],
   "attachments":{
    
   },
   "metadata":{
    "datalore":{
     "type":"MD",
     "hide_input_from_viewers":false,
     "hide_output_from_viewers":false,
     "node_id":"3y42sFj6GlxQFyMGEY2xs1"
    }
   }
  },
  {
   "cell_type":"code",
   "source":[
    "ecom['AM or PM'].value_counts()"
   ],
   "execution_count":40,
   "outputs":[
    {
     "data":{
      "text\/html":[
       
      ]
     },
     "metadata":{
      
     },
     "output_type":"display_data"
    }
   ],
   "metadata":{
    "datalore":{
     "type":"CODE",
     "hide_input_from_viewers":false,
     "hide_output_from_viewers":false,
     "node_id":"EMwPz5m7UdXTuNwn8efiUO"
    }
   }
  },
  {
   "cell_type":"markdown",
   "source":[
    "**What are the 5 most common Job Titles?**"
   ],
   "attachments":{
    
   },
   "metadata":{
    "datalore":{
     "type":"MD",
     "hide_input_from_viewers":false,
     "hide_output_from_viewers":false,
     "node_id":"AGEAGUc3RFY1L70n9mMivA"
    }
   }
  },
  {
   "cell_type":"code",
   "source":[
    "ecom['Job'].value_counts().head()"
   ],
   "execution_count":59,
   "outputs":[
    {
     "data":{
      "text\/html":[
       
      ]
     },
     "metadata":{
      
     },
     "output_type":"display_data"
    }
   ],
   "metadata":{
    "datalore":{
     "type":"CODE",
     "hide_input_from_viewers":false,
     "hide_output_from_viewers":false,
     "node_id":"6bFRyiYVq60eZ14RBYk5WF"
    }
   }
  },
  {
   "cell_type":"markdown",
   "source":[
    "**Someone made a purchase that came from Lot: \"90 WT\" , what was the Purchase Price for this transaction?**"
   ],
   "attachments":{
    
   },
   "metadata":{
    "datalore":{
     "type":"MD",
     "hide_input_from_viewers":false,
     "hide_output_from_viewers":false,
     "node_id":"VG90ik1e4efbfd9K7ggPPH"
    }
   }
  },
  {
   "cell_type":"code",
   "source":[
    "ecom[ecom['Lot'] == '90 WT']['Purchase Price']"
   ],
   "execution_count":61,
   "outputs":[
    {
     "data":{
      "text\/html":[
       
      ]
     },
     "metadata":{
      
     },
     "output_type":"display_data"
    }
   ],
   "metadata":{
    "datalore":{
     "type":"CODE",
     "hide_input_from_viewers":false,
     "hide_output_from_viewers":false,
     "node_id":"ZJ48Srxe5yJRNqFxbLT17z"
    }
   }
  },
  {
   "cell_type":"markdown",
   "source":[
    "**What is the email of the person with the following Credit Card Number: 4926535242672853**"
   ],
   "attachments":{
    
   },
   "metadata":{
    "datalore":{
     "type":"MD",
     "hide_input_from_viewers":false,
     "hide_output_from_viewers":false,
     "node_id":"N1n8M7zK4ubtkUlMli34hN"
    }
   }
  },
  {
   "cell_type":"code",
   "source":[
    "ecom[ecom['Credit Card'] == 4926535242672853]['Email']"
   ],
   "execution_count":63,
   "outputs":[
    {
     "data":{
      "text\/html":[
       
      ]
     },
     "metadata":{
      
     },
     "output_type":"display_data"
    }
   ],
   "metadata":{
    "datalore":{
     "type":"CODE",
     "hide_input_from_viewers":false,
     "hide_output_from_viewers":false,
     "node_id":"U5TGmUvRd6XOvREre7kx9Y"
    }
   }
  },
  {
   "cell_type":"markdown",
   "source":[
    "**How many people have American Express as their Credit Card Provider *and* made a purchase above $95 ?**"
   ],
   "attachments":{
    
   },
   "metadata":{
    "datalore":{
     "type":"MD",
     "hide_input_from_viewers":false,
     "hide_output_from_viewers":false,
     "node_id":"ErDZwQmOV4cRBSSTG7uzQT"
    }
   }
  },
  {
   "cell_type":"code",
   "source":[
    "ecom[(ecom['CC Provider'] == 'American Express') & (ecom['Purchase Price']>95)]['Address'].count()"
   ],
   "execution_count":72,
   "outputs":[
    {
     "data":{
      "text\/plain":[
       "39"
      ]
     },
     "metadata":{
      
     },
     "output_type":"display_data"
    }
   ],
   "metadata":{
    "datalore":{
     "type":"CODE",
     "hide_input_from_viewers":false,
     "hide_output_from_viewers":false,
     "node_id":"ZWJd79YEgZeeg9QgEHknHn"
    }
   }
  },
  {
   "cell_type":"markdown",
   "source":[
    "**Hard: How many people have a credit card that expires in 2025?**"
   ],
   "attachments":{
    
   },
   "metadata":{
    "datalore":{
     "type":"MD",
     "hide_input_from_viewers":false,
     "hide_output_from_viewers":false,
     "node_id":"olySjApo1M6jOSa5kXgdvP"
    }
   }
  },
  {
   "cell_type":"code",
   "source":[
    "len(ecom[ecom['CC Exp Date'].apply(lambda exp:exp[3:] == '25')])"
   ],
   "execution_count":78,
   "outputs":[
    {
     "data":{
      "text\/plain":[
       "1033"
      ]
     },
     "metadata":{
      
     },
     "output_type":"display_data"
    }
   ],
   "metadata":{
    "datalore":{
     "type":"CODE",
     "hide_input_from_viewers":false,
     "hide_output_from_viewers":false,
     "node_id":"tAD0TFjOCqrgZIADerRCRo"
    }
   }
  },
  {
   "cell_type":"markdown",
   "source":[
    "**Hard: What are the top 5 most popular email providers\/hosts (e.g. gmail.com, yahoo.com, etc...)**"
   ],
   "attachments":{
    
   },
   "metadata":{
    "datalore":{
     "type":"MD",
     "hide_input_from_viewers":false,
     "hide_output_from_viewers":false,
     "node_id":"U6CIHdxqx6z2nJjD2waHRm"
    }
   }
  },
  {
   "cell_type":"code",
   "source":[
    "ecom['Email'].apply(lambda email : email.split('@')[1]).value_counts().head()"
   ],
   "execution_count":83,
   "outputs":[
    {
     "data":{
      "text\/html":[
       
      ]
     },
     "metadata":{
      
     },
     "output_type":"display_data"
    }
   ],
   "metadata":{
    "datalore":{
     "type":"CODE",
     "hide_input_from_viewers":false,
     "hide_output_from_viewers":false,
     "node_id":"4wZg5NtgDK1bu0Igc1FNrA"
    }
   }
  },
  {
   "cell_type":"markdown",
   "source":[
    "# Great Job!"
   ],
   "attachments":{
    
   },
   "metadata":{
    "datalore":{
     "type":"MD",
     "hide_input_from_viewers":false,
     "hide_output_from_viewers":false,
     "node_id":"fHnNMXgpvpZ6uCCUxthtrV"
    }
   }
  }
 ],
 "metadata":{
  "datalore":{
   "version":1,
   "computation_mode":"JUPYTER",
   "package_manager":"pip",
   "base_environment":"default",
   "packages":[
    
   ]
  }
 },
 "nbformat":4,
 "nbformat_minor":4
}