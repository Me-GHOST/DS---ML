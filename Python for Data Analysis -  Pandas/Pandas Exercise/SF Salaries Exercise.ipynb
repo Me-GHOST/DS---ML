{
 "cells":[
  {
   "cell_type":"markdown",
   "source":[
    "# SF Salaries Exercise \n",
    "\n",
    "Welcome to a quick exercise for you to practice your pandas skills! We will be using the [SF Salaries Dataset](https:\/\/www.kaggle.com\/kaggle\/sf-salaries) from Kaggle! Just follow along and complete the tasks outlined in bold below. The tasks will get harder and harder as you go along."
   ],
   "attachments":{
    
   },
   "metadata":{
    "datalore":{
     "type":"MD",
     "hide_input_from_viewers":false,
     "hide_output_from_viewers":false,
     "node_id":"OWT59fouJWPFAqEj3sUOqM"
    }
   }
  },
  {
   "cell_type":"markdown",
   "source":[
    "**Import pandas as pd.**"
   ],
   "attachments":{
    
   },
   "metadata":{
    "datalore":{
     "type":"MD",
     "hide_input_from_viewers":false,
     "hide_output_from_viewers":false,
     "node_id":"kj9POS5TFwwzYR6DCNERlb"
    }
   }
  },
  {
   "cell_type":"code",
   "source":[
    "import pandas as pd"
   ],
   "execution_count":1,
   "outputs":[
    
   ],
   "metadata":{
    "datalore":{
     "type":"CODE",
     "hide_input_from_viewers":false,
     "hide_output_from_viewers":false,
     "node_id":"oEYhqbaLjYZ4VdicxGmxXs"
    }
   }
  },
  {
   "cell_type":"markdown",
   "source":[
    "**Read Salaries.csv as a dataframe called sal.**"
   ],
   "attachments":{
    
   },
   "metadata":{
    "datalore":{
     "type":"MD",
     "hide_input_from_viewers":false,
     "hide_output_from_viewers":false,
     "node_id":"yNc6dR2B4Yo2flcp3jXu7G"
    }
   }
  },
  {
   "cell_type":"code",
   "source":[
    "sal = pd.read_csv('Salaries.csv')\n",
    "sal"
   ],
   "execution_count":2,
   "outputs":[
    {
     "data":{
      "text\/html":[
       "<div>\n",
       "<style scoped>\n",
       "    .dataframe tbody tr th:only-of-type {\n",
       "        vertical-align: middle;\n",
       "    }\n",
       "\n",
       "    .dataframe tbody tr th {\n",
       "        vertical-align: top;\n",
       "    }\n",
       "\n",
       "    .dataframe thead th {\n",
       "        text-align: right;\n",
       "    }\n",
       "<\/style>\n",
       "<table border=\"1\" class=\"dataframe\">\n",
       "  <thead>\n",
       "    <tr style=\"text-align: right;\">\n",
       "      <th><\/th>\n",
       "      <th>Id<\/th>\n",
       "      <th>EmployeeName<\/th>\n",
       "      <th>JobTitle<\/th>\n",
       "      <th>BasePay<\/th>\n",
       "      <th>OvertimePay<\/th>\n",
       "      <th>OtherPay<\/th>\n",
       "      <th>Benefits<\/th>\n",
       "      <th>TotalPay<\/th>\n",
       "      <th>TotalPayBenefits<\/th>\n",
       "      <th>Year<\/th>\n",
       "      <th>Notes<\/th>\n",
       "      <th>Agency<\/th>\n",
       "      <th>Status<\/th>\n",
       "    <\/tr>\n",
       "  <\/thead>\n",
       "  <tbody>\n",
       "    <tr>\n",
       "      <th>0<\/th>\n",
       "      <td>1<\/td>\n",
       "      <td>NATHANIEL FORD<\/td>\n",
       "      <td>GENERAL MANAGER-METROPOLITAN TRANSIT AUTHORITY<\/td>\n",
       "      <td>167411.18<\/td>\n",
       "      <td>0.00<\/td>\n",
       "      <td>400184.25<\/td>\n",
       "      <td>NaN<\/td>\n",
       "      <td>567595.43<\/td>\n",
       "      <td>567595.43<\/td>\n",
       "      <td>2011<\/td>\n",
       "      <td>NaN<\/td>\n",
       "      <td>San Francisco<\/td>\n",
       "      <td>NaN<\/td>\n",
       "    <\/tr>\n",
       "    <tr>\n",
       "      <th>1<\/th>\n",
       "      <td>2<\/td>\n",
       "      <td>GARY JIMENEZ<\/td>\n",
       "      <td>CAPTAIN III (POLICE DEPARTMENT)<\/td>\n",
       "      <td>155966.02<\/td>\n",
       "      <td>245131.88<\/td>\n",
       "      <td>137811.38<\/td>\n",
       "      <td>NaN<\/td>\n",
       "      <td>538909.28<\/td>\n",
       "      <td>538909.28<\/td>\n",
       "      <td>2011<\/td>\n",
       "      <td>NaN<\/td>\n",
       "      <td>San Francisco<\/td>\n",
       "      <td>NaN<\/td>\n",
       "    <\/tr>\n",
       "    <tr>\n",
       "      <th>2<\/th>\n",
       "      <td>3<\/td>\n",
       "      <td>ALBERT PARDINI<\/td>\n",
       "      <td>CAPTAIN III (POLICE DEPARTMENT)<\/td>\n",
       "      <td>212739.13<\/td>\n",
       "      <td>106088.18<\/td>\n",
       "      <td>16452.60<\/td>\n",
       "      <td>NaN<\/td>\n",
       "      <td>335279.91<\/td>\n",
       "      <td>335279.91<\/td>\n",
       "      <td>2011<\/td>\n",
       "      <td>NaN<\/td>\n",
       "      <td>San Francisco<\/td>\n",
       "      <td>NaN<\/td>\n",
       "    <\/tr>\n",
       "    <tr>\n",
       "      <th>3<\/th>\n",
       "      <td>4<\/td>\n",
       "      <td>CHRISTOPHER CHONG<\/td>\n",
       "      <td>WIRE ROPE CABLE MAINTENANCE MECHANIC<\/td>\n",
       "      <td>77916.00<\/td>\n",
       "      <td>56120.71<\/td>\n",
       "      <td>198306.90<\/td>\n",
       "      <td>NaN<\/td>\n",
       "      <td>332343.61<\/td>\n",
       "      <td>332343.61<\/td>\n",
       "      <td>2011<\/td>\n",
       "      <td>NaN<\/td>\n",
       "      <td>San Francisco<\/td>\n",
       "      <td>NaN<\/td>\n",
       "    <\/tr>\n",
       "    <tr>\n",
       "      <th>4<\/th>\n",
       "      <td>5<\/td>\n",
       "      <td>PATRICK GARDNER<\/td>\n",
       "      <td>DEPUTY CHIEF OF DEPARTMENT,(FIRE DEPARTMENT)<\/td>\n",
       "      <td>134401.60<\/td>\n",
       "      <td>9737.00<\/td>\n",
       "      <td>182234.59<\/td>\n",
       "      <td>NaN<\/td>\n",
       "      <td>326373.19<\/td>\n",
       "      <td>326373.19<\/td>\n",
       "      <td>2011<\/td>\n",
       "      <td>NaN<\/td>\n",
       "      <td>San Francisco<\/td>\n",
       "      <td>NaN<\/td>\n",
       "    <\/tr>\n",
       "    <tr>\n",
       "      <th>...<\/th>\n",
       "      <td>...<\/td>\n",
       "      <td>...<\/td>\n",
       "      <td>...<\/td>\n",
       "      <td>...<\/td>\n",
       "      <td>...<\/td>\n",
       "      <td>...<\/td>\n",
       "      <td>...<\/td>\n",
       "      <td>...<\/td>\n",
       "      <td>...<\/td>\n",
       "      <td>...<\/td>\n",
       "      <td>...<\/td>\n",
       "      <td>...<\/td>\n",
       "      <td>...<\/td>\n",
       "    <\/tr>\n",
       "    <tr>\n",
       "      <th>148649<\/th>\n",
       "      <td>148650<\/td>\n",
       "      <td>Roy I Tillery<\/td>\n",
       "      <td>Custodian<\/td>\n",
       "      <td>0.00<\/td>\n",
       "      <td>0.00<\/td>\n",
       "      <td>0.00<\/td>\n",
       "      <td>0.0<\/td>\n",
       "      <td>0.00<\/td>\n",
       "      <td>0.00<\/td>\n",
       "      <td>2014<\/td>\n",
       "      <td>NaN<\/td>\n",
       "      <td>San Francisco<\/td>\n",
       "      <td>NaN<\/td>\n",
       "    <\/tr>\n",
       "    <tr>\n",
       "      <th>148650<\/th>\n",
       "      <td>148651<\/td>\n",
       "      <td>Not provided<\/td>\n",
       "      <td>Not provided<\/td>\n",
       "      <td>NaN<\/td>\n",
       "      <td>NaN<\/td>\n",
       "      <td>NaN<\/td>\n",
       "      <td>NaN<\/td>\n",
       "      <td>0.00<\/td>\n",
       "      <td>0.00<\/td>\n",
       "      <td>2014<\/td>\n",
       "      <td>NaN<\/td>\n",
       "      <td>San Francisco<\/td>\n",
       "      <td>NaN<\/td>\n",
       "    <\/tr>\n",
       "    <tr>\n",
       "      <th>148651<\/th>\n",
       "      <td>148652<\/td>\n",
       "      <td>Not provided<\/td>\n",
       "      <td>Not provided<\/td>\n",
       "      <td>NaN<\/td>\n",
       "      <td>NaN<\/td>\n",
       "      <td>NaN<\/td>\n",
       "      <td>NaN<\/td>\n",
       "      <td>0.00<\/td>\n",
       "      <td>0.00<\/td>\n",
       "      <td>2014<\/td>\n",
       "      <td>NaN<\/td>\n",
       "      <td>San Francisco<\/td>\n",
       "      <td>NaN<\/td>\n",
       "    <\/tr>\n",
       "    <tr>\n",
       "      <th>148652<\/th>\n",
       "      <td>148653<\/td>\n",
       "      <td>Not provided<\/td>\n",
       "      <td>Not provided<\/td>\n",
       "      <td>NaN<\/td>\n",
       "      <td>NaN<\/td>\n",
       "      <td>NaN<\/td>\n",
       "      <td>NaN<\/td>\n",
       "      <td>0.00<\/td>\n",
       "      <td>0.00<\/td>\n",
       "      <td>2014<\/td>\n",
       "      <td>NaN<\/td>\n",
       "      <td>San Francisco<\/td>\n",
       "      <td>NaN<\/td>\n",
       "    <\/tr>\n",
       "    <tr>\n",
       "      <th>148653<\/th>\n",
       "      <td>148654<\/td>\n",
       "      <td>Joe Lopez<\/td>\n",
       "      <td>Counselor, Log Cabin Ranch<\/td>\n",
       "      <td>0.00<\/td>\n",
       "      <td>0.00<\/td>\n",
       "      <td>-618.13<\/td>\n",
       "      <td>0.0<\/td>\n",
       "      <td>-618.13<\/td>\n",
       "      <td>-618.13<\/td>\n",
       "      <td>2014<\/td>\n",
       "      <td>NaN<\/td>\n",
       "      <td>San Francisco<\/td>\n",
       "      <td>NaN<\/td>\n",
       "    <\/tr>\n",
       "  <\/tbody>\n",
       "<\/table>\n",
       "<p>148654 rows × 13 columns<\/p>\n",
       "<\/div>"
      ]
     },
     "metadata":{
      
     },
     "output_type":"display_data"
    }
   ],
   "metadata":{
    "datalore":{
     "type":"CODE",
     "hide_input_from_viewers":false,
     "hide_output_from_viewers":false,
     "node_id":"N5cdyKp27BWJko6qozmjqv"
    }
   }
  },
  {
   "cell_type":"markdown",
   "source":[
    "**Check the head of the DataFrame.**"
   ],
   "attachments":{
    
   },
   "metadata":{
    "datalore":{
     "type":"MD",
     "hide_input_from_viewers":false,
     "hide_output_from_viewers":false,
     "node_id":"Suve9FaAezTqMjDwRMfCWF"
    }
   }
  },
  {
   "cell_type":"code",
   "source":[
    "sal.head()"
   ],
   "execution_count":5,
   "outputs":[
    {
     "data":{
      "text\/html":[
       "<div>\n",
       "<style scoped>\n",
       "    .dataframe tbody tr th:only-of-type {\n",
       "        vertical-align: middle;\n",
       "    }\n",
       "\n",
       "    .dataframe tbody tr th {\n",
       "        vertical-align: top;\n",
       "    }\n",
       "\n",
       "    .dataframe thead th {\n",
       "        text-align: right;\n",
       "    }\n",
       "<\/style>\n",
       "<table border=\"1\" class=\"dataframe\">\n",
       "  <thead>\n",
       "    <tr style=\"text-align: right;\">\n",
       "      <th><\/th>\n",
       "      <th>Id<\/th>\n",
       "      <th>EmployeeName<\/th>\n",
       "      <th>JobTitle<\/th>\n",
       "      <th>BasePay<\/th>\n",
       "      <th>OvertimePay<\/th>\n",
       "      <th>OtherPay<\/th>\n",
       "      <th>Benefits<\/th>\n",
       "      <th>TotalPay<\/th>\n",
       "      <th>TotalPayBenefits<\/th>\n",
       "      <th>Year<\/th>\n",
       "      <th>Notes<\/th>\n",
       "      <th>Agency<\/th>\n",
       "      <th>Status<\/th>\n",
       "    <\/tr>\n",
       "  <\/thead>\n",
       "  <tbody>\n",
       "    <tr>\n",
       "      <th>0<\/th>\n",
       "      <td>1<\/td>\n",
       "      <td>NATHANIEL FORD<\/td>\n",
       "      <td>GENERAL MANAGER-METROPOLITAN TRANSIT AUTHORITY<\/td>\n",
       "      <td>167411.18<\/td>\n",
       "      <td>0.00<\/td>\n",
       "      <td>400184.25<\/td>\n",
       "      <td>NaN<\/td>\n",
       "      <td>567595.43<\/td>\n",
       "      <td>567595.43<\/td>\n",
       "      <td>2011<\/td>\n",
       "      <td>NaN<\/td>\n",
       "      <td>San Francisco<\/td>\n",
       "      <td>NaN<\/td>\n",
       "    <\/tr>\n",
       "    <tr>\n",
       "      <th>1<\/th>\n",
       "      <td>2<\/td>\n",
       "      <td>GARY JIMENEZ<\/td>\n",
       "      <td>CAPTAIN III (POLICE DEPARTMENT)<\/td>\n",
       "      <td>155966.02<\/td>\n",
       "      <td>245131.88<\/td>\n",
       "      <td>137811.38<\/td>\n",
       "      <td>NaN<\/td>\n",
       "      <td>538909.28<\/td>\n",
       "      <td>538909.28<\/td>\n",
       "      <td>2011<\/td>\n",
       "      <td>NaN<\/td>\n",
       "      <td>San Francisco<\/td>\n",
       "      <td>NaN<\/td>\n",
       "    <\/tr>\n",
       "    <tr>\n",
       "      <th>2<\/th>\n",
       "      <td>3<\/td>\n",
       "      <td>ALBERT PARDINI<\/td>\n",
       "      <td>CAPTAIN III (POLICE DEPARTMENT)<\/td>\n",
       "      <td>212739.13<\/td>\n",
       "      <td>106088.18<\/td>\n",
       "      <td>16452.60<\/td>\n",
       "      <td>NaN<\/td>\n",
       "      <td>335279.91<\/td>\n",
       "      <td>335279.91<\/td>\n",
       "      <td>2011<\/td>\n",
       "      <td>NaN<\/td>\n",
       "      <td>San Francisco<\/td>\n",
       "      <td>NaN<\/td>\n",
       "    <\/tr>\n",
       "    <tr>\n",
       "      <th>3<\/th>\n",
       "      <td>4<\/td>\n",
       "      <td>CHRISTOPHER CHONG<\/td>\n",
       "      <td>WIRE ROPE CABLE MAINTENANCE MECHANIC<\/td>\n",
       "      <td>77916.00<\/td>\n",
       "      <td>56120.71<\/td>\n",
       "      <td>198306.90<\/td>\n",
       "      <td>NaN<\/td>\n",
       "      <td>332343.61<\/td>\n",
       "      <td>332343.61<\/td>\n",
       "      <td>2011<\/td>\n",
       "      <td>NaN<\/td>\n",
       "      <td>San Francisco<\/td>\n",
       "      <td>NaN<\/td>\n",
       "    <\/tr>\n",
       "    <tr>\n",
       "      <th>4<\/th>\n",
       "      <td>5<\/td>\n",
       "      <td>PATRICK GARDNER<\/td>\n",
       "      <td>DEPUTY CHIEF OF DEPARTMENT,(FIRE DEPARTMENT)<\/td>\n",
       "      <td>134401.60<\/td>\n",
       "      <td>9737.00<\/td>\n",
       "      <td>182234.59<\/td>\n",
       "      <td>NaN<\/td>\n",
       "      <td>326373.19<\/td>\n",
       "      <td>326373.19<\/td>\n",
       "      <td>2011<\/td>\n",
       "      <td>NaN<\/td>\n",
       "      <td>San Francisco<\/td>\n",
       "      <td>NaN<\/td>\n",
       "    <\/tr>\n",
       "  <\/tbody>\n",
       "<\/table>\n",
       "<\/div>"
      ]
     },
     "metadata":{
      
     },
     "output_type":"display_data"
    }
   ],
   "metadata":{
    "datalore":{
     "type":"CODE",
     "hide_input_from_viewers":false,
     "hide_output_from_viewers":false,
     "node_id":"HKqghAzPqHe8QQ5byrNme2"
    }
   }
  },
  {
   "cell_type":"markdown",
   "source":[
    "**Use the .info() method to find out how many entries there are.**"
   ],
   "attachments":{
    
   },
   "metadata":{
    "datalore":{
     "type":"MD",
     "hide_input_from_viewers":false,
     "hide_output_from_viewers":false,
     "node_id":"cZr6HLHvUSGACvTkPqG2O2"
    }
   }
  },
  {
   "cell_type":"code",
   "source":[
    "sal.info()"
   ],
   "execution_count":6,
   "outputs":[
    {
     "name":"stdout",
     "text":[
      "<class 'pandas.core.frame.DataFrame'>\n",
      "RangeIndex: 148654 entries, 0 to 148653\n",
      "Data columns (total 13 columns):\n",
      " #   Column            Non-Null Count   Dtype  \n",
      "---  ------            --------------   -----  \n",
      " 0   Id                148654 non-null  int64  \n",
      " 1   EmployeeName      148654 non-null  object \n",
      " 2   JobTitle          148654 non-null  object \n",
      " 3   BasePay           148045 non-null  float64\n",
      " 4   OvertimePay       148650 non-null  float64\n",
      " 5   OtherPay          148650 non-null  float64\n",
      " 6   Benefits          112491 non-null  float64\n",
      " 7   TotalPay          148654 non-null  float64\n",
      " 8   TotalPayBenefits  148654 non-null  float64\n",
      " 9   Year              148654 non-null  int64  \n",
      " 10  Notes             0 non-null       float64\n",
      " 11  Agency            148654 non-null  object \n",
      " 12  Status            0 non-null       float64\n",
      "dtypes: float64(8), int64(2), object(3)\n",
      "memory usage: 14.7+ MB\n"
     ],
     "output_type":"stream"
    }
   ],
   "metadata":{
    "datalore":{
     "type":"CODE",
     "hide_input_from_viewers":false,
     "hide_output_from_viewers":false,
     "node_id":"J66zvKjLlAvnmd2XOqfBoo"
    }
   }
  },
  {
   "cell_type":"markdown",
   "source":[
    "**What is the average BasePay ?**"
   ],
   "attachments":{
    
   },
   "metadata":{
    "datalore":{
     "type":"MD",
     "hide_input_from_viewers":false,
     "hide_output_from_viewers":false,
     "node_id":"Hj7nDnfj6OrRamY6w64NvZ"
    }
   }
  },
  {
   "cell_type":"code",
   "source":[
    "sal['BasePay'].mean()"
   ],
   "execution_count":9,
   "outputs":[
    {
     "data":{
      "text\/plain":[
       "66325.4488404877"
      ]
     },
     "metadata":{
      
     },
     "output_type":"display_data"
    }
   ],
   "metadata":{
    "datalore":{
     "type":"CODE",
     "hide_input_from_viewers":false,
     "hide_output_from_viewers":false,
     "node_id":"tguuz3KKsEGK5lCHtMjaNO"
    }
   }
  },
  {
   "cell_type":"markdown",
   "source":[
    "**What is the highest amount of OvertimePay in the dataset ?**"
   ],
   "attachments":{
    
   },
   "metadata":{
    "datalore":{
     "type":"MD",
     "hide_input_from_viewers":false,
     "hide_output_from_viewers":false,
     "node_id":"OHtaJ1M2c7VcICepHS89Ml"
    }
   }
  },
  {
   "cell_type":"code",
   "source":[
    "sal['OvertimePay'].max()"
   ],
   "execution_count":11,
   "outputs":[
    {
     "data":{
      "text\/plain":[
       "245131.88"
      ]
     },
     "metadata":{
      
     },
     "output_type":"display_data"
    }
   ],
   "metadata":{
    "datalore":{
     "type":"CODE",
     "hide_input_from_viewers":false,
     "hide_output_from_viewers":false,
     "node_id":"4OyaqUXmwbAqIsNSvPWAGJ"
    }
   }
  },
  {
   "cell_type":"markdown",
   "source":[
    "**What is the job title of  JOSEPH DRISCOLL ? Note: Use all caps, otherwise you may get an answer that doesn't match up (there is also a lowercase Joseph Driscoll).**"
   ],
   "attachments":{
    
   },
   "metadata":{
    "datalore":{
     "type":"MD",
     "hide_input_from_viewers":false,
     "hide_output_from_viewers":false,
     "node_id":"Df8dF5795KlIXAitDZMlT1"
    }
   }
  },
  {
   "cell_type":"code",
   "source":[
    "sal[sal['EmployeeName'] == 'JOSEPH DRISCOLL']['JobTitle']"
   ],
   "execution_count":17,
   "outputs":[
    {
     "data":{
      "text\/html":[
       
      ]
     },
     "metadata":{
      
     },
     "output_type":"display_data"
    }
   ],
   "metadata":{
    "datalore":{
     "type":"CODE",
     "hide_input_from_viewers":false,
     "hide_output_from_viewers":false,
     "node_id":"xjvoLi6NoxEG2LY8L9excn"
    }
   }
  },
  {
   "cell_type":"markdown",
   "source":[
    "**How much does JOSEPH DRISCOLL make (including benefits)?**"
   ],
   "attachments":{
    
   },
   "metadata":{
    "datalore":{
     "type":"MD",
     "hide_input_from_viewers":false,
     "hide_output_from_viewers":false,
     "node_id":"iFksIbhvCXwUdISUOICjgi"
    }
   }
  },
  {
   "cell_type":"code",
   "source":[
    "sal[sal['EmployeeName'] == 'JOSEPH DRISCOLL']['TotalPayBenefits']"
   ],
   "execution_count":18,
   "outputs":[
    {
     "data":{
      "text\/html":[
       
      ]
     },
     "metadata":{
      
     },
     "output_type":"display_data"
    }
   ],
   "metadata":{
    "datalore":{
     "type":"CODE",
     "hide_input_from_viewers":false,
     "hide_output_from_viewers":false,
     "node_id":"LUs1zQY5nPvoIq8hz0157W"
    }
   }
  },
  {
   "cell_type":"markdown",
   "source":[
    "**What is the name of highest paid person (including benefits)?**"
   ],
   "attachments":{
    
   },
   "metadata":{
    "datalore":{
     "type":"MD",
     "hide_input_from_viewers":false,
     "hide_output_from_viewers":false,
     "node_id":"ykfS96mV5HJZSqHgcpSYCo"
    }
   }
  },
  {
   "cell_type":"code",
   "source":[
    "sal[sal['TotalPayBenefits'] == sal['TotalPayBenefits'].max()]"
   ],
   "execution_count":23,
   "outputs":[
    {
     "data":{
      "text\/html":[
       "<div>\n",
       "<style scoped>\n",
       "    .dataframe tbody tr th:only-of-type {\n",
       "        vertical-align: middle;\n",
       "    }\n",
       "\n",
       "    .dataframe tbody tr th {\n",
       "        vertical-align: top;\n",
       "    }\n",
       "\n",
       "    .dataframe thead th {\n",
       "        text-align: right;\n",
       "    }\n",
       "<\/style>\n",
       "<table border=\"1\" class=\"dataframe\">\n",
       "  <thead>\n",
       "    <tr style=\"text-align: right;\">\n",
       "      <th><\/th>\n",
       "      <th>Id<\/th>\n",
       "      <th>EmployeeName<\/th>\n",
       "      <th>JobTitle<\/th>\n",
       "      <th>BasePay<\/th>\n",
       "      <th>OvertimePay<\/th>\n",
       "      <th>OtherPay<\/th>\n",
       "      <th>Benefits<\/th>\n",
       "      <th>TotalPay<\/th>\n",
       "      <th>TotalPayBenefits<\/th>\n",
       "      <th>Year<\/th>\n",
       "      <th>Notes<\/th>\n",
       "      <th>Agency<\/th>\n",
       "      <th>Status<\/th>\n",
       "    <\/tr>\n",
       "  <\/thead>\n",
       "  <tbody>\n",
       "    <tr>\n",
       "      <th>0<\/th>\n",
       "      <td>1<\/td>\n",
       "      <td>NATHANIEL FORD<\/td>\n",
       "      <td>GENERAL MANAGER-METROPOLITAN TRANSIT AUTHORITY<\/td>\n",
       "      <td>167411.18<\/td>\n",
       "      <td>0.0<\/td>\n",
       "      <td>400184.25<\/td>\n",
       "      <td>NaN<\/td>\n",
       "      <td>567595.43<\/td>\n",
       "      <td>567595.43<\/td>\n",
       "      <td>2011<\/td>\n",
       "      <td>NaN<\/td>\n",
       "      <td>San Francisco<\/td>\n",
       "      <td>NaN<\/td>\n",
       "    <\/tr>\n",
       "  <\/tbody>\n",
       "<\/table>\n",
       "<\/div>"
      ]
     },
     "metadata":{
      
     },
     "output_type":"display_data"
    }
   ],
   "metadata":{
    "datalore":{
     "type":"CODE",
     "hide_input_from_viewers":false,
     "hide_output_from_viewers":false,
     "node_id":"Klkjt6Kny7DQREvcyYFRQv"
    }
   }
  },
  {
   "cell_type":"code",
   "source":[
    "# a more advance method for the above problem using '.loc' method\n",
    "\n",
    "sal.loc[sal['TotalPayBenefits'].idxmax()]\n",
    "\n",
    "# idxmax() for .loc, it will return all the other details aswell for that particular row "
   ],
   "execution_count":28,
   "outputs":[
    {
     "data":{
      "text\/html":[
       
      ]
     },
     "metadata":{
      
     },
     "output_type":"display_data"
    }
   ],
   "metadata":{
    "datalore":{
     "type":"CODE",
     "hide_input_from_viewers":false,
     "hide_output_from_viewers":false,
     "node_id":"H2JzrkI2de2Bf1W6ZOCBrN"
    }
   }
  },
  {
   "cell_type":"markdown",
   "source":[
    "**What is the name of lowest paid person (including benefits)? Do you notice something strange about how much he or she is paid?**"
   ],
   "attachments":{
    
   },
   "metadata":{
    "datalore":{
     "type":"MD",
     "hide_input_from_viewers":false,
     "hide_output_from_viewers":false,
     "node_id":"NeiaO7ba9MSIrauNdYan0H"
    }
   }
  },
  {
   "cell_type":"code",
   "source":[
    "# let's use the advance method for this one which is '.loc'\n",
    "sal.loc[sal['TotalPayBenefits'].idxmin()]"
   ],
   "execution_count":29,
   "outputs":[
    {
     "data":{
      "text\/html":[
       
      ]
     },
     "metadata":{
      
     },
     "output_type":"display_data"
    }
   ],
   "metadata":{
    "datalore":{
     "type":"CODE",
     "hide_input_from_viewers":false,
     "hide_output_from_viewers":false,
     "node_id":"Bwtjdvb3ZF6tOTgvCc8Z2U"
    }
   }
  },
  {
   "cell_type":"markdown",
   "source":[
    "**What was the average (mean) BasePay of all employees per year? (2011-2014) ?**"
   ],
   "attachments":{
    
   },
   "metadata":{
    "datalore":{
     "type":"MD",
     "hide_input_from_viewers":false,
     "hide_output_from_viewers":false,
     "node_id":"GyCZi9mZqCn7JIFpl3340e"
    }
   }
  },
  {
   "cell_type":"code",
   "source":[
    "sal.groupby('Year').mean()['BasePay']"
   ],
   "execution_count":30,
   "outputs":[
    {
     "data":{
      "text\/html":[
       
      ]
     },
     "metadata":{
      
     },
     "output_type":"display_data"
    }
   ],
   "metadata":{
    "datalore":{
     "type":"CODE",
     "hide_input_from_viewers":false,
     "hide_output_from_viewers":false,
     "node_id":"1iZTZjICnNUey44wIOEVjl"
    }
   }
  },
  {
   "cell_type":"markdown",
   "source":[
    "**How many unique job titles are there?**"
   ],
   "attachments":{
    
   },
   "metadata":{
    "datalore":{
     "type":"MD",
     "hide_input_from_viewers":false,
     "hide_output_from_viewers":false,
     "node_id":"fBABUPEAWaEfmftp4QHeuf"
    }
   }
  },
  {
   "cell_type":"code",
   "source":[
    "# it is very simple tho, just use '.unique' to get the list of all unique JobTitles or \n",
    "# '.nunique' to get the number of unique JobTitles\n",
    "\n",
    "sal['JobTitle'].unique() # this returns the list of unique Jobtitles"
   ],
   "execution_count":31,
   "outputs":[
    {
     "data":{
      "text\/html":[
       
      ]
     },
     "metadata":{
      
     },
     "output_type":"display_data"
    }
   ],
   "metadata":{
    "datalore":{
     "type":"CODE",
     "hide_input_from_viewers":false,
     "hide_output_from_viewers":false,
     "node_id":"Xp6psRPJNmZBISSNfO4C3v"
    }
   }
  },
  {
   "cell_type":"code",
   "source":[
    "# and this returns the number of element in that list or number of unique jobtitles)\n",
    "len(sal['JobTitle'].unique()) # here we're just getting the length of that list\n",
    "\n",
    "sal['JobTitle'].nunique() # or just use '.nunique' instead of getting length of '.unique' list !"
   ],
   "execution_count":38,
   "outputs":[
    {
     "data":{
      "text\/plain":[
       "2159"
      ]
     },
     "metadata":{
      
     },
     "output_type":"display_data"
    }
   ],
   "metadata":{
    "datalore":{
     "type":"CODE",
     "hide_input_from_viewers":false,
     "hide_output_from_viewers":false,
     "node_id":"EPpuVYyuga6n6JKBaKXlmh"
    }
   }
  },
  {
   "cell_type":"markdown",
   "source":[
    "**What are the top 5 most common jobs?**"
   ],
   "attachments":{
    
   },
   "metadata":{
    "datalore":{
     "type":"MD",
     "hide_input_from_viewers":false,
     "hide_output_from_viewers":false,
     "node_id":"Yrrkq4v6RYU2slBsJiFTnc"
    }
   }
  },
  {
   "cell_type":"code",
   "source":[
    "sal['JobTitle'].value_counts().head()"
   ],
   "execution_count":43,
   "outputs":[
    {
     "data":{
      "text\/html":[
       
      ]
     },
     "metadata":{
      
     },
     "output_type":"display_data"
    }
   ],
   "metadata":{
    "datalore":{
     "type":"CODE",
     "hide_input_from_viewers":false,
     "hide_output_from_viewers":false,
     "node_id":"AaE7iP3ulSK5ZXDSacXjkF"
    }
   }
  },
  {
   "cell_type":"markdown",
   "source":[
    "**How many Job Titles were represented by only one person in 2013? (e.g. Job Titles with only one occurence in 2013?)**"
   ],
   "attachments":{
    
   },
   "metadata":{
    "datalore":{
     "type":"MD",
     "hide_input_from_viewers":false,
     "hide_output_from_viewers":false,
     "node_id":"qHh7bzAPNhs3JIcYiLMvjT"
    }
   }
  },
  {
   "cell_type":"code",
   "source":[
    "sum(sal[sal['Year'] == 2013]['JobTitle'].value_counts() == 1)\n",
    "# this is the fastest and the easiest way to get the result"
   ],
   "execution_count":47,
   "outputs":[
    {
     "data":{
      "text\/plain":[
       "202"
      ]
     },
     "metadata":{
      
     },
     "output_type":"display_data"
    }
   ],
   "metadata":{
    "datalore":{
     "type":"CODE",
     "hide_input_from_viewers":false,
     "hide_output_from_viewers":false,
     "node_id":"fySuyeUNJwzNQhyREYfPFq"
    }
   }
  },
  {
   "cell_type":"markdown",
   "source":[
    "**How many people have the word Chief in their job title? (This is pretty tricky)**"
   ],
   "attachments":{
    
   },
   "metadata":{
    "datalore":{
     "type":"MD",
     "hide_input_from_viewers":false,
     "hide_output_from_viewers":false,
     "node_id":"l041RkRnM86264wjf2Sg2E"
    }
   }
  },
  {
   "cell_type":"code",
   "source":[
    "sal [sal [ 'JobTitle' ].str.contains(\"Chief\", case=True) ] ['Id'].count()"
   ],
   "execution_count":56,
   "outputs":[
    {
     "data":{
      "text\/plain":[
       "423"
      ]
     },
     "metadata":{
      
     },
     "output_type":"display_data"
    }
   ],
   "metadata":{
    "datalore":{
     "type":"CODE",
     "hide_input_from_viewers":false,
     "hide_output_from_viewers":false,
     "node_id":"LDeAGzdFQS6XaYcN14Iv24"
    }
   }
  },
  {
   "cell_type":"markdown",
   "source":[
    "**Bonus: Is there a correlation between length of the Job Title string and Salary?**"
   ],
   "attachments":{
    
   },
   "metadata":{
    "datalore":{
     "type":"MD",
     "hide_input_from_viewers":false,
     "hide_output_from_viewers":false,
     "node_id":"B3ZceBNRkX2OXip8aUw2DC"
    }
   }
  },
  {
   "cell_type":"code",
   "source":[
    "# checking if there are any correlation between the length of JobTitle(string) and Salary \n",
    "# first get the length of jobtitle, let's make a variable first\n",
    "\n",
    "sal['jobtitle_len'] = sal['JobTitle'].apply(len)\n",
    "sal['jobtitle_len']"
   ],
   "execution_count":58,
   "outputs":[
    {
     "data":{
      "text\/html":[
       
      ]
     },
     "metadata":{
      
     },
     "output_type":"display_data"
    }
   ],
   "metadata":{
    "datalore":{
     "type":"CODE",
     "hide_input_from_viewers":false,
     "hide_output_from_viewers":false,
     "node_id":"4jl6lQsHocaJDqNNREj8CS"
    }
   }
  },
  {
   "cell_type":"code",
   "source":[
    "# now let's check if there are any correlation between jobtitle length and totalpaybenefits\n",
    "\n",
    "sal[['TotalPayBenefits', 'jobtitle_len']].corr()\n",
    "\n",
    "# as we can see, there ain't any corr between them !"
   ],
   "execution_count":59,
   "outputs":[
    {
     "data":{
      "text\/html":[
       "<div>\n",
       "<style scoped>\n",
       "    .dataframe tbody tr th:only-of-type {\n",
       "        vertical-align: middle;\n",
       "    }\n",
       "\n",
       "    .dataframe tbody tr th {\n",
       "        vertical-align: top;\n",
       "    }\n",
       "\n",
       "    .dataframe thead th {\n",
       "        text-align: right;\n",
       "    }\n",
       "<\/style>\n",
       "<table border=\"1\" class=\"dataframe\">\n",
       "  <thead>\n",
       "    <tr style=\"text-align: right;\">\n",
       "      <th><\/th>\n",
       "      <th>TotalPayBenefits<\/th>\n",
       "      <th>jobtitle_len<\/th>\n",
       "    <\/tr>\n",
       "  <\/thead>\n",
       "  <tbody>\n",
       "    <tr>\n",
       "      <th>TotalPayBenefits<\/th>\n",
       "      <td>1.000000<\/td>\n",
       "      <td>-0.036878<\/td>\n",
       "    <\/tr>\n",
       "    <tr>\n",
       "      <th>jobtitle_len<\/th>\n",
       "      <td>-0.036878<\/td>\n",
       "      <td>1.000000<\/td>\n",
       "    <\/tr>\n",
       "  <\/tbody>\n",
       "<\/table>\n",
       "<\/div>"
      ]
     },
     "metadata":{
      
     },
     "output_type":"display_data"
    }
   ],
   "metadata":{
    "datalore":{
     "type":"CODE",
     "hide_input_from_viewers":false,
     "hide_output_from_viewers":false,
     "node_id":"esDtZePOWe7QQutxweWcX5"
    }
   }
  },
  {
   "cell_type":"markdown",
   "source":[
    "# Great Job!"
   ],
   "attachments":{
    
   },
   "metadata":{
    "datalore":{
     "type":"MD",
     "hide_input_from_viewers":false,
     "hide_output_from_viewers":false,
     "node_id":"9ErCjuBjc7M6CyXpFwonmE"
    }
   }
  }
 ],
 "metadata":{
  "datalore":{
   "version":1,
   "computation_mode":"JUPYTER",
   "package_manager":"pip",
   "base_environment":"default",
   "packages":[
    
   ]
  }
 },
 "nbformat":4,
 "nbformat_minor":4
}