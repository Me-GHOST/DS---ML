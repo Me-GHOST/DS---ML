{
 "cells":[
  {
   "cell_type":"markdown",
   "source":[
    "# Pandas : Groupby"
   ],
   "attachments":{
    
   },
   "metadata":{
    "datalore":{
     "sheet_delimiter":true
    }
   }
  },
  {
   "cell_type":"markdown",
   "source":[
    "# Pandas - Groupby"
   ],
   "attachments":{
    
   },
   "metadata":{
    "datalore":{
     "type":"MD",
     "hide_input_from_viewers":false,
     "hide_output_from_viewers":false,
     "node_id":"XNLbGvl0pqnSsSXJ0jwSiu"
    }
   }
  },
  {
   "cell_type":"code",
   "source":[
    "import numpy as np\n",
    "import pandas as pd"
   ],
   "execution_count":1,
   "outputs":[
    
   ],
   "metadata":{
    "datalore":{
     "type":"CODE",
     "hide_input_from_viewers":false,
     "hide_output_from_viewers":false,
     "node_id":"PqTRyLOwQ9YkFiCYNNQU5d"
    }
   }
  },
  {
   "cell_type":"code",
   "source":[
    "data = {'Company':['GOOG','GOOG','MSFT','MSFT','FB','FB'],\n",
    "       'Person':['Sam','Charlie','Amy','Vanessa','Carl','Sarah'],\n",
    "       'Sales':[200,120,340,124,243,350]}\n",
    "\n",
    "data"
   ],
   "execution_count":3,
   "outputs":[
    {
     "data":{
      "text\/plain":[
       "{'Company': ['GOOG', 'GOOG', 'MSFT', 'MSFT', 'FB', 'FB'],\n",
       " 'Person': ['Sam', 'Charlie', 'Amy', 'Vanessa', 'Carl', 'Sarah'],\n",
       " 'Sales': [200, 120, 340, 124, 243, 350]}"
      ]
     },
     "metadata":{
      
     },
     "output_type":"display_data"
    }
   ],
   "metadata":{
    "datalore":{
     "type":"CODE",
     "hide_input_from_viewers":false,
     "hide_output_from_viewers":false,
     "node_id":"x59S5DVFKOSprkmcELIc3k"
    }
   }
  },
  {
   "cell_type":"code",
   "source":[
    "df = pd.DataFrame(data)\n",
    "df"
   ],
   "execution_count":5,
   "outputs":[
    {
     "data":{
      "text\/html":[
       "<div>\n",
       "<style scoped>\n",
       "    .dataframe tbody tr th:only-of-type {\n",
       "        vertical-align: middle;\n",
       "    }\n",
       "\n",
       "    .dataframe tbody tr th {\n",
       "        vertical-align: top;\n",
       "    }\n",
       "\n",
       "    .dataframe thead th {\n",
       "        text-align: right;\n",
       "    }\n",
       "<\/style>\n",
       "<table border=\"1\" class=\"dataframe\">\n",
       "  <thead>\n",
       "    <tr style=\"text-align: right;\">\n",
       "      <th><\/th>\n",
       "      <th>Company<\/th>\n",
       "      <th>Person<\/th>\n",
       "      <th>Sales<\/th>\n",
       "    <\/tr>\n",
       "  <\/thead>\n",
       "  <tbody>\n",
       "    <tr>\n",
       "      <th>0<\/th>\n",
       "      <td>GOOG<\/td>\n",
       "      <td>Sam<\/td>\n",
       "      <td>200<\/td>\n",
       "    <\/tr>\n",
       "    <tr>\n",
       "      <th>1<\/th>\n",
       "      <td>GOOG<\/td>\n",
       "      <td>Charlie<\/td>\n",
       "      <td>120<\/td>\n",
       "    <\/tr>\n",
       "    <tr>\n",
       "      <th>2<\/th>\n",
       "      <td>MSFT<\/td>\n",
       "      <td>Amy<\/td>\n",
       "      <td>340<\/td>\n",
       "    <\/tr>\n",
       "    <tr>\n",
       "      <th>3<\/th>\n",
       "      <td>MSFT<\/td>\n",
       "      <td>Vanessa<\/td>\n",
       "      <td>124<\/td>\n",
       "    <\/tr>\n",
       "    <tr>\n",
       "      <th>4<\/th>\n",
       "      <td>FB<\/td>\n",
       "      <td>Carl<\/td>\n",
       "      <td>243<\/td>\n",
       "    <\/tr>\n",
       "    <tr>\n",
       "      <th>5<\/th>\n",
       "      <td>FB<\/td>\n",
       "      <td>Sarah<\/td>\n",
       "      <td>350<\/td>\n",
       "    <\/tr>\n",
       "  <\/tbody>\n",
       "<\/table>\n",
       "<\/div>"
      ]
     },
     "metadata":{
      
     },
     "output_type":"display_data"
    }
   ],
   "metadata":{
    "datalore":{
     "type":"CODE",
     "hide_input_from_viewers":false,
     "hide_output_from_viewers":false,
     "node_id":"hPRPvL4YD2c5HLUuIniRVt"
    }
   }
  },
  {
   "cell_type":"code",
   "source":[
    "# let's see the location of 'Company' column's location in our memory\n",
    "# and make it a variable to work on it later\n",
    "\n",
    "df.groupby('Company')\n",
    "byComp = df.groupby('Company')\n",
    "byComp"
   ],
   "execution_count":9,
   "outputs":[
    {
     "data":{
      "text\/plain":[
       "<pandas.core.groupby.generic.DataFrameGroupBy object at 0x7f1114220880>"
      ]
     },
     "metadata":{
      
     },
     "output_type":"display_data"
    }
   ],
   "metadata":{
    "datalore":{
     "type":"CODE",
     "hide_input_from_viewers":false,
     "hide_output_from_viewers":false,
     "node_id":"4ClfBVKoXXV4Jz2XGNYAc8"
    }
   }
  },
  {
   "cell_type":"code",
   "source":[
    "# let's get the mean value of total sale by these companies \n",
    "byComp.mean()\n",
    "# the reason it's not applicable for the 'Person' row because it's a row of string value"
   ],
   "execution_count":12,
   "outputs":[
    {
     "data":{
      "text\/html":[
       "<div>\n",
       "<style scoped>\n",
       "    .dataframe tbody tr th:only-of-type {\n",
       "        vertical-align: middle;\n",
       "    }\n",
       "\n",
       "    .dataframe tbody tr th {\n",
       "        vertical-align: top;\n",
       "    }\n",
       "\n",
       "    .dataframe thead th {\n",
       "        text-align: right;\n",
       "    }\n",
       "<\/style>\n",
       "<table border=\"1\" class=\"dataframe\">\n",
       "  <thead>\n",
       "    <tr style=\"text-align: right;\">\n",
       "      <th><\/th>\n",
       "      <th>Sales<\/th>\n",
       "    <\/tr>\n",
       "    <tr>\n",
       "      <th>Company<\/th>\n",
       "      <th><\/th>\n",
       "    <\/tr>\n",
       "  <\/thead>\n",
       "  <tbody>\n",
       "    <tr>\n",
       "      <th>FB<\/th>\n",
       "      <td>296.5<\/td>\n",
       "    <\/tr>\n",
       "    <tr>\n",
       "      <th>GOOG<\/th>\n",
       "      <td>160.0<\/td>\n",
       "    <\/tr>\n",
       "    <tr>\n",
       "      <th>MSFT<\/th>\n",
       "      <td>232.0<\/td>\n",
       "    <\/tr>\n",
       "  <\/tbody>\n",
       "<\/table>\n",
       "<\/div>"
      ]
     },
     "metadata":{
      
     },
     "output_type":"display_data"
    }
   ],
   "metadata":{
    "datalore":{
     "type":"CODE",
     "hide_input_from_viewers":false,
     "hide_output_from_viewers":false,
     "node_id":"yjeJtyTTjSZsrlLuQe7z2V"
    }
   }
  },
  {
   "cell_type":"code",
   "source":[
    "# same like getiing the mean value, we can get sum , standard deviation etcetera\n",
    "byComp.sum()"
   ],
   "execution_count":14,
   "outputs":[
    {
     "data":{
      "text\/html":[
       "<div>\n",
       "<style scoped>\n",
       "    .dataframe tbody tr th:only-of-type {\n",
       "        vertical-align: middle;\n",
       "    }\n",
       "\n",
       "    .dataframe tbody tr th {\n",
       "        vertical-align: top;\n",
       "    }\n",
       "\n",
       "    .dataframe thead th {\n",
       "        text-align: right;\n",
       "    }\n",
       "<\/style>\n",
       "<table border=\"1\" class=\"dataframe\">\n",
       "  <thead>\n",
       "    <tr style=\"text-align: right;\">\n",
       "      <th><\/th>\n",
       "      <th>Sales<\/th>\n",
       "    <\/tr>\n",
       "    <tr>\n",
       "      <th>Company<\/th>\n",
       "      <th><\/th>\n",
       "    <\/tr>\n",
       "  <\/thead>\n",
       "  <tbody>\n",
       "    <tr>\n",
       "      <th>FB<\/th>\n",
       "      <td>593<\/td>\n",
       "    <\/tr>\n",
       "    <tr>\n",
       "      <th>GOOG<\/th>\n",
       "      <td>320<\/td>\n",
       "    <\/tr>\n",
       "    <tr>\n",
       "      <th>MSFT<\/th>\n",
       "      <td>464<\/td>\n",
       "    <\/tr>\n",
       "  <\/tbody>\n",
       "<\/table>\n",
       "<\/div>"
      ]
     },
     "metadata":{
      
     },
     "output_type":"display_data"
    }
   ],
   "metadata":{
    "datalore":{
     "type":"CODE",
     "hide_input_from_viewers":false,
     "hide_output_from_viewers":false,
     "node_id":"ti9FFBUT2iZTTE4b8fbjHv"
    }
   }
  },
  {
   "cell_type":"code",
   "source":[
    "# standard deviation\n",
    "byComp.std()"
   ],
   "execution_count":15,
   "outputs":[
    {
     "data":{
      "text\/html":[
       "<div>\n",
       "<style scoped>\n",
       "    .dataframe tbody tr th:only-of-type {\n",
       "        vertical-align: middle;\n",
       "    }\n",
       "\n",
       "    .dataframe tbody tr th {\n",
       "        vertical-align: top;\n",
       "    }\n",
       "\n",
       "    .dataframe thead th {\n",
       "        text-align: right;\n",
       "    }\n",
       "<\/style>\n",
       "<table border=\"1\" class=\"dataframe\">\n",
       "  <thead>\n",
       "    <tr style=\"text-align: right;\">\n",
       "      <th><\/th>\n",
       "      <th>Sales<\/th>\n",
       "    <\/tr>\n",
       "    <tr>\n",
       "      <th>Company<\/th>\n",
       "      <th><\/th>\n",
       "    <\/tr>\n",
       "  <\/thead>\n",
       "  <tbody>\n",
       "    <tr>\n",
       "      <th>FB<\/th>\n",
       "      <td>75.660426<\/td>\n",
       "    <\/tr>\n",
       "    <tr>\n",
       "      <th>GOOG<\/th>\n",
       "      <td>56.568542<\/td>\n",
       "    <\/tr>\n",
       "    <tr>\n",
       "      <th>MSFT<\/th>\n",
       "      <td>152.735065<\/td>\n",
       "    <\/tr>\n",
       "  <\/tbody>\n",
       "<\/table>\n",
       "<\/div>"
      ]
     },
     "metadata":{
      
     },
     "output_type":"display_data"
    }
   ],
   "metadata":{
    "datalore":{
     "type":"CODE",
     "hide_input_from_viewers":false,
     "hide_output_from_viewers":false,
     "node_id":"a4ihpzoCyob2ZL0lbNb7ZQ"
    }
   }
  },
  {
   "cell_type":"code",
   "source":[
    "# we can even do operations on this\n",
    "\n",
    "byComp.sum().loc['FB']"
   ],
   "execution_count":18,
   "outputs":[
    {
     "data":{
      "text\/html":[
       
      ]
     },
     "metadata":{
      
     },
     "output_type":"display_data"
    }
   ],
   "metadata":{
    "datalore":{
     "type":"CODE",
     "hide_input_from_viewers":false,
     "hide_output_from_viewers":false,
     "node_id":"SZg9FfQRLxqVuSmjpMOUsr"
    }
   }
  },
  {
   "cell_type":"code",
   "source":[
    "# but as we said earlier , we will try to do it all in a single step, just like a pro\n",
    "df.groupby('Company').sum().loc[\"GOOG\"]"
   ],
   "execution_count":19,
   "outputs":[
    {
     "data":{
      "text\/html":[
       
      ]
     },
     "metadata":{
      
     },
     "output_type":"display_data"
    }
   ],
   "metadata":{
    "datalore":{
     "type":"CODE",
     "hide_input_from_viewers":false,
     "hide_output_from_viewers":false,
     "node_id":"UNMUmzoQlgNIiQukeD4vgm"
    }
   }
  },
  {
   "cell_type":"code",
   "source":[
    "# we can alos use '.count' to count how many rows an index have\n",
    "df.groupby('Company').count()"
   ],
   "execution_count":21,
   "outputs":[
    {
     "data":{
      "text\/html":[
       "<div>\n",
       "<style scoped>\n",
       "    .dataframe tbody tr th:only-of-type {\n",
       "        vertical-align: middle;\n",
       "    }\n",
       "\n",
       "    .dataframe tbody tr th {\n",
       "        vertical-align: top;\n",
       "    }\n",
       "\n",
       "    .dataframe thead th {\n",
       "        text-align: right;\n",
       "    }\n",
       "<\/style>\n",
       "<table border=\"1\" class=\"dataframe\">\n",
       "  <thead>\n",
       "    <tr style=\"text-align: right;\">\n",
       "      <th><\/th>\n",
       "      <th>Person<\/th>\n",
       "      <th>Sales<\/th>\n",
       "    <\/tr>\n",
       "    <tr>\n",
       "      <th>Company<\/th>\n",
       "      <th><\/th>\n",
       "      <th><\/th>\n",
       "    <\/tr>\n",
       "  <\/thead>\n",
       "  <tbody>\n",
       "    <tr>\n",
       "      <th>FB<\/th>\n",
       "      <td>2<\/td>\n",
       "      <td>2<\/td>\n",
       "    <\/tr>\n",
       "    <tr>\n",
       "      <th>GOOG<\/th>\n",
       "      <td>2<\/td>\n",
       "      <td>2<\/td>\n",
       "    <\/tr>\n",
       "    <tr>\n",
       "      <th>MSFT<\/th>\n",
       "      <td>2<\/td>\n",
       "      <td>2<\/td>\n",
       "    <\/tr>\n",
       "  <\/tbody>\n",
       "<\/table>\n",
       "<\/div>"
      ]
     },
     "metadata":{
      
     },
     "output_type":"display_data"
    }
   ],
   "metadata":{
    "datalore":{
     "type":"CODE",
     "hide_input_from_viewers":false,
     "hide_output_from_viewers":false,
     "node_id":"ys4ztucYgdZN4NLshiBcS4"
    }
   }
  },
  {
   "cell_type":"code",
   "source":[
    "# we can also do 'max' and 'min'\n",
    "df.groupby('Company').max()"
   ],
   "execution_count":22,
   "outputs":[
    {
     "data":{
      "text\/html":[
       "<div>\n",
       "<style scoped>\n",
       "    .dataframe tbody tr th:only-of-type {\n",
       "        vertical-align: middle;\n",
       "    }\n",
       "\n",
       "    .dataframe tbody tr th {\n",
       "        vertical-align: top;\n",
       "    }\n",
       "\n",
       "    .dataframe thead th {\n",
       "        text-align: right;\n",
       "    }\n",
       "<\/style>\n",
       "<table border=\"1\" class=\"dataframe\">\n",
       "  <thead>\n",
       "    <tr style=\"text-align: right;\">\n",
       "      <th><\/th>\n",
       "      <th>Person<\/th>\n",
       "      <th>Sales<\/th>\n",
       "    <\/tr>\n",
       "    <tr>\n",
       "      <th>Company<\/th>\n",
       "      <th><\/th>\n",
       "      <th><\/th>\n",
       "    <\/tr>\n",
       "  <\/thead>\n",
       "  <tbody>\n",
       "    <tr>\n",
       "      <th>FB<\/th>\n",
       "      <td>Sarah<\/td>\n",
       "      <td>350<\/td>\n",
       "    <\/tr>\n",
       "    <tr>\n",
       "      <th>GOOG<\/th>\n",
       "      <td>Sam<\/td>\n",
       "      <td>200<\/td>\n",
       "    <\/tr>\n",
       "    <tr>\n",
       "      <th>MSFT<\/th>\n",
       "      <td>Vanessa<\/td>\n",
       "      <td>340<\/td>\n",
       "    <\/tr>\n",
       "  <\/tbody>\n",
       "<\/table>\n",
       "<\/div>"
      ]
     },
     "metadata":{
      
     },
     "output_type":"display_data"
    }
   ],
   "metadata":{
    "datalore":{
     "type":"CODE",
     "hide_input_from_viewers":false,
     "hide_output_from_viewers":false,
     "node_id":"JycnfBSTeMdQZnVvaqhpSY"
    }
   }
  },
  {
   "cell_type":"code",
   "source":[
    "df.groupby('Company').min()"
   ],
   "execution_count":23,
   "outputs":[
    {
     "data":{
      "text\/html":[
       "<div>\n",
       "<style scoped>\n",
       "    .dataframe tbody tr th:only-of-type {\n",
       "        vertical-align: middle;\n",
       "    }\n",
       "\n",
       "    .dataframe tbody tr th {\n",
       "        vertical-align: top;\n",
       "    }\n",
       "\n",
       "    .dataframe thead th {\n",
       "        text-align: right;\n",
       "    }\n",
       "<\/style>\n",
       "<table border=\"1\" class=\"dataframe\">\n",
       "  <thead>\n",
       "    <tr style=\"text-align: right;\">\n",
       "      <th><\/th>\n",
       "      <th>Person<\/th>\n",
       "      <th>Sales<\/th>\n",
       "    <\/tr>\n",
       "    <tr>\n",
       "      <th>Company<\/th>\n",
       "      <th><\/th>\n",
       "      <th><\/th>\n",
       "    <\/tr>\n",
       "  <\/thead>\n",
       "  <tbody>\n",
       "    <tr>\n",
       "      <th>FB<\/th>\n",
       "      <td>Carl<\/td>\n",
       "      <td>243<\/td>\n",
       "    <\/tr>\n",
       "    <tr>\n",
       "      <th>GOOG<\/th>\n",
       "      <td>Charlie<\/td>\n",
       "      <td>120<\/td>\n",
       "    <\/tr>\n",
       "    <tr>\n",
       "      <th>MSFT<\/th>\n",
       "      <td>Amy<\/td>\n",
       "      <td>124<\/td>\n",
       "    <\/tr>\n",
       "  <\/tbody>\n",
       "<\/table>\n",
       "<\/div>"
      ]
     },
     "metadata":{
      
     },
     "output_type":"display_data"
    }
   ],
   "metadata":{
    "datalore":{
     "type":"CODE",
     "hide_input_from_viewers":false,
     "hide_output_from_viewers":false,
     "node_id":"bJzrHqJGttgOhzZuJtlz98"
    }
   }
  },
  {
   "cell_type":"code",
   "source":[
    "# to get a allover details , you can use the '.describe' method\n",
    "\n",
    "df.groupby('Company').max()"
   ],
   "execution_count":24,
   "outputs":[
    {
     "data":{
      "text\/html":[
       "<div>\n",
       "<style scoped>\n",
       "    .dataframe tbody tr th:only-of-type {\n",
       "        vertical-align: middle;\n",
       "    }\n",
       "\n",
       "    .dataframe tbody tr th {\n",
       "        vertical-align: top;\n",
       "    }\n",
       "\n",
       "    .dataframe thead tr th {\n",
       "        text-align: left;\n",
       "    }\n",
       "\n",
       "    .dataframe thead tr:last-of-type th {\n",
       "        text-align: right;\n",
       "    }\n",
       "<\/style>\n",
       "<table border=\"1\" class=\"dataframe\">\n",
       "  <thead>\n",
       "    <tr>\n",
       "      <th><\/th>\n",
       "      <th colspan=\"8\" halign=\"left\">Sales<\/th>\n",
       "    <\/tr>\n",
       "    <tr>\n",
       "      <th><\/th>\n",
       "      <th>count<\/th>\n",
       "      <th>mean<\/th>\n",
       "      <th>std<\/th>\n",
       "      <th>min<\/th>\n",
       "      <th>25%<\/th>\n",
       "      <th>50%<\/th>\n",
       "      <th>75%<\/th>\n",
       "      <th>max<\/th>\n",
       "    <\/tr>\n",
       "    <tr>\n",
       "      <th>Company<\/th>\n",
       "      <th><\/th>\n",
       "      <th><\/th>\n",
       "      <th><\/th>\n",
       "      <th><\/th>\n",
       "      <th><\/th>\n",
       "      <th><\/th>\n",
       "      <th><\/th>\n",
       "      <th><\/th>\n",
       "    <\/tr>\n",
       "  <\/thead>\n",
       "  <tbody>\n",
       "    <tr>\n",
       "      <th>FB<\/th>\n",
       "      <td>2.0<\/td>\n",
       "      <td>296.5<\/td>\n",
       "      <td>75.660426<\/td>\n",
       "      <td>243.0<\/td>\n",
       "      <td>269.75<\/td>\n",
       "      <td>296.5<\/td>\n",
       "      <td>323.25<\/td>\n",
       "      <td>350.0<\/td>\n",
       "    <\/tr>\n",
       "    <tr>\n",
       "      <th>GOOG<\/th>\n",
       "      <td>2.0<\/td>\n",
       "      <td>160.0<\/td>\n",
       "      <td>56.568542<\/td>\n",
       "      <td>120.0<\/td>\n",
       "      <td>140.00<\/td>\n",
       "      <td>160.0<\/td>\n",
       "      <td>180.00<\/td>\n",
       "      <td>200.0<\/td>\n",
       "    <\/tr>\n",
       "    <tr>\n",
       "      <th>MSFT<\/th>\n",
       "      <td>2.0<\/td>\n",
       "      <td>232.0<\/td>\n",
       "      <td>152.735065<\/td>\n",
       "      <td>124.0<\/td>\n",
       "      <td>178.00<\/td>\n",
       "      <td>232.0<\/td>\n",
       "      <td>286.00<\/td>\n",
       "      <td>340.0<\/td>\n",
       "    <\/tr>\n",
       "  <\/tbody>\n",
       "<\/table>\n",
       "<\/div>"
      ]
     },
     "metadata":{
      
     },
     "output_type":"display_data"
    }
   ],
   "metadata":{
    "datalore":{
     "type":"CODE",
     "hide_input_from_viewers":false,
     "hide_output_from_viewers":false,
     "node_id":"FD9h6eIrWVKILPLW8dNeDS"
    }
   }
  },
  {
   "cell_type":"code",
   "source":[
    "# but if you don't like it this way, you can use '.transpose' method\n",
    "\n",
    "# it's showing the dataframe where the company names are the columns\n",
    "\n",
    "df.groupby('Company').describe().transpose()\n",
    "# to get details on a specific company, just mention it, like below\n",
    "\n",
    "\"\"\"df.groupby('Company').describe().transpose()['GOOG']\"\"\""
   ],
   "execution_count":29,
   "outputs":[
    {
     "data":{
      "text\/html":[
       "<div>\n",
       "<style scoped>\n",
       "    .dataframe tbody tr th:only-of-type {\n",
       "        vertical-align: middle;\n",
       "    }\n",
       "\n",
       "    .dataframe tbody tr th {\n",
       "        vertical-align: top;\n",
       "    }\n",
       "\n",
       "    .dataframe thead th {\n",
       "        text-align: right;\n",
       "    }\n",
       "<\/style>\n",
       "<table border=\"1\" class=\"dataframe\">\n",
       "  <thead>\n",
       "    <tr style=\"text-align: right;\">\n",
       "      <th><\/th>\n",
       "      <th>Company<\/th>\n",
       "      <th>FB<\/th>\n",
       "      <th>GOOG<\/th>\n",
       "      <th>MSFT<\/th>\n",
       "    <\/tr>\n",
       "  <\/thead>\n",
       "  <tbody>\n",
       "    <tr>\n",
       "      <th rowspan=\"8\" valign=\"top\">Sales<\/th>\n",
       "      <th>count<\/th>\n",
       "      <td>2.000000<\/td>\n",
       "      <td>2.000000<\/td>\n",
       "      <td>2.000000<\/td>\n",
       "    <\/tr>\n",
       "    <tr>\n",
       "      <th>mean<\/th>\n",
       "      <td>296.500000<\/td>\n",
       "      <td>160.000000<\/td>\n",
       "      <td>232.000000<\/td>\n",
       "    <\/tr>\n",
       "    <tr>\n",
       "      <th>std<\/th>\n",
       "      <td>75.660426<\/td>\n",
       "      <td>56.568542<\/td>\n",
       "      <td>152.735065<\/td>\n",
       "    <\/tr>\n",
       "    <tr>\n",
       "      <th>min<\/th>\n",
       "      <td>243.000000<\/td>\n",
       "      <td>120.000000<\/td>\n",
       "      <td>124.000000<\/td>\n",
       "    <\/tr>\n",
       "    <tr>\n",
       "      <th>25%<\/th>\n",
       "      <td>269.750000<\/td>\n",
       "      <td>140.000000<\/td>\n",
       "      <td>178.000000<\/td>\n",
       "    <\/tr>\n",
       "    <tr>\n",
       "      <th>50%<\/th>\n",
       "      <td>296.500000<\/td>\n",
       "      <td>160.000000<\/td>\n",
       "      <td>232.000000<\/td>\n",
       "    <\/tr>\n",
       "    <tr>\n",
       "      <th>75%<\/th>\n",
       "      <td>323.250000<\/td>\n",
       "      <td>180.000000<\/td>\n",
       "      <td>286.000000<\/td>\n",
       "    <\/tr>\n",
       "    <tr>\n",
       "      <th>max<\/th>\n",
       "      <td>350.000000<\/td>\n",
       "      <td>200.000000<\/td>\n",
       "      <td>340.000000<\/td>\n",
       "    <\/tr>\n",
       "  <\/tbody>\n",
       "<\/table>\n",
       "<\/div>"
      ]
     },
     "metadata":{
      
     },
     "output_type":"display_data"
    }
   ],
   "metadata":{
    "datalore":{
     "type":"CODE",
     "hide_input_from_viewers":false,
     "hide_output_from_viewers":false,
     "node_id":"o4BVcVZz1uY0AffCSBZ3ue"
    }
   }
  }
 ],
 "metadata":{
  "datalore":{
   "version":1,
   "computation_mode":"JUPYTER",
   "package_manager":"pip",
   "base_environment":"default",
   "packages":[
    
   ]
  }
 },
 "nbformat":4,
 "nbformat_minor":4
}