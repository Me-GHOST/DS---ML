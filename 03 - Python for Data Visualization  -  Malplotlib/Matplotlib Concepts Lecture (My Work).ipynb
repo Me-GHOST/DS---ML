{
 "cells":[
  {
   "cell_type":"markdown",
   "source":[
    "# MatPlotlib - Part 1"
   ],
   "attachments":{
    
   },
   "metadata":{
    "datalore":{
     "type":"MD",
     "hide_input_from_viewers":false,
     "hide_output_from_viewers":false,
     "node_id":"jLh9DlJzeQZURjY9RHwftf"
    }
   }
  },
  {
   "cell_type":"markdown",
   "source":[
    "# Introduction\n",
    "\n",
    "Matplotlib is the \"grandfather\" library of data visualization with Python. It was created by John Hunter. He created it to try to replicate MatLab's (another programming language) plotting capabilities in Python. So if you happen to be familiar with matlab, matplotlib will feel natural to you.\n",
    "\n",
    "It is an excellent 2D and 3D graphics library for generating scientific figures. \n",
    "\n",
    "Some of the major Pros of Matplotlib are:\n",
    "\n",
    "* Generally easy to get started for simple plots\n",
    "* Support for custom labels and texts\n",
    "* Great control of every element in a figure\n",
    "* High-quality output in many formats\n",
    "* Very customizable in general\n",
    "\n",
    "Matplotlib allows you to create reproducible figures programmatically. Let's learn how to use it! Before continuing this lecture, I encourage you just to explore the official Matplotlib web page: http:\/\/matplotlib.org\/\n",
    "\n",
    "## Installation \n",
    "\n",
    "You'll need to install matplotlib first with either:\n",
    "\n",
    "    conda install matplotlib\n",
    "or\n",
    "\n",
    " `pip install matplotlib`\n",
    "\n",
    "\n",
    "\n",
    "    "
   ],
   "attachments":{
    
   },
   "metadata":{
    "datalore":{
     "type":"MD",
     "hide_input_from_viewers":false,
     "hide_output_from_viewers":false,
     "node_id":"IFB73mtAZTPjM1voKtMxK8"
    }
   }
  },
  {
   "cell_type":"markdown",
   "source":[
    "## Importing"
   ],
   "attachments":{
    
   },
   "metadata":{
    "datalore":{
     "type":"MD",
     "hide_input_from_viewers":false,
     "hide_output_from_viewers":false,
     "node_id":"zvZKku2HuvDqt3oWIWnqCL"
    }
   }
  },
  {
   "cell_type":"code",
   "source":[
    "import matplotlib.pyplot as plt"
   ],
   "execution_count":1,
   "outputs":[
    
   ],
   "metadata":{
    "datalore":{
     "type":"CODE",
     "hide_input_from_viewers":false,
     "hide_output_from_viewers":false,
     "node_id":"Jwvjo0Nvi7N26LIiDKzSTB"
    }
   }
  },
  {
   "cell_type":"code",
   "source":[
    "# this will allow me to see the plot I create inside the notebook\n",
    "%matplotlib inline"
   ],
   "execution_count":2,
   "outputs":[
    
   ],
   "metadata":{
    "datalore":{
     "type":"CODE",
     "hide_input_from_viewers":false,
     "hide_output_from_viewers":false,
     "node_id":"54quQ4Rdszkuqmtbi8pUNE"
    }
   }
  },
  {
   "cell_type":"code",
   "source":[
    "import numpy as np\n",
    "x = np.linspace(0,5,11)\n",
    "y = x ** 2"
   ],
   "execution_count":3,
   "outputs":[
    
   ],
   "metadata":{
    "datalore":{
     "type":"CODE",
     "hide_input_from_viewers":false,
     "hide_output_from_viewers":false,
     "node_id":"qWYJvl0ab0QMYm6IO5pwQ5"
    }
   }
  },
  {
   "cell_type":"markdown",
   "source":[
    "### ***There are two main method to create matplots, no.1 is 'Functional' and 2nd is 'Object Oriented Method'***\n",
    "### ***'Object Oriented Method' is better and more advance, let's see 'Functional' first !***\n"
   ],
   "attachments":{
    
   },
   "metadata":{
    "datalore":{
     "type":"MD",
     "hide_input_from_viewers":false,
     "hide_output_from_viewers":false,
     "node_id":"ucLGrUXjatDuv4l1GDn8eq"
    }
   }
  },
  {
   "cell_type":"code",
   "source":[
    "# 'Functional'\n",
    "\n",
    "plt.plot(x,y)"
   ],
   "execution_count":4,
   "outputs":[
    {
     "data":{
      "text\/plain":[
       "[<matplotlib.lines.Line2D at 0x7f26241f3c10>]"
      ],
      "image\/png":"[encoded data removed]"
     },
     "metadata":{
      "image\/png":{
       
      }
     },
     "output_type":"display_data"
    }
   ],
   "metadata":{
    "datalore":{
     "type":"CODE",
     "hide_input_from_viewers":false,
     "hide_output_from_viewers":false,
     "node_id":"YsldrfgIovhvayIanV6nT5"
    }
   }
  },
  {
   "cell_type":"code",
   "source":[
    "# Now let's give it lebels for the axis, and give it a title \n",
    "\n",
    "plt.plot(x,y)\n",
    "plt.xlabel('Label X')\n",
    "plt.ylabel('Label Y')\n",
    "plt.title('My 1st Matlab Visualization')"
   ],
   "execution_count":5,
   "outputs":[
    {
     "data":{
      "text\/plain":[
       "Text(0.5, 1.0, 'My 1st Matlab Visualization')"
      ],
      "image\/png":"[encoded data removed]"
     },
     "metadata":{
      "image\/png":{
       
      }
     },
     "output_type":"display_data"
    }
   ],
   "metadata":{
    "datalore":{
     "type":"CODE",
     "hide_input_from_viewers":false,
     "hide_output_from_viewers":false,
     "node_id":"DDlugxb67S4SHpAUgi2eW7"
    }
   }
  },
  {
   "cell_type":"code",
   "source":[
    "# let's get multi-plots on a same canvas\n",
    "\n",
    "plt.subplot(1,2,1) # 1 is number of rows, 2 is number of columns and 1 is plot number\n",
    "plt.plot(x,y, 'r') # r for Red\n",
    "\n",
    "plt.subplot(1,2,2) # here 2 is plot number\n",
    "plt.plot(y,x, 'y') # y for yellow"
   ],
   "execution_count":6,
   "outputs":[
    {
     "data":{
      "text\/plain":[
       "[<matplotlib.lines.Line2D at 0x7f2624039700>]"
      ],
      "image\/png":"[encoded data removed]"
     },
     "metadata":{
      "image\/png":{
       
      }
     },
     "output_type":"display_data"
    }
   ],
   "metadata":{
    "datalore":{
     "type":"CODE",
     "hide_input_from_viewers":false,
     "hide_output_from_viewers":false,
     "node_id":"d3s8XfB6kNtE8f49IB8Nsl"
    }
   }
  },
  {
   "cell_type":"markdown",
   "source":[
    "## **Let's break these all down by using OO (Object Oriented) method**"
   ],
   "attachments":{
    
   },
   "metadata":{
    "datalore":{
     "type":"MD",
     "hide_input_from_viewers":false,
     "hide_output_from_viewers":false,
     "node_id":"3N0gvX3UcHwb1v4874wcBT"
    }
   }
  },
  {
   "cell_type":"code",
   "source":[
    "fig = plt.figure() # think of this an imaginary blank canvas.... sorta...\n",
    "\n",
    "# lets add axes to the canvas \n",
    "axes = fig.add_axes([0.1, 0.1, 0.8, 0.8]) # You will understand this line later :)\n",
    "\n",
    "# let's make a plot out of it just like before ..\n",
    "axes.plot(x,y)\n",
    "\n",
    "\n",
    "# so basically we came with the same plot we did earlier except using the Object Oriented method\n",
    "\n",
    "# we can even give this plot labels and titles as well, just like before, but the syntax is lil bit different \n",
    "axes.set_xlabel('Label X')\n",
    "axes.set_ylabel('Label y')\n",
    "axes.set_title('1st Title using OO method ')"
   ],
   "execution_count":7,
   "outputs":[
    {
     "data":{
      "text\/plain":[
       "Text(0.5, 1.0, '1st Title using OO method ')"
      ],
      "image\/png":"[encoded data removed]"
     },
     "metadata":{
      "image\/png":{
       
      }
     },
     "output_type":"display_data"
    }
   ],
   "metadata":{
    "datalore":{
     "type":"CODE",
     "hide_input_from_viewers":false,
     "hide_output_from_viewers":false,
     "node_id":"H5l90gG7fihZ96XNicgdf8"
    }
   }
  },
  {
   "cell_type":"code",
   "source":[
    "# let's continue with 2 sets of figure in 1 canvas\n",
    "fig = plt.figure()\n",
    "\n",
    "axes1 = fig.add_axes([0.0,0.1,0.8,0.8])\n",
    "axes2 = fig.add_axes([0.1,0.5,0.4,0.3])\n",
    "\n",
    "axes1.plot(x,y)\n",
    "axes2.plot(y,x)\n",
    "\n",
    "# let's give titles\n",
    "\n",
    "axes2.set_title('SMALLER PLOT')\n",
    "axes1.set_title('LARGER PLOT')"
   ],
   "execution_count":8,
   "outputs":[
    {
     "data":{
      "text\/plain":[
       "Text(0.5, 1.0, 'LARGER PLOT')"
      ],
      "image\/png":"[encoded data removed]"
     },
     "metadata":{
      "image\/png":{
       
      }
     },
     "output_type":"display_data"
    }
   ],
   "metadata":{
    "datalore":{
     "type":"CODE",
     "hide_input_from_viewers":false,
     "hide_output_from_viewers":false,
     "node_id":"S3sAwrwjPso00nMVsLSNC7"
    }
   }
  },
  {
   "cell_type":"markdown",
   "source":[
    "# MatPlotlib - Part 2"
   ],
   "attachments":{
    
   },
   "metadata":{
    "datalore":{
     "type":"MD",
     "hide_input_from_viewers":false,
     "hide_output_from_viewers":false,
     "node_id":"U8dchlT6bOWoJuD4yh6rWK"
    }
   }
  },
  {
   "cell_type":"code",
   "source":[
    "# now let's create subplots using Object Oriented Programing \n",
    "\n",
    "fig,axes = plt.subplots(nrows=1,ncols=2) # setting the number of rows and columns\n",
    "\n",
    "\n",
    "# we can create subplots simply  by indexing\n",
    "axes[0].plot(y,x)\n",
    "axes[0].set_title('First Subplot')\n",
    "\n",
    "axes[1].plot(y,x)\n",
    "axes[1].set_title('Second Subplot')\n",
    "\n",
    "plt.tight_layout() # this will take care any overlapping plots"
   ],
   "execution_count":9,
   "outputs":[
    {
     "data":{
      "image\/png":"[encoded data removed]"
     },
     "metadata":{
      "image\/png":{
       
      }
     },
     "output_type":"display_data"
    }
   ],
   "metadata":{
    "datalore":{
     "type":"CODE",
     "hide_input_from_viewers":false,
     "hide_output_from_viewers":false,
     "node_id":"PtSd38HGgsHlbjGUx3Fdoz"
    }
   }
  },
  {
   "cell_type":"markdown",
   "source":[
    "# Figure Size and DPI"
   ],
   "attachments":{
    
   },
   "metadata":{
    "datalore":{
     "type":"MD",
     "hide_input_from_viewers":false,
     "hide_output_from_viewers":false,
     "node_id":"YXn2NHgaj5BuM2ChcZdGEE"
    }
   }
  },
  {
   "cell_type":"code",
   "source":[
    "# you can set figure size, aspect ration and DPI for plots\n",
    "\n",
    "fig1 = plt.figure(figsize=(7,4)) # here figsize= width,height\n",
    "# here row is 8 inches and column is 3 (inches based on DPI)\n",
    "\n",
    "ax = fig1.add_axes([0,0,1,1]) # making a variable called 'ax'\n",
    "ax.plot(x,y)\n",
    "ax.set_xlabel('Label X')\n",
    "ax.set_ylabel('Label Y')\n",
    "ax.set_title('TITLE_')"
   ],
   "execution_count":10,
   "outputs":[
    {
     "data":{
      "text\/plain":[
       "Text(0.5, 1.0, 'TITLE_')"
      ],
      "image\/png":"[encoded data removed]"
     },
     "metadata":{
      "image\/png":{
       
      }
     },
     "output_type":"display_data"
    }
   ],
   "metadata":{
    "datalore":{
     "type":"CODE",
     "hide_input_from_viewers":false,
     "hide_output_from_viewers":false,
     "node_id":"dCS83FYZF7mdkFyYOjhLsx"
    }
   }
  },
  {
   "cell_type":"code",
   "source":[
    "# now let's do the same on subplots\n",
    "fig1,axes = plt.subplots(nrows = 2, ncols = 1,figsize=(8,3))\n",
    "\n",
    "\n",
    "axes[0].plot(x,y)\n",
    "axes[0].set_title('Title 1')\n",
    "\n",
    "\n",
    "axes[1].plot(y,x)\n",
    "axes[1].set_title('Title2')\n",
    "\n",
    "plt.tight_layout()"
   ],
   "execution_count":11,
   "outputs":[
    {
     "data":{
      "image\/png":"[encoded data removed]"
     },
     "metadata":{
      "image\/png":{
       
      }
     },
     "output_type":"display_data"
    }
   ],
   "metadata":{
    "datalore":{
     "type":"CODE",
     "hide_input_from_viewers":false,
     "hide_output_from_viewers":false,
     "node_id":"2grq1So0aYSwnNCC4nl8Vi"
    }
   }
  },
  {
   "cell_type":"code",
   "source":[
    "fig1"
   ],
   "execution_count":12,
   "outputs":[
    {
     "data":{
      "image\/png":"[encoded data removed]"
     },
     "metadata":{
      "image\/png":{
       
      }
     },
     "output_type":"display_data"
    }
   ],
   "metadata":{
    "datalore":{
     "type":"CODE",
     "hide_input_from_viewers":false,
     "hide_output_from_viewers":false,
     "node_id":"yGa5tGdKXT9TBQeYDHE748"
    }
   }
  },
  {
   "cell_type":"code",
   "source":[
    "# let's save a plot, we can save plots in a number of outputs\n",
    "# including png, jpeg, pgf, pdf, eps, svg \n",
    "\n",
    "# let's save the 'fig1' plot we created earlier\n",
    "fig1.savefig('my_pic.jpeg',dpi=2000) # file name is 'my_pic' and we can mention the dpi aswell\n",
    "# increase the dpi if you want picture with greater details "
   ],
   "execution_count":13,
   "outputs":[
    
   ],
   "metadata":{
    "datalore":{
     "type":"CODE",
     "hide_input_from_viewers":false,
     "hide_output_from_viewers":false,
     "node_id":"Pk6zvdvG49MGHypHn8aHCR"
    }
   }
  },
  {
   "cell_type":"code",
   "source":[
    "# let's talk about 'Legends' and how to create them\n",
    "# when we're getting multiple plots on a single canvas,\n",
    "# we need legends to understand what is the purpose of every line.\n",
    "\n",
    "\n",
    "\n",
    "fig1 = plt.figure(figsize=(7,4))\n",
    "ax = fig1.add_axes([0,0,1,1])\n",
    "\n",
    "# 2 plots in 1 canvas\n",
    "# let's give these stats some name\n",
    "ax.plot(x,x ** 2,'r',label = 'X\\'s Squared') # comparing 'x' to x's squre\n",
    "ax.plot(x,x ** 3, label= 'X\\'s Cubed') # comparing 'x' to x's cube\n",
    "\n",
    "ax.legend(loc = 0) #this code at the end of the code to execute legends\n",
    "\n"
   ],
   "execution_count":14,
   "outputs":[
    {
     "data":{
      "text\/plain":[
       "<matplotlib.legend.Legend at 0x7f261dcecc40>"
      ],
      "image\/png":"[encoded data removed]"
     },
     "metadata":{
      "image\/png":{
       
      }
     },
     "output_type":"display_data"
    }
   ],
   "metadata":{
    "datalore":{
     "type":"CODE",
     "hide_input_from_viewers":false,
     "hide_output_from_viewers":false,
     "node_id":"J8ZDE2gm8ipyv8VWZus1Hk"
    }
   }
  },
  {
   "cell_type":"markdown",
   "source":[
    "**Remember** how are legend sometimes overlaps some of the actual plot !\n",
    "\n",
    "The **legend** function takes an optional keyword argument **loc** that can be used to specify where in the figure the legend is to be drawn. The allowed values of **loc** are numerical codes for the various places the legend can be drawn. See the [documentation page](https:\/\/matplotlib.org\/3.5.1\/api\/legend_api.html?highlight=legend#module-matplotlib.legend) for details. Some of the most common **loc** values are:\n",
    "'best'  0\n",
    "\n",
    "**'upper right'  1**\n",
    "\n",
    "**'upper left'   2**\n",
    "\n",
    "**'lower left'   3**\n",
    "\n",
    "**'lower right'  4**\n",
    "\n",
    "**'right'        5**\n",
    "\n",
    "\n",
    "\n",
    "**'center left'   6**\n",
    "\n",
    "**'center right'  7**\n",
    "\n",
    "**'lower center'  8**\n",
    "\n",
    "**'upper center'  9**\n",
    "\n",
    "**'center'        10**\n",
    "\n",
    "___\n",
    "\n",
    "\n",
    "***example of 'loc' is shown in the upper cell***"
   ],
   "attachments":{
    
   },
   "metadata":{
    "datalore":{
     "type":"MD",
     "hide_input_from_viewers":false,
     "hide_output_from_viewers":false,
     "node_id":"vVE2B4u8XKTFtwMBs3lcGO"
    }
   }
  },
  {
   "cell_type":"code",
   "source":[
    "\n",
    "\n",
    "\n",
    "\n",
    "\n"
   ],
   "execution_count":0,
   "outputs":[
    
   ],
   "metadata":{
    "datalore":{
     "type":"CODE",
     "hide_input_from_viewers":false,
     "hide_output_from_viewers":false,
     "node_id":"NhOEKPX3BollxvtQ4W2vCp"
    }
   }
  },
  {
   "cell_type":"markdown",
   "source":[
    "# MatPlotlib - Part 3"
   ],
   "attachments":{
    
   },
   "metadata":{
    "datalore":{
     "type":"MD",
     "hide_input_from_viewers":false,
     "hide_output_from_viewers":false,
     "node_id":"SCSfCVAWrMAH2dACco47mV"
    }
   }
  },
  {
   "cell_type":"markdown",
   "source":[
    "## Plot Appearance: \n",
    "## Setting colors, linewidths, linetypes\n",
    "\n",
    "Matplotlib gives you *a lot* of options for customizing colors, linewidths, and linetypes. \n",
    "\n",
    "There is the basic MATLAB like syntax (which I would suggest you avoid using for more clairty sake:"
   ],
   "attachments":{
    
   },
   "metadata":{
    "datalore":{
     "type":"MD",
     "hide_input_from_viewers":false,
     "hide_output_from_viewers":false,
     "node_id":"AQUIajQEzFoc76LAob0kHa"
    }
   }
  },
  {
   "cell_type":"markdown",
   "source":[
    "### Colors with MatLab like syntax\n",
    "\n",
    "With matplotlib, we can define the colors of lines and other graphical elements in a number of ways. First of all, we can use the MATLAB-like syntax where `'b'` means blue, `'g'` means green, etc. The MATLAB API for selecting line styles are also supported: where, for example, 'b.-' means a blue line with dots:"
   ],
   "attachments":{
    
   },
   "metadata":{
    "datalore":{
     "type":"MD",
     "hide_input_from_viewers":false,
     "hide_output_from_viewers":false,
     "node_id":"xKF3X938N6cv0UlHnRlIyL"
    }
   }
  },
  {
   "cell_type":"code",
   "source":[
    "# let's make a simple plot 1st\n",
    "fig2 = plt.figure()\n",
    "\n",
    "ax = fig2.add_axes([0,0,1,1])\n",
    "\n",
    "# just mention any color you want\n",
    "# lw is linewidth\n",
    "# 'ls' is linestyle, there are many\n",
    "ax.plot(x,y,color = 'brown',lw= 3, ls = '--') \n",
    "\n",
    "# remember you can also provide rgb hexcodes\n",
    "# alpha is line 'transparency'\n",
    "# marker is for to markout each point 'x' vs 'y' here, there are wide variety of markers available\n",
    "# marker size is to address the size of the marker\n",
    "# and there are more marker customization mentioned below\n",
    "\n",
    "ax.plot(y,x,color = '#FF8C00', alpha = 1,marker = 'o',markersize = 11,\n",
    "        markerfacecolor = 'blue', markeredgewidth = 3,markeredgecolor = 'red') \n",
    "ax.legend(['Label X', 'Label Y'])"
   ],
   "execution_count":31,
   "outputs":[
    {
     "data":{
      "text\/plain":[
       "<matplotlib.legend.Legend at 0x7f2602a004c0>"
      ],
      "image\/png":"[encoded data removed]"
     },
     "metadata":{
      "image\/png":{
       
      }
     },
     "output_type":"display_data"
    }
   ],
   "metadata":{
    "datalore":{
     "type":"CODE",
     "hide_input_from_viewers":false,
     "hide_output_from_viewers":false,
     "node_id":"eIQyRY4gTWk4zN6LHBmbB9"
    }
   }
  },
  {
   "cell_type":"markdown",
   "source":[
    "***Please view [this](https:\/\/datalore.jetbrains.com\/notebook\/hqigHzIUr5ov4uQkIy0eGx\/JMwEvWNDvLkijYZZ76u7VN\/) notebook to learn more.***\n",
    "\n",
    "***For more advance matplotlib access, open [this](https:\/\/datalore.jetbrains.com\/notebook\/hqigHzIUr5ov4uQkIy0eGx\/kDii4z2oEPUgjKFiaBPFOd\/)***\n"
   ],
   "attachments":{
    
   },
   "metadata":{
    "datalore":{
     "type":"MD",
     "hide_input_from_viewers":false,
     "hide_output_from_viewers":false,
     "node_id":"CY6EbVyqeYIIuyryHbjUw9"
    }
   }
  },
  {
   "cell_type":"markdown",
   "source":[
    "## Further reading\n",
    "\n",
    "* http:\/\/www.matplotlib.org - The project web page for matplotlib.\n",
    "* https:\/\/github.com\/matplotlib\/matplotlib - The source code for matplotlib.\n",
    "* https:\/\/matplotlib.org\/stable\/gallery\/index.html - A large gallery showcaseing various types of plots matplotlib can create. Highly recommended! \n",
    "* http:\/\/www.loria.fr\/~rougier\/teaching\/matplotlib - A good matplotlib tutorial.\n",
    "* http:\/\/scipy-lectures.github.io\/matplotlib\/matplotlib.html - Another good matplotlib reference."
   ],
   "attachments":{
    
   },
   "metadata":{
    "datalore":{
     "type":"MD",
     "hide_input_from_viewers":false,
     "hide_output_from_viewers":false,
     "node_id":"uxd54rz6uSpygeBBk7WIHX"
    }
   }
  },
  {
   "cell_type":"markdown",
   "source":[
    "# GG !"
   ],
   "attachments":{
    
   },
   "metadata":{
    "datalore":{
     "type":"MD",
     "hide_input_from_viewers":false,
     "hide_output_from_viewers":false,
     "node_id":"W1hfGYkC7SlBVrTSPYCXkC"
    }
   }
  }
 ],
 "metadata":{
  "datalore":{
   "version":1,
   "computation_mode":"JUPYTER",
   "package_manager":"pip",
   "base_environment":"default",
   "packages":[
    
   ]
  }
 },
 "nbformat":4,
 "nbformat_minor":4
}