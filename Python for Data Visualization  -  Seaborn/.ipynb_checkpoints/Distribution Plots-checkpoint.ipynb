{
 "cells": [
  {
   "cell_type": "markdown",
   "metadata": {
    "datalore": {
     "hide_input_from_viewers": false,
     "hide_output_from_viewers": false,
     "node_id": "eTZPBSokLewH5sr2Q45lTt",
     "type": "MD"
    }
   },
   "source": [
    "# Distribution Plots\n",
    "\n",
    "Let's discuss some plots that allow us to visualize the distribution of a data set. These plots are:\n",
    "\n",
    "* distplot\n",
    "* jointplot\n",
    "* pairplot\n",
    "* rugplot\n",
    "* kdeplot"
   ]
  },
  {
   "cell_type": "code",
   "execution_count": null,
   "metadata": {
    "datalore": {
     "hide_input_from_viewers": false,
     "hide_output_from_viewers": false,
     "node_id": "1mo7UuKgCRTXZGRP1TnCwR",
     "type": "CODE"
    }
   },
   "outputs": [],
   "source": [
    "import seaborn as sns\n",
    "%matplotlib inline"
   ]
  },
  {
   "cell_type": "code",
   "execution_count": null,
   "metadata": {
    "datalore": {
     "hide_input_from_viewers": false,
     "hide_output_from_viewers": false,
     "node_id": "8BialQY2E6jVX1e2tkLOas",
     "type": "CODE"
    }
   },
   "outputs": [],
   "source": [
    "# let's make a varable named 'tips',it's a  a sample dataset from seaborn\n",
    "tips = sns.load_dataset('tips')"
   ]
  },
  {
   "cell_type": "code",
   "execution_count": null,
   "metadata": {
    "datalore": {
     "hide_input_from_viewers": false,
     "hide_output_from_viewers": false,
     "node_id": "dwis0jhDPPER6Ge1fzMA7e",
     "type": "CODE"
    }
   },
   "outputs": [],
   "source": [
    "# lets' access the head of that dataset\n",
    "tips.head()"
   ]
  },
  {
   "cell_type": "markdown",
   "metadata": {
    "datalore": {
     "hide_input_from_viewers": false,
     "hide_output_from_viewers": false,
     "node_id": "hao83kNcmcmkeH5wWwKpfQ",
     "type": "MD"
    }
   },
   "source": [
    "## Displot"
   ]
  },
  {
   "cell_type": "code",
   "execution_count": null,
   "metadata": {
    "datalore": {
     "hide_input_from_viewers": false,
     "hide_output_from_viewers": false,
     "node_id": "aPt39J2DjOr81uRGGSCior",
     "type": "CODE"
    }
   },
   "outputs": [],
   "source": [
    "# now make a seaborn plot of hte row 'total_bill' from that dataset\n",
    "\n",
    "# this a displot, essentially a histogram that allows us to visualize a distribution\n",
    "sns.displot(tips['total_bill'],bins = 30,kde = True)\n",
    "\n",
    "# bins is the number of total rods in the plot\n",
    "# kde is the statistical line over the bins, it's False by default so you can't see it at 1st glance"
   ]
  },
  {
   "cell_type": "markdown",
   "metadata": {
    "datalore": {
     "hide_input_from_viewers": false,
     "hide_output_from_viewers": false,
     "node_id": "aKixbkQJsGaryv4DRo5qkw",
     "type": "MD"
    }
   },
   "source": [
    "## Jointplot\n",
    "\n",
    "jointplot() allows you to basically match up two distplots for bivariate data. With your choice of what **kind** parameter to compare with: \n",
    "* “scatter” \n",
    "* “reg” \n",
    "* “resid” \n",
    "* “kde” \n",
    "* “hex”"
   ]
  },
  {
   "cell_type": "code",
   "execution_count": null,
   "metadata": {
    "datalore": {
     "hide_input_from_viewers": false,
     "hide_output_from_viewers": false,
     "node_id": "ZOQTXaAqbKodW2VKN3nwny",
     "type": "CODE"
    }
   },
   "outputs": [],
   "source": [
    "\"\"\" a jointplot allows us to match up 2 displots by variant data,\n",
    "ing we can combine 2 different distribution plot by 2 variable \"\"\"\n",
    "\n",
    "# let's use 'total_bill' and 'tip' from the dataset into a jointplot\n",
    "\n",
    "sns.jointplot(x='total_bill', y = 'tip', data = tips, kind = 'hex') # 'total_bill' on X axis and 'tip' in Y\n",
    "# by default, the kind is 'scatter' by default, which is the design pattern of those particles in the plot\n",
    "# but we're gonna use 'hex' here, which is more clear and it gets darker when the points are high\n",
    "# there are other kinds like 'kde' or 'reg'\n",
    "sns.jointplot(x='total_bill', y = 'tip', data = tips, kind = 'kde')\n",
    "sns.jointplot(x='total_bill', y = 'tip', data = tips, kind = 'reg')\n",
    "\n",
    "\n",
    "# but here we're going to use 'scatter' which comes by default\n",
    "sns.jointplot(x='total_bill', y = 'tip', data = tips)"
   ]
  },
  {
   "cell_type": "markdown",
   "metadata": {
    "datalore": {
     "hide_input_from_viewers": false,
     "hide_output_from_viewers": false,
     "node_id": "mxWrJx21buAJiva5XbVrZn",
     "type": "MD"
    }
   },
   "source": [
    "## Pairplot\n",
    "\n",
    "pairplot will plot pairwise relationships across an entire dataframe (for the numerical columns) and supports a color hue argument (for categorical columns). "
   ]
  },
  {
   "cell_type": "code",
   "execution_count": null,
   "metadata": {
    "datalore": {
     "hide_input_from_viewers": false,
     "hide_output_from_viewers": false,
     "node_id": "AbjTH98pnHTALYHO2kVJ0c",
     "type": "CODE"
    }
   },
   "outputs": [],
   "source": [
    "\n",
    "# we're using pairplot on the dataset 'tips'\n",
    "sns.pairplot(tips)\n",
    "\n",
    "\"\"\" KIM, the larger the dataset, the longer time 'pairplot' takes\n",
    "also KIM, when comparing 2 same columns like size v size or total_bill v total_bill, \n",
    "it will be a histogram rather than a scatterplot \"\"\""
   ]
  },
  {
   "cell_type": "code",
   "execution_count": null,
   "metadata": {
    "datalore": {
     "hide_input_from_viewers": false,
     "hide_output_from_viewers": false,
     "node_id": "l7k0uXX4a479t4SXbkG4uS",
     "type": "CODE"
    }
   },
   "outputs": [],
   "source": [
    "\"\"\"The 'hue' argument, where we pass in a catagorical column,\n",
    "a catagorical column is a column which is not numerical or continues, \n",
    "but actual catagories, like the 'sex' column which is catagorised by two catagory, 'Male' and 'Female' \"\"\"\n",
    "\n",
    "sns.pairplot(tips, hue= 'sex')"
   ]
  },
  {
   "cell_type": "markdown",
   "metadata": {
    "datalore": {
     "hide_input_from_viewers": false,
     "hide_output_from_viewers": false,
     "node_id": "LhiXR9rqKWzTtcAJ3SVFoj",
     "type": "MD"
    }
   },
   "source": [
    "## Rugplot\n",
    "\n",
    "rugplots are actually a very simple concept, they just draw a dash mark for every point on a univariate distribution. They are the building block of a KDE plot:"
   ]
  },
  {
   "cell_type": "code",
   "execution_count": null,
   "metadata": {
    "datalore": {
     "hide_input_from_viewers": false,
     "hide_output_from_viewers": false,
     "node_id": "7W8dXWmRfJwmeB6upTO4tp",
     "type": "CODE"
    }
   },
   "outputs": [],
   "source": [
    "\n",
    "# it's works same as displot, it's just draws dashmark for every single point along the distribution line\n",
    "sns.rugplot(tips['total_bill'])"
   ]
  },
  {
   "cell_type": "markdown",
   "metadata": {
    "datalore": {
     "hide_input_from_viewers": false,
     "hide_output_from_viewers": false,
     "node_id": "X1oRuucWTw3lCTv6lBoqBW",
     "type": "MD"
    }
   },
   "source": [
    "## KDEPlot or Kernel Density Estimation Plot\n",
    "\n",
    "kdeplots are [Kernel Density Estimation plots](http://en.wikipedia.org/wiki/Kernel_density_estimation#Practical_estimation_of_the_bandwidth). These KDE plots replace every single observation with a Gaussian (Normal) distribution centered around that value. For example:"
   ]
  },
  {
   "cell_type": "code",
   "execution_count": null,
   "metadata": {
    "datalore": {
     "hide_input_from_viewers": false,
     "hide_output_from_viewers": false,
     "node_id": "OnYuBpFbU8G6pkVTXTaPbR",
     "type": "CODE"
    }
   },
   "outputs": [],
   "source": [
    "# Don't worry about understanding this code!\n",
    "# It's just for the diagram below\n",
    "import numpy as np\n",
    "import matplotlib.pyplot as plt\n",
    "from scipy import stats\n",
    "\n",
    "#Create dataset\n",
    "dataset = np.random.randn(25)\n",
    "\n",
    "# Create another rugplot\n",
    "sns.rugplot(dataset)\n",
    "\n",
    "# Set up the x-axis for the plot\n",
    "x_min = dataset.min() - 2\n",
    "x_max = dataset.max() + 2\n",
    "\n",
    "# 100 equally spaced points from x_min to x_max\n",
    "x_axis = np.linspace(x_min,x_max,100)\n",
    "\n",
    "# Set up the bandwidth, for info on this:\n",
    "url = 'http://en.wikipedia.org/wiki/Kernel_density_estimation#Practical_estimation_of_the_bandwidth'\n",
    "\n",
    "bandwidth = ((4*dataset.std()**5)/(3*len(dataset)))**.2\n",
    "\n",
    "\n",
    "# Create an empty kernel list\n",
    "kernel_list = []\n",
    "\n",
    "# Plot each basis function\n",
    "for data_point in dataset:\n",
    "    \n",
    "    # Create a kernel for each point and append to list\n",
    "    kernel = stats.norm(data_point,bandwidth).pdf(x_axis)\n",
    "    kernel_list.append(kernel)\n",
    "    \n",
    "    #Scale for plotting\n",
    "    kernel = kernel / kernel.max()\n",
    "    kernel = kernel * .4\n",
    "    plt.plot(x_axis,kernel,color = 'grey',alpha=0.5)\n",
    "\n",
    "plt.ylim(0,1)"
   ]
  },
  {
   "cell_type": "code",
   "execution_count": null,
   "metadata": {
    "datalore": {
     "hide_input_from_viewers": false,
     "hide_output_from_viewers": false,
     "node_id": "jkD9xmUiTheSLDTbfvp0Zm",
     "type": "CODE"
    }
   },
   "outputs": [],
   "source": [
    "# To get the kde plot we can sum these basis functions.\n",
    "\n",
    "# Plot the sum of the basis function\n",
    "sum_of_kde = np.sum(kernel_list,axis=0)\n",
    "\n",
    "# Plot figure\n",
    "fig = plt.plot(x_axis,sum_of_kde,color='indianred')\n",
    "\n",
    "# Add the initial rugplot\n",
    "sns.rugplot(dataset,c = 'indianred')\n",
    "\n",
    "# Get rid of y-tick marks\n",
    "plt.yticks([])\n",
    "\n",
    "# Set title\n",
    "plt.suptitle(\"Sum of the Basis Functions\")"
   ]
  },
  {
   "cell_type": "code",
   "execution_count": null,
   "metadata": {},
   "outputs": [],
   "source": []
  }
 ],
 "metadata": {
  "datalore": {
   "base_environment": "default",
   "computation_mode": "JUPYTER",
   "package_manager": "pip",
   "packages": [
    {
     "name": "scripy",
     "source": "PIP",
     "version": "0.9.3"
    }
   ],
   "version": 1
  },
  "kernelspec": {
   "display_name": "Python 3 (ipykernel)",
   "language": "python",
   "name": "python3"
  },
  "language_info": {
   "codemirror_mode": {
    "name": "ipython",
    "version": 3
   },
   "file_extension": ".py",
   "mimetype": "text/x-python",
   "name": "python",
   "nbconvert_exporter": "python",
   "pygments_lexer": "ipython3",
   "version": "3.9.7"
  }
 },
 "nbformat": 4,
 "nbformat_minor": 4
}
