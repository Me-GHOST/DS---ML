{
 "cells":[
  {
   "cell_type":"markdown",
   "source":[
    "# NumPy Exercises"
   ],
   "attachments":{
    
   },
   "metadata":{
    "datalore":{
     "type":"MD",
     "hide_input_from_viewers":false,
     "hide_output_from_viewers":false,
     "node_id":"uIkTsnmABlU3WHR9k1V84R"
    }
   }
  },
  {
   "cell_type":"code",
   "source":[
    "import numpy as np"
   ],
   "execution_count":1,
   "outputs":[
    
   ],
   "metadata":{
    "datalore":{
     "type":"CODE",
     "hide_input_from_viewers":false,
     "hide_output_from_viewers":false,
     "node_id":"pVdCLsjtMwT8I91fKk4uKF"
    }
   }
  },
  {
   "cell_type":"code",
   "source":[
    "# Create 10 zeros\n",
    "np.zeros(10)"
   ],
   "execution_count":2,
   "outputs":[
    {
     "data":{
      "text\/html":[
       
      ]
     },
     "metadata":{
      
     },
     "output_type":"display_data"
    }
   ],
   "metadata":{
    "datalore":{
     "type":"CODE",
     "hide_input_from_viewers":false,
     "hide_output_from_viewers":false,
     "node_id":"bVpJ9G0cuMAoCgHqezom4d"
    }
   }
  },
  {
   "cell_type":"code",
   "source":[
    "# Create 10 ones\n",
    "np.ones(10)"
   ],
   "execution_count":3,
   "outputs":[
    {
     "data":{
      "text\/html":[
       
      ]
     },
     "metadata":{
      
     },
     "output_type":"display_data"
    }
   ],
   "metadata":{
    "datalore":{
     "type":"CODE",
     "hide_input_from_viewers":false,
     "hide_output_from_viewers":false,
     "node_id":"6R0q87CbWBafX8t0EnzoW1"
    }
   }
  },
  {
   "cell_type":"code",
   "source":[
    "# Create 10 fives\n",
    "np.ones(10) * 5\n",
    "np.ones(10) + 4\n",
    "np.zeros(10) + 5\n",
    "# Both will do the job"
   ],
   "execution_count":4,
   "outputs":[
    {
     "data":{
      "text\/html":[
       
      ]
     },
     "metadata":{
      
     },
     "output_type":"display_data"
    }
   ],
   "metadata":{
    "datalore":{
     "type":"CODE",
     "hide_input_from_viewers":false,
     "hide_output_from_viewers":false,
     "node_id":"iYnp2lTxK5BGLGlLuhn81k"
    }
   }
  },
  {
   "cell_type":"code",
   "source":[
    "# Create a array of the integers from 10 to 50\n",
    "np.arange(10,51)"
   ],
   "execution_count":5,
   "outputs":[
    {
     "data":{
      "text\/html":[
       
      ]
     },
     "metadata":{
      
     },
     "output_type":"display_data"
    }
   ],
   "metadata":{
    "datalore":{
     "type":"CODE",
     "hide_input_from_viewers":false,
     "hide_output_from_viewers":false,
     "node_id":"d11cwbItgdGXZWoRiVIfpv"
    }
   }
  },
  {
   "cell_type":"code",
   "source":[
    "# Create a array of the all the even integers from 10 to 50\n",
    "np.arange(10,51,2)"
   ],
   "execution_count":6,
   "outputs":[
    {
     "data":{
      "text\/html":[
       
      ]
     },
     "metadata":{
      
     },
     "output_type":"display_data"
    }
   ],
   "metadata":{
    "datalore":{
     "type":"CODE",
     "hide_input_from_viewers":false,
     "hide_output_from_viewers":false,
     "node_id":"EAXA98qYKXu6FOYxD8TkQd"
    }
   }
  },
  {
   "cell_type":"code",
   "source":[
    "# Create a 3 x 3 matrix with the value from 0 to 8\n",
    "np.arange(0,9).reshape(3,3)"
   ],
   "execution_count":7,
   "outputs":[
    {
     "data":{
      "text\/html":[
       
      ]
     },
     "metadata":{
      
     },
     "output_type":"display_data"
    }
   ],
   "metadata":{
    "datalore":{
     "type":"CODE",
     "hide_input_from_viewers":false,
     "hide_output_from_viewers":false,
     "node_id":"WFkq0DKptWkosKM5wW8QTO"
    }
   }
  },
  {
   "cell_type":"code",
   "source":[
    "# Create a 3 x 3 identity matrix \n",
    "np.eye(3)"
   ],
   "execution_count":8,
   "outputs":[
    {
     "data":{
      "text\/html":[
       
      ]
     },
     "metadata":{
      
     },
     "output_type":"display_data"
    }
   ],
   "metadata":{
    "datalore":{
     "type":"CODE",
     "hide_input_from_viewers":false,
     "hide_output_from_viewers":false,
     "node_id":"gPeGm7NwqbnVEyzYriUL0F"
    }
   }
  },
  {
   "cell_type":"code",
   "source":[
    "# Generate a random number between 0 and 1\n",
    "np.random.rand(1)"
   ],
   "execution_count":9,
   "outputs":[
    {
     "data":{
      "text\/html":[
       
      ]
     },
     "metadata":{
      
     },
     "output_type":"display_data"
    }
   ],
   "metadata":{
    "datalore":{
     "type":"CODE",
     "hide_input_from_viewers":false,
     "hide_output_from_viewers":false,
     "node_id":"2xaqYoF9cx31QMYnqIXhzN"
    }
   }
  },
  {
   "cell_type":"code",
   "source":[
    "\"\"\"Use Numpy to generate an array of 25 random numbers sampled from \n",
    "a standard normal distribution\"\"\"\n",
    "\n",
    "np.random.randn(25)"
   ],
   "execution_count":10,
   "outputs":[
    {
     "data":{
      "text\/html":[
       
      ]
     },
     "metadata":{
      
     },
     "output_type":"display_data"
    }
   ],
   "metadata":{
    "datalore":{
     "type":"CODE",
     "hide_input_from_viewers":false,
     "hide_output_from_viewers":false,
     "node_id":"lK4yhFAMoRiI0tJ36xyyQ4"
    }
   }
  },
  {
   "cell_type":"markdown",
   "source":[
    "# Print Below Output\n",
    "**array([[0.01, 0.02, 0.03, 0.04, 0.05, 0.06, 0.07, 0.08, 0.09, 0.1 ],\n",
    "       [0.11, 0.12, 0.13, 0.14, 0.15, 0.16, 0.17, 0.18, 0.19, 0.2 ],\n",
    "       [0.21, 0.22, 0.23, 0.24, 0.25, 0.26, 0.27, 0.28, 0.29, 0.3 ],\n",
    "       [0.31, 0.32, 0.33, 0.34, 0.35, 0.36, 0.37, 0.38, 0.39, 0.4 ],\n",
    "       [0.41, 0.42, 0.43, 0.44, 0.45, 0.46, 0.47, 0.48, 0.49, 0.5 ],\n",
    "       [0.51, 0.52, 0.53, 0.54, 0.55, 0.56, 0.57, 0.58, 0.59, 0.6 ],\n",
    "       [0.61, 0.62, 0.63, 0.64, 0.65, 0.66, 0.67, 0.68, 0.69, 0.7 ],\n",
    "       [0.71, 0.72, 0.73, 0.74, 0.75, 0.76, 0.77, 0.78, 0.79, 0.8 ],\n",
    "       [0.81, 0.82, 0.83, 0.84, 0.85, 0.86, 0.87, 0.88, 0.89, 0.9 ],\n",
    "       [0.91, 0.92, 0.93, 0.94, 0.95, 0.96, 0.97, 0.98, 0.99, 1.  ]])**"
   ],
   "attachments":{
    
   },
   "metadata":{
    "datalore":{
     "type":"MD",
     "hide_input_from_viewers":false,
     "hide_output_from_viewers":false,
     "node_id":"r8Zfpc7IXGYgtIcuFc0gYQ"
    }
   }
  },
  {
   "cell_type":"code",
   "source":[
    "# approach 1\n",
    "np.arange(1,101).reshape(10,10)\/100"
   ],
   "execution_count":11,
   "outputs":[
    {
     "data":{
      "text\/html":[
       
      ]
     },
     "metadata":{
      
     },
     "output_type":"display_data"
    }
   ],
   "metadata":{
    "datalore":{
     "type":"CODE",
     "hide_input_from_viewers":false,
     "hide_output_from_viewers":false,
     "node_id":"wyOzWyxlRAUSCm2uZlFadE"
    }
   }
  },
  {
   "cell_type":"code",
   "source":[
    "#approach 2\n",
    "np.linspace(0.01,1,100).reshape(10,10)"
   ],
   "execution_count":12,
   "outputs":[
    {
     "data":{
      "text\/html":[
       
      ]
     },
     "metadata":{
      
     },
     "output_type":"display_data"
    }
   ],
   "metadata":{
    "datalore":{
     "type":"CODE",
     "hide_input_from_viewers":false,
     "hide_output_from_viewers":false,
     "node_id":"XArgDu1c9G73PVKFUgggVD"
    }
   }
  },
  {
   "cell_type":"code",
   "source":[
    "#Create an array of 20 linearly spaced points between 0 and 1\n",
    "np.linspace(0,1,20).reshape(5,4)"
   ],
   "execution_count":13,
   "outputs":[
    {
     "data":{
      "text\/html":[
       
      ]
     },
     "metadata":{
      
     },
     "output_type":"display_data"
    }
   ],
   "metadata":{
    "datalore":{
     "type":"CODE",
     "hide_input_from_viewers":false,
     "hide_output_from_viewers":false,
     "node_id":"MgMt96T9XrKLTZB4HkEsk6"
    }
   }
  },
  {
   "cell_type":"code",
   "source":[
    "mat = np.arange(1,26).reshape(5,5)\n",
    "mat"
   ],
   "execution_count":17,
   "outputs":[
    {
     "data":{
      "text\/html":[
       
      ]
     },
     "metadata":{
      
     },
     "output_type":"display_data"
    }
   ],
   "metadata":{
    "datalore":{
     "type":"CODE",
     "hide_input_from_viewers":false,
     "hide_output_from_viewers":false,
     "node_id":"vhmPpWcnU6FHR2cIbpwzvO"
    }
   }
  },
  {
   "cell_type":"code",
   "source":[
    "#print a part of 'mat' by using indexing slicing \n",
    "mat[2:,1:]"
   ],
   "execution_count":18,
   "outputs":[
    {
     "data":{
      "text\/html":[
       
      ]
     },
     "metadata":{
      
     },
     "output_type":"display_data"
    }
   ],
   "metadata":{
    "datalore":{
     "type":"CODE",
     "hide_input_from_viewers":false,
     "hide_output_from_viewers":false,
     "node_id":"UKuMQYc0SbHHiD1DV4N8Vi"
    }
   }
  },
  {
   "cell_type":"code",
   "source":[
    "#grab only number 20 from 'mat'\n",
    "mat[3,4]"
   ],
   "execution_count":21,
   "outputs":[
    {
     "data":{
      "text\/plain":[
       "20"
      ]
     },
     "metadata":{
      
     },
     "output_type":"display_data"
    }
   ],
   "metadata":{
    "datalore":{
     "type":"CODE",
     "hide_input_from_viewers":false,
     "hide_output_from_viewers":false,
     "node_id":"oH9so0k1Blvzq7yvVNK7oi"
    }
   }
  },
  {
   "cell_type":"code",
   "source":[
    "#grab [2,7,12] from 'mat'\n",
    "mat[0:3,1:2]"
   ],
   "execution_count":40,
   "outputs":[
    {
     "data":{
      "text\/html":[
       
      ]
     },
     "metadata":{
      
     },
     "output_type":"display_data"
    }
   ],
   "metadata":{
    "datalore":{
     "type":"CODE",
     "hide_input_from_viewers":false,
     "hide_output_from_viewers":false,
     "node_id":"W4PVV5jB6UWq7v1yl1CQTF"
    }
   }
  },
  {
   "cell_type":"code",
   "source":[
    "# print the eliment with 4 eliment in it from 'mat', print [21,22,23,24,25]\n",
    "\n",
    "mat[4,:]\n",
    "mat[-1, :] #negative indexing , both works "
   ],
   "execution_count":43,
   "outputs":[
    {
     "data":{
      "text\/html":[
       
      ]
     },
     "metadata":{
      
     },
     "output_type":"display_data"
    }
   ],
   "metadata":{
    "datalore":{
     "type":"CODE",
     "hide_input_from_viewers":false,
     "hide_output_from_viewers":false,
     "node_id":"zItfYJYHVaZEE3ExwYIPg2"
    }
   }
  },
  {
   "cell_type":"code",
   "source":[
    "#print all the columns from last 2 rows from 'mat'\n",
    "mat[3:,:]"
   ],
   "execution_count":47,
   "outputs":[
    {
     "data":{
      "text\/html":[
       
      ]
     },
     "metadata":{
      
     },
     "output_type":"display_data"
    }
   ],
   "metadata":{
    "datalore":{
     "type":"CODE",
     "hide_input_from_viewers":false,
     "hide_output_from_viewers":false,
     "node_id":"59cdYdbG8Zm6ggaO1sBfW6"
    }
   }
  },
  {
   "cell_type":"code",
   "source":[
    "#sum of all values in mat\n",
    "np.sum(mat)\n",
    "mat.sum()\n",
    "#both works"
   ],
   "execution_count":52,
   "outputs":[
    {
     "data":{
      "text\/plain":[
       "325"
      ]
     },
     "metadata":{
      
     },
     "output_type":"display_data"
    }
   ],
   "metadata":{
    "datalore":{
     "type":"CODE",
     "hide_input_from_viewers":false,
     "hide_output_from_viewers":false,
     "node_id":"IBHcRCCD2IEtbeJr875cpk"
    }
   }
  },
  {
   "cell_type":"code",
   "source":[
    "#print the standard deviation of all the values in mat\n",
    "np.std(mat)\n",
    "mat.std()\n",
    "#both works"
   ],
   "execution_count":54,
   "outputs":[
    {
     "data":{
      "text\/plain":[
       "7.211102550927978"
      ]
     },
     "metadata":{
      
     },
     "output_type":"display_data"
    }
   ],
   "metadata":{
    "datalore":{
     "type":"CODE",
     "hide_input_from_viewers":false,
     "hide_output_from_viewers":false,
     "node_id":"wSFdbPj1xnDSuV8TKz944Z"
    }
   }
  },
  {
   "cell_type":"code",
   "source":[
    "#get the sum of all columns in mat\n",
    "mat.sum(axis = 0)"
   ],
   "execution_count":60,
   "outputs":[
    {
     "data":{
      "text\/html":[
       
      ]
     },
     "metadata":{
      
     },
     "output_type":"display_data"
    }
   ],
   "metadata":{
    "datalore":{
     "type":"CODE",
     "hide_input_from_viewers":false,
     "hide_output_from_viewers":false,
     "node_id":"209tQg6Pqsm3Q134pZPK3d"
    }
   }
  },
  {
   "cell_type":"code",
   "source":[
    
   ],
   "execution_count":null,
   "outputs":[
    
   ],
   "metadata":{
    "datalore":{
     "type":"CODE",
     "hide_input_from_viewers":false,
     "hide_output_from_viewers":false,
     "node_id":"fdYeKfiwKKweJlfmTY3b2r"
    }
   }
  }
 ],
 "metadata":{
  "datalore":{
   "version":1,
   "computation_mode":"JUPYTER",
   "package_manager":"pip",
   "base_environment":"default",
   "packages":[
    
   ]
  }
 },
 "nbformat":4,
 "nbformat_minor":4
}