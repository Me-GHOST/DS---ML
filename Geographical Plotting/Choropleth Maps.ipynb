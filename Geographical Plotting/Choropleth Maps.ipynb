{
 "cells":[
  {
   "cell_type":"markdown",
   "source":[
    "# Choropleth Maps\n",
    "## Offline Plotly Usage\n",
    "Get imports and set everything up to be working offline."
   ],
   "attachments":{
    
   },
   "metadata":{
    "datalore":{
     "type":"MD",
     "hide_input_from_viewers":false,
     "hide_output_from_viewers":false
    }
   }
  },
  {
   "cell_type":"code",
   "source":[
    "import pandas as pd\n",
    "import plotly as py\n",
    "import plotly.graph_objs as go \n",
    "from plotly.offline import download_plotlyjs, init_notebook_mode, plot, iplot\n",
    "init_notebook_mode(connected = True)"
   ],
   "execution_count":84,
   "outputs":[
    {
     "data":{
      "text\/html":[
       "        <script type=\"text\/javascript\">\n",
       "        window.PlotlyConfig = {MathJaxConfig: 'local'};\n",
       "        if (window.MathJax) {MathJax.Hub.Config({SVG: {font: \"STIX-Web\"}});}\n",
       "        if (typeof require !== 'undefined') {\n",
       "        require.undef(\"plotly\");\n",
       "        requirejs.config({\n",
       "            paths: {\n",
       "                'plotly': ['https:\/\/cdn.plot.ly\/plotly-2.8.3.min']\n",
       "            }\n",
       "        });\n",
       "        require(['plotly'], function(Plotly) {\n",
       "            window._Plotly = Plotly;\n",
       "        });\n",
       "        }\n",
       "        <\/script>\n",
       "        "
      ]
     },
     "metadata":{
      
     },
     "output_type":"display_data"
    }
   ],
   "metadata":{
    "datalore":{
     "type":"CODE",
     "hide_input_from_viewers":false,
     "hide_output_from_viewers":false
    }
   }
  },
  {
   "cell_type":"markdown",
   "source":[
    "More info on other options for Offline Plotly usage can be found [here](https:\/\/plot.ly\/python\/offline\/)."
   ],
   "attachments":{
    
   },
   "metadata":{
    "datalore":{
     "type":"MD",
     "hide_input_from_viewers":false,
     "hide_output_from_viewers":false
    }
   }
  },
  {
   "cell_type":"markdown",
   "source":[
    "## Choropleth US Maps\n",
    "\n",
    "Plotly's mapping can be a bit hard to get used to at first, remember to reference the cheat sheet in the data visualization folder, or [find it online here](https:\/\/images.plot.ly\/plotly-documentation\/images\/python_cheat_sheet.pdf)."
   ],
   "attachments":{
    
   },
   "metadata":{
    "datalore":{
     "type":"MD",
     "hide_input_from_viewers":false,
     "hide_output_from_viewers":false
    }
   }
  },
  {
   "cell_type":"code",
   "source":[
    "data = dict(type = 'choropleth',\n",
    "            locations = ['AZ','CA','NY'],\n",
    "            locationmode = 'USA-states',\n",
    "            colorscale = 'Greens',\n",
    "            text = ['Arizona', 'California', 'New York'],\n",
    "            z= [1.0,2.0,3.0],\n",
    "            colorbar ={'title' : 'Colorbar Title Goes Here'})\n",
    "data"
   ],
   "execution_count":85,
   "outputs":[
    {
     "data":{
      "text\/plain":[
       "{'type': 'choropleth',\n",
       " 'locations': ['AZ', 'CA', 'NY'],\n",
       " 'locationmode': 'USA-states',\n",
       " 'colorscale': 'Greens',\n",
       " 'text': ['Arizona', 'California', 'New York'],\n",
       " 'z': [1.0, 2.0, 3.0],\n",
       " 'colorbar': {'title': 'Colorbar Title Goes Here'}}"
      ]
     },
     "metadata":{
      
     },
     "output_type":"display_data"
    }
   ],
   "metadata":{
    "datalore":{
     "type":"CODE",
     "hide_input_from_viewers":false,
     "hide_output_from_viewers":false
    }
   }
  },
  {
   "cell_type":"code",
   "source":[
    "layout = dict(geo ={'scope' : 'usa'})"
   ],
   "execution_count":86,
   "outputs":[
    
   ],
   "metadata":{
    "datalore":{
     "type":"CODE",
     "hide_input_from_viewers":false,
     "hide_output_from_viewers":false
    }
   }
  },
  {
   "cell_type":"code",
   "source":[
    "choromap = go.Figure(data = [data],layout=layout)"
   ],
   "execution_count":87,
   "outputs":[
    
   ],
   "metadata":{
    "datalore":{
     "type":"CODE",
     "hide_input_from_viewers":false,
     "hide_output_from_viewers":false
    }
   }
  },
  {
   "cell_type":"code",
   "source":[
    "iplot(choromap)"
   ],
   "execution_count":88,
   "outputs":[
    {
     "data":{
      "text\/plain":[
       "Unsupported"
      ]
     },
     "metadata":{
      
     },
     "output_type":"display_data"
    }
   ],
   "metadata":{
    "datalore":{
     "type":"CODE",
     "hide_input_from_viewers":false,
     "hide_output_from_viewers":false
    }
   }
  },
  {
   "cell_type":"markdown",
   "source":[
    "### Real Data US Map Choropleth\n",
    "\n",
    "Now let's show an example with some real data as well as some other options we can add to the dictionaries in data and layout."
   ],
   "attachments":{
    
   },
   "metadata":{
    "datalore":{
     "type":"MD",
     "hide_input_from_viewers":false,
     "hide_output_from_viewers":false
    }
   }
  },
  {
   "cell_type":"code",
   "source":[
    "df = pd.read_csv('2011_US_AGRI_Exports.csv')\n",
    "df.head()"
   ],
   "execution_count":89,
   "outputs":[
    {
     "data":{
      "text\/html":[
       "<div>\n",
       "<style scoped>\n",
       "    .dataframe tbody tr th:only-of-type {\n",
       "        vertical-align: middle;\n",
       "    }\n",
       "\n",
       "    .dataframe tbody tr th {\n",
       "        vertical-align: top;\n",
       "    }\n",
       "\n",
       "    .dataframe thead th {\n",
       "        text-align: right;\n",
       "    }\n",
       "<\/style>\n",
       "<table border=\"1\" class=\"dataframe\">\n",
       "  <thead>\n",
       "    <tr style=\"text-align: right;\">\n",
       "      <th><\/th>\n",
       "      <th>code<\/th>\n",
       "      <th>state<\/th>\n",
       "      <th>category<\/th>\n",
       "      <th>total exports<\/th>\n",
       "      <th>beef<\/th>\n",
       "      <th>pork<\/th>\n",
       "      <th>poultry<\/th>\n",
       "      <th>dairy<\/th>\n",
       "      <th>fruits fresh<\/th>\n",
       "      <th>fruits proc<\/th>\n",
       "      <th>total fruits<\/th>\n",
       "      <th>veggies fresh<\/th>\n",
       "      <th>veggies proc<\/th>\n",
       "      <th>total veggies<\/th>\n",
       "      <th>corn<\/th>\n",
       "      <th>wheat<\/th>\n",
       "      <th>cotton<\/th>\n",
       "      <th>text<\/th>\n",
       "    <\/tr>\n",
       "  <\/thead>\n",
       "  <tbody>\n",
       "    <tr>\n",
       "      <th>0<\/th>\n",
       "      <td>AL<\/td>\n",
       "      <td>Alabama<\/td>\n",
       "      <td>state<\/td>\n",
       "      <td>1390.63<\/td>\n",
       "      <td>34.4<\/td>\n",
       "      <td>10.6<\/td>\n",
       "      <td>481.0<\/td>\n",
       "      <td>4.06<\/td>\n",
       "      <td>8.0<\/td>\n",
       "      <td>17.1<\/td>\n",
       "      <td>25.11<\/td>\n",
       "      <td>5.5<\/td>\n",
       "      <td>8.9<\/td>\n",
       "      <td>14.33<\/td>\n",
       "      <td>34.9<\/td>\n",
       "      <td>70.0<\/td>\n",
       "      <td>317.61<\/td>\n",
       "      <td>Alabama&lt;br&gt;Beef 34.4 Dairy 4.06&lt;br&gt;Fruits 25.1...<\/td>\n",
       "    <\/tr>\n",
       "    <tr>\n",
       "      <th>1<\/th>\n",
       "      <td>AK<\/td>\n",
       "      <td>Alaska<\/td>\n",
       "      <td>state<\/td>\n",
       "      <td>13.31<\/td>\n",
       "      <td>0.2<\/td>\n",
       "      <td>0.1<\/td>\n",
       "      <td>0.0<\/td>\n",
       "      <td>0.19<\/td>\n",
       "      <td>0.0<\/td>\n",
       "      <td>0.0<\/td>\n",
       "      <td>0.00<\/td>\n",
       "      <td>0.6<\/td>\n",
       "      <td>1.0<\/td>\n",
       "      <td>1.56<\/td>\n",
       "      <td>0.0<\/td>\n",
       "      <td>0.0<\/td>\n",
       "      <td>0.00<\/td>\n",
       "      <td>Alaska&lt;br&gt;Beef 0.2 Dairy 0.19&lt;br&gt;Fruits 0.0 Ve...<\/td>\n",
       "    <\/tr>\n",
       "    <tr>\n",
       "      <th>2<\/th>\n",
       "      <td>AZ<\/td>\n",
       "      <td>Arizona<\/td>\n",
       "      <td>state<\/td>\n",
       "      <td>1463.17<\/td>\n",
       "      <td>71.3<\/td>\n",
       "      <td>17.9<\/td>\n",
       "      <td>0.0<\/td>\n",
       "      <td>105.48<\/td>\n",
       "      <td>19.3<\/td>\n",
       "      <td>41.0<\/td>\n",
       "      <td>60.27<\/td>\n",
       "      <td>147.5<\/td>\n",
       "      <td>239.4<\/td>\n",
       "      <td>386.91<\/td>\n",
       "      <td>7.3<\/td>\n",
       "      <td>48.7<\/td>\n",
       "      <td>423.95<\/td>\n",
       "      <td>Arizona&lt;br&gt;Beef 71.3 Dairy 105.48&lt;br&gt;Fruits 60...<\/td>\n",
       "    <\/tr>\n",
       "    <tr>\n",
       "      <th>3<\/th>\n",
       "      <td>AR<\/td>\n",
       "      <td>Arkansas<\/td>\n",
       "      <td>state<\/td>\n",
       "      <td>3586.02<\/td>\n",
       "      <td>53.2<\/td>\n",
       "      <td>29.4<\/td>\n",
       "      <td>562.9<\/td>\n",
       "      <td>3.53<\/td>\n",
       "      <td>2.2<\/td>\n",
       "      <td>4.7<\/td>\n",
       "      <td>6.88<\/td>\n",
       "      <td>4.4<\/td>\n",
       "      <td>7.1<\/td>\n",
       "      <td>11.45<\/td>\n",
       "      <td>69.5<\/td>\n",
       "      <td>114.5<\/td>\n",
       "      <td>665.44<\/td>\n",
       "      <td>Arkansas&lt;br&gt;Beef 53.2 Dairy 3.53&lt;br&gt;Fruits 6.8...<\/td>\n",
       "    <\/tr>\n",
       "    <tr>\n",
       "      <th>4<\/th>\n",
       "      <td>CA<\/td>\n",
       "      <td>California<\/td>\n",
       "      <td>state<\/td>\n",
       "      <td>16472.88<\/td>\n",
       "      <td>228.7<\/td>\n",
       "      <td>11.1<\/td>\n",
       "      <td>225.4<\/td>\n",
       "      <td>929.95<\/td>\n",
       "      <td>2791.8<\/td>\n",
       "      <td>5944.6<\/td>\n",
       "      <td>8736.40<\/td>\n",
       "      <td>803.2<\/td>\n",
       "      <td>1303.5<\/td>\n",
       "      <td>2106.79<\/td>\n",
       "      <td>34.6<\/td>\n",
       "      <td>249.3<\/td>\n",
       "      <td>1064.95<\/td>\n",
       "      <td>California&lt;br&gt;Beef 228.7 Dairy 929.95&lt;br&gt;Frui...<\/td>\n",
       "    <\/tr>\n",
       "  <\/tbody>\n",
       "<\/table>\n",
       "<\/div>"
      ]
     },
     "metadata":{
      
     },
     "output_type":"display_data"
    }
   ],
   "metadata":{
    "datalore":{
     "type":"CODE",
     "hide_input_from_viewers":false,
     "hide_output_from_viewers":false
    }
   }
  },
  {
   "cell_type":"markdown",
   "source":[
    "Now out data dictionary with some extra marker and colorbar arguments:"
   ],
   "attachments":{
    
   },
   "metadata":{
    "datalore":{
     "type":"MD",
     "hide_input_from_viewers":false,
     "hide_output_from_viewers":false
    }
   }
  },
  {
   "cell_type":"code",
   "source":[
    "data = dict(type='choropleth',\n",
    "            colorscale = 'pinkyl',\n",
    "            locations = df['code'],\n",
    "            locationmode = 'USA-states',\n",
    "            z = df['total exports'],\n",
    "            text = df['text'],\n",
    "            marker = dict(line = dict(color = 'rgb(0,0,0)',width = 1)),\n",
    "            colorbar = {'title' : 'Millions USD'})\n"
   ],
   "execution_count":90,
   "outputs":[
    
   ],
   "metadata":{
    "datalore":{
     "type":"CODE",
     "hide_input_from_viewers":false,
     "hide_output_from_viewers":false
    }
   }
  },
  {
   "cell_type":"code",
   "source":[
    "layout = dict(title = '2011 US Aggriculture Exports by States',\n",
    "              geo = dict(scope='usa',showlakes = True,lakecolor='rgb(85,173,240)'))\n",
    "layout"
   ],
   "execution_count":91,
   "outputs":[
    {
     "data":{
      "text\/plain":[
       "{'title': '2011 US Aggriculture Exports by States',\n",
       " 'geo': {'scope': 'usa', 'showlakes': True, 'lakecolor': 'rgb(85,173,240)'}}"
      ]
     },
     "metadata":{
      
     },
     "output_type":"display_data"
    }
   ],
   "metadata":{
    "datalore":{
     "type":"CODE",
     "hide_input_from_viewers":false,
     "hide_output_from_viewers":false
    }
   }
  },
  {
   "cell_type":"code",
   "source":[
    "choromap2 = go.Figure(data,layout)"
   ],
   "execution_count":92,
   "outputs":[
    
   ],
   "metadata":{
    "datalore":{
     "type":"CODE",
     "hide_input_from_viewers":false,
     "hide_output_from_viewers":false
    }
   }
  },
  {
   "cell_type":"code",
   "source":[
    "iplot(choromap2)\n",
    "\n",
    "# the spaces between states are there because of 'marker'\n",
    "# 'marker' color is set to while (255,255,255) or black(0,0,0) and width is 2"
   ],
   "execution_count":93,
   "outputs":[
    {
     "data":{
      "text\/plain":[
       "Unsupported"
      ]
     },
     "metadata":{
      
     },
     "output_type":"display_data"
    }
   ],
   "metadata":{
    "datalore":{
     "type":"CODE",
     "hide_input_from_viewers":false,
     "hide_output_from_viewers":false
    }
   }
  },
  {
   "cell_type":"markdown",
   "source":[
    "## For more Colorscale codes visit [here](https:\/\/plotly.com\/python\/builtin-colorscales\/)\n",
    "\n",
    "More Examples mentioned below"
   ],
   "attachments":{
    
   },
   "metadata":{
    "datalore":{
     "type":"MD",
     "hide_input_from_viewers":false,
     "hide_output_from_viewers":false
    }
   }
  },
  {
   "cell_type":"code",
   "source":[
    "py.colors.sequential.swatches_continuous()"
   ],
   "execution_count":94,
   "outputs":[
    {
     "data":{
      "text\/plain":[
       "Unsupported"
      ]
     },
     "metadata":{
      
     },
     "output_type":"display_data"
    }
   ],
   "metadata":{
    "datalore":{
     "type":"CODE",
     "hide_input_from_viewers":false,
     "hide_output_from_viewers":false
    }
   }
  },
  {
   "cell_type":"markdown",
   "source":[
    "# World Choropleth Map\n",
    "\n",
    "Now let's see an example with a World Map:"
   ],
   "attachments":{
    
   },
   "metadata":{
    "datalore":{
     "type":"MD",
     "hide_input_from_viewers":false,
     "hide_output_from_viewers":false
    }
   }
  },
  {
   "cell_type":"code",
   "source":[
    "df = pd.read_csv('2014_World_GDP.csv')\n",
    "df.head()"
   ],
   "execution_count":96,
   "outputs":[
    {
     "data":{
      "text\/html":[
       "<div>\n",
       "<style scoped>\n",
       "    .dataframe tbody tr th:only-of-type {\n",
       "        vertical-align: middle;\n",
       "    }\n",
       "\n",
       "    .dataframe tbody tr th {\n",
       "        vertical-align: top;\n",
       "    }\n",
       "\n",
       "    .dataframe thead th {\n",
       "        text-align: right;\n",
       "    }\n",
       "<\/style>\n",
       "<table border=\"1\" class=\"dataframe\">\n",
       "  <thead>\n",
       "    <tr style=\"text-align: right;\">\n",
       "      <th><\/th>\n",
       "      <th>COUNTRY<\/th>\n",
       "      <th>GDP (BILLIONS)<\/th>\n",
       "      <th>CODE<\/th>\n",
       "    <\/tr>\n",
       "  <\/thead>\n",
       "  <tbody>\n",
       "    <tr>\n",
       "      <th>0<\/th>\n",
       "      <td>Afghanistan<\/td>\n",
       "      <td>21.71<\/td>\n",
       "      <td>AFG<\/td>\n",
       "    <\/tr>\n",
       "    <tr>\n",
       "      <th>1<\/th>\n",
       "      <td>Albania<\/td>\n",
       "      <td>13.40<\/td>\n",
       "      <td>ALB<\/td>\n",
       "    <\/tr>\n",
       "    <tr>\n",
       "      <th>2<\/th>\n",
       "      <td>Algeria<\/td>\n",
       "      <td>227.80<\/td>\n",
       "      <td>DZA<\/td>\n",
       "    <\/tr>\n",
       "    <tr>\n",
       "      <th>3<\/th>\n",
       "      <td>American Samoa<\/td>\n",
       "      <td>0.75<\/td>\n",
       "      <td>ASM<\/td>\n",
       "    <\/tr>\n",
       "    <tr>\n",
       "      <th>4<\/th>\n",
       "      <td>Andorra<\/td>\n",
       "      <td>4.80<\/td>\n",
       "      <td>AND<\/td>\n",
       "    <\/tr>\n",
       "  <\/tbody>\n",
       "<\/table>\n",
       "<\/div>"
      ]
     },
     "metadata":{
      
     },
     "output_type":"display_data"
    }
   ],
   "metadata":{
    "datalore":{
     "type":"CODE",
     "hide_input_from_viewers":false,
     "hide_output_from_viewers":false
    }
   }
  },
  {
   "cell_type":"code",
   "source":[
    "data = dict(type = 'choropleth',\n",
    "            locations = df['CODE'],\n",
    "            z = df['GDP (BILLIONS)'],\n",
    "            text = df['COUNTRY'],\n",
    "            colorbar = {'title' : 'GDP in Billions USD'})"
   ],
   "execution_count":104,
   "outputs":[
    
   ],
   "metadata":{
    "datalore":{
     "type":"CODE",
     "hide_input_from_viewers":false,
     "hide_output_from_viewers":false
    }
   }
  },
  {
   "cell_type":"code",
   "source":[
    "layout = dict(title = '2014 Global GDP',\n",
    "              geo =dict(showframe = False,\n",
    "                        projection = {'type' : 'natural earth'}))\n",
    "layout"
   ],
   "execution_count":134,
   "outputs":[
    {
     "data":{
      "text\/plain":[
       "{'title': '2014 Global GDP',\n",
       " 'geo': {'showframe': False, 'projection': {'type': 'natural earth'}}}"
      ]
     },
     "metadata":{
      
     },
     "output_type":"display_data"
    }
   ],
   "metadata":{
    "datalore":{
     "type":"CODE",
     "hide_input_from_viewers":false,
     "hide_output_from_viewers":false
    }
   }
  },
  {
   "cell_type":"code",
   "source":[
    "choromap3 = go.Figure(data,layout)"
   ],
   "execution_count":135,
   "outputs":[
    
   ],
   "metadata":{
    "datalore":{
     "type":"CODE",
     "hide_input_from_viewers":false,
     "hide_output_from_viewers":false
    }
   }
  },
  {
   "cell_type":"code",
   "source":[
    "iplot(choromap3)"
   ],
   "execution_count":136,
   "outputs":[
    {
     "data":{
      "text\/plain":[
       "Unsupported"
      ]
     },
     "metadata":{
      
     },
     "output_type":"display_data"
    }
   ],
   "metadata":{
    "datalore":{
     "type":"CODE",
     "hide_input_from_viewers":false,
     "hide_output_from_viewers":false
    }
   }
  },
  {
   "cell_type":"markdown",
   "source":[
    "## Notice :\n",
    "### For all choropleth info in one single document check [this](https:\/\/plotly.com\/python\/reference\/#choropleth) out !"
   ],
   "attachments":{
    
   },
   "metadata":{
    "datalore":{
     "type":"MD",
     "hide_input_from_viewers":false,
     "hide_output_from_viewers":false
    }
   }
  },
  {
   "cell_type":"markdown",
   "source":[
    "# Well Done !"
   ],
   "attachments":{
    
   },
   "metadata":{
    "datalore":{
     "type":"MD",
     "hide_input_from_viewers":false,
     "hide_output_from_viewers":false
    }
   }
  }
 ],
 "metadata":{
  "datalore":{
   "version":1,
   "computation_mode":"JUPYTER",
   "package_manager":"pip",
   "base_environment":"default",
   "packages":[
    
   ]
  }
 },
 "nbformat":4,
 "nbformat_minor":4
}